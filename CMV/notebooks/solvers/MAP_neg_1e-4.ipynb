{
 "cells": [
  {
   "cell_type": "code",
   "execution_count": 1,
   "metadata": {},
   "outputs": [],
   "source": [
    "# Handle table-like data and matrices\n",
    "import numpy as np\n",
    "import pandas as pd\n",
    "\n",
    "# Helpers\n",
    "import os\n",
    "import sys\n",
    "sys.path.insert(0,'../')\n",
    "from utils import data_path, raw_train_data_path, raw_test_data_path\n",
    "from scipy.special import digamma,betaln\n",
    "import time\n",
    "\n",
    "# Prediction\n",
    "from math import log\n",
    "from scipy.special import beta, comb\n",
    "from math import exp\n",
    "\n",
    "from sklearn.metrics import accuracy_score, roc_curve, roc_auc_score,confusion_matrix\n",
    "from sklearn.model_selection import LeaveOneOut,KFold\n",
    "\n",
    "# Visualisation\n",
    "import matplotlib.pyplot as plt\n",
    "import seaborn as sns\n",
    "plt.style.use('ggplot')\n",
    "%matplotlib inline\n",
    "\n",
    "# import plotly\n",
    "# plotly.tools.set_credentials_file(username='tracyqin326', api_key='EICCf5vuIzI5hVfA4gYC')\n",
    "# import plotly.plotly as py\n",
    "# import plotly.graph_objs as go\n",
    "\n",
    "# Ignore warnings\n",
    "import warnings\n",
    "warnings.filterwarnings('ignore')"
   ]
  },
  {
   "cell_type": "markdown",
   "metadata": {},
   "source": [
    "## Model"
   ]
  },
  {
   "cell_type": "markdown",
   "metadata": {},
   "source": [
    "### Class-Wise Priors"
   ]
  },
  {
   "cell_type": "markdown",
   "metadata": {},
   "source": [
    "#### Gradient ascent\n",
    "\n",
    "gradient ascent methods were used to determine the class-wise beta priors (Maximizing the objective functions (log likellihood dropping terms dependent only on the data)  "
   ]
  },
  {
   "cell_type": "code",
   "execution_count": 2,
   "metadata": {},
   "outputs": [],
   "source": [
    "# objective function that to be maximized\n",
    "def objective(n,k,indices,N_class,a,b):\n",
    "    \n",
    "#     n = df['unique_TCRs'].tolist()\n",
    "#     k = df['CMV_associated_TCRs'].tolist()\n",
    "#     indices = df[df['CMV_status']==_class].index\n",
    "#     N_class = len(indices)\n",
    "    \n",
    "    sum_log_beta = 0\n",
    "    for i in indices:\n",
    "#         sum_log_beta += log(beta(k[i]+a,n[i]-k[i]+b))\n",
    "        sum_log_beta += betaln(k[i]+a,n[i]-k[i]+b)\n",
    "#     objective = -N_class*log(beta(a,b))+sum_log_beta\n",
    "    objective = -N_class*betaln(a,b)+sum_log_beta\n",
    "    \n",
    "    return objective\n",
    "\n",
    "def objective_norm(df,_class,a,b):\n",
    "    \n",
    "    n = df['unique_TCRs'].tolist()\n",
    "    k = df['CMV_associated_TCRs'].tolist()\n",
    "    indices_0 = df[df['CMV_status']==0].index\n",
    "    indices_1 = df[df['CMV_status']==1].index\n",
    "    N_0 = len(indices_0)\n",
    "    N_1 = len(indices_1)\n",
    "    \n",
    "    obj_c0 = objective(n,k,indices_0,N_0,a,b)\n",
    "    obj_c1 = objective(n,k,indices_1,N_1,a,b)\n",
    "    obj = [obj_c0,obj_c1]\n",
    "    \n",
    "    obj_norm = obj[_class]/(obj[0]+obj[1])\n",
    "    \n",
    "    return obj_norm\n",
    "\n",
    "# gradient ascent to maximizing the objective function\n",
    "def gradient_ascent(a,b,df,_class,learning_rate,precision,max_iterations):\n",
    "\n",
    "    df.reset_index(drop=True,inplace=True)\n",
    "    a_list = []\n",
    "    b_list = []\n",
    "    obj = []\n",
    "    \n",
    "    old_a = a+precision-1\n",
    "    old_b = b+precision-1\n",
    "    iterations = 0\n",
    "    \n",
    "    n = df['unique_TCRs'].tolist()\n",
    "    k = df['CMV_associated_TCRs'].tolist()\n",
    "    indices = df[df['CMV_status']==_class].index\n",
    "    N_class = len(indices)\n",
    "    \n",
    "    while abs(a-old_a)>precision or abs(b-old_b)>precision:\n",
    "        \n",
    "        old_a = a\n",
    "        old_b = b\n",
    "        sum_a = 0\n",
    "        sum_b = 0\n",
    "        obj.append(objective_norm(df,_class,a,b))\n",
    "\n",
    "        for index in indices:\n",
    "            sum_a += digamma(k[index]+a)-digamma(n[index]+k[index]+a+b)\n",
    "            sum_b += digamma(n[index]-k[index]+b)-digamma(n[index]+k[index]+a+b)\n",
    "        \n",
    "        gradient_a = -N_class*(digamma(a)-digamma(a+b))+sum_a\n",
    "        gradient_b = -N_class*(digamma(b)-digamma(a+b))+sum_b\n",
    "    \n",
    "        a += learning_rate*gradient_a\n",
    "        b += learning_rate*gradient_b\n",
    "            \n",
    "        a_list.append(a)\n",
    "        b_list.append(b)\n",
    "        \n",
    "        iterations += 1\n",
    "        if iterations == max_iterations:\n",
    "            break\n",
    "    \n",
    "    if iterations == max_iterations:\n",
    "        print('Go through the max %d iterations'%(max_iterations))\n",
    "    else:\n",
    "        print('Go trhough %d iterations'%(iterations))\n",
    "        \n",
    "    print('Parameter a and b:',a,b)\n",
    "    \n",
    "    return a,b,a_list,b_list,obj"
   ]
  },
  {
   "cell_type": "markdown",
   "metadata": {},
   "source": [
    "#### Determine parameters of class-wise beta priors"
   ]
  },
  {
   "cell_type": "code",
   "execution_count": 5,
   "metadata": {
    "scrolled": false
   },
   "outputs": [
    {
     "data": {
      "text/html": [
       "<div>\n",
       "<style scoped>\n",
       "    .dataframe tbody tr th:only-of-type {\n",
       "        vertical-align: middle;\n",
       "    }\n",
       "\n",
       "    .dataframe tbody tr th {\n",
       "        vertical-align: top;\n",
       "    }\n",
       "\n",
       "    .dataframe thead th {\n",
       "        text-align: right;\n",
       "    }\n",
       "</style>\n",
       "<table border=\"1\" class=\"dataframe\">\n",
       "  <thead>\n",
       "    <tr style=\"text-align: right;\">\n",
       "      <th></th>\n",
       "      <th>sample_name</th>\n",
       "      <th>unique_TCRs</th>\n",
       "      <th>CMV_status</th>\n",
       "      <th>1e-06</th>\n",
       "      <th>1e-05</th>\n",
       "      <th>0.0001</th>\n",
       "      <th>0.001</th>\n",
       "      <th>0.01</th>\n",
       "      <th>0.1</th>\n",
       "    </tr>\n",
       "  </thead>\n",
       "  <tbody>\n",
       "    <tr>\n",
       "      <th>0</th>\n",
       "      <td>HIP09097</td>\n",
       "      <td>123638</td>\n",
       "      <td>0</td>\n",
       "      <td>0</td>\n",
       "      <td>0</td>\n",
       "      <td>3</td>\n",
       "      <td>29</td>\n",
       "      <td>277</td>\n",
       "      <td>3569</td>\n",
       "    </tr>\n",
       "    <tr>\n",
       "      <th>1</th>\n",
       "      <td>HIP05561</td>\n",
       "      <td>153097</td>\n",
       "      <td>0</td>\n",
       "      <td>0</td>\n",
       "      <td>1</td>\n",
       "      <td>4</td>\n",
       "      <td>42</td>\n",
       "      <td>339</td>\n",
       "      <td>4189</td>\n",
       "    </tr>\n",
       "    <tr>\n",
       "      <th>2</th>\n",
       "      <td>HIP13856</td>\n",
       "      <td>277546</td>\n",
       "      <td>1</td>\n",
       "      <td>0</td>\n",
       "      <td>1</td>\n",
       "      <td>2</td>\n",
       "      <td>26</td>\n",
       "      <td>187</td>\n",
       "      <td>2538</td>\n",
       "    </tr>\n",
       "    <tr>\n",
       "      <th>3</th>\n",
       "      <td>HIP05398</td>\n",
       "      <td>218577</td>\n",
       "      <td>0</td>\n",
       "      <td>0</td>\n",
       "      <td>1</td>\n",
       "      <td>8</td>\n",
       "      <td>64</td>\n",
       "      <td>477</td>\n",
       "      <td>6057</td>\n",
       "    </tr>\n",
       "    <tr>\n",
       "      <th>4</th>\n",
       "      <td>HIP13975</td>\n",
       "      <td>286379</td>\n",
       "      <td>1</td>\n",
       "      <td>0</td>\n",
       "      <td>0</td>\n",
       "      <td>1</td>\n",
       "      <td>27</td>\n",
       "      <td>222</td>\n",
       "      <td>2636</td>\n",
       "    </tr>\n",
       "  </tbody>\n",
       "</table>\n",
       "</div>"
      ],
      "text/plain": [
       "  sample_name  unique_TCRs  CMV_status  1e-06  1e-05  0.0001  0.001  0.01  \\\n",
       "0    HIP09097       123638           0      0      0       3     29   277   \n",
       "1    HIP05561       153097           0      0      1       4     42   339   \n",
       "2    HIP13856       277546           1      0      1       2     26   187   \n",
       "3    HIP05398       218577           0      0      1       8     64   477   \n",
       "4    HIP13975       286379           1      0      0       1     27   222   \n",
       "\n",
       "    0.1  \n",
       "0  3569  \n",
       "1  4189  \n",
       "2  2538  \n",
       "3  6057  \n",
       "4  2636  "
      ]
     },
     "execution_count": 5,
     "metadata": {},
     "output_type": "execute_result"
    }
   ],
   "source": [
    "#Load statistics of TCRs of training set\n",
    "train = pd.read_csv('../data/'+'CMV/MAP_estimator/'+'train_neg.csv')\n",
    "train.head()"
   ]
  },
  {
   "cell_type": "markdown",
   "metadata": {},
   "source": [
    "### threshold = 0.0001"
   ]
  },
  {
   "cell_type": "code",
   "execution_count": 6,
   "metadata": {
    "scrolled": true
   },
   "outputs": [],
   "source": [
    "statistics_TCRs_train = train.drop(['1e-06','1e-05','0.001','0.01','0.1'],axis=1)\n",
    "statistics_TCRs_train.rename(index=str, columns={'0.0001':'CMV_associated_TCRs' },inplace=True)"
   ]
  },
  {
   "cell_type": "code",
   "execution_count": 8,
   "metadata": {},
   "outputs": [
    {
     "data": {
      "text/plain": [
       "unique_TCRs            193665.992200\n",
       "CMV_status                  0.450858\n",
       "CMV_associated_TCRs         3.700468\n",
       "dtype: float64"
      ]
     },
     "execution_count": 8,
     "metadata": {},
     "output_type": "execute_result"
    }
   ],
   "source": [
    "statistics_TCRs_train.mean()"
   ]
  },
  {
   "cell_type": "code",
   "execution_count": 9,
   "metadata": {
    "scrolled": true
   },
   "outputs": [
    {
     "data": {
      "text/plain": [
       "unique_TCRs            80495.702609\n",
       "CMV_status                 0.497968\n",
       "CMV_associated_TCRs        2.516970\n",
       "dtype: float64"
      ]
     },
     "execution_count": 9,
     "metadata": {},
     "output_type": "execute_result"
    }
   ],
   "source": [
    "statistics_TCRs_train.std()"
   ]
  },
  {
   "cell_type": "code",
   "execution_count": 10,
   "metadata": {},
   "outputs": [
    {
     "data": {
      "text/plain": [
       "unique_TCRs            198229.846591\n",
       "CMV_status                  0.000000\n",
       "CMV_associated_TCRs         4.997159\n",
       "dtype: float64"
      ]
     },
     "execution_count": 10,
     "metadata": {},
     "output_type": "execute_result"
    }
   ],
   "source": [
    "statistics_TCRs_train[statistics_TCRs_train.CMV_status==0].mean()"
   ]
  },
  {
   "cell_type": "code",
   "execution_count": 11,
   "metadata": {},
   "outputs": [
    {
     "data": {
      "text/plain": [
       "unique_TCRs            188107.249135\n",
       "CMV_status                  1.000000\n",
       "CMV_associated_TCRs         2.121107\n",
       "dtype: float64"
      ]
     },
     "execution_count": 11,
     "metadata": {},
     "output_type": "execute_result"
    }
   ],
   "source": [
    "statistics_TCRs_train[statistics_TCRs_train.CMV_status==1].mean()"
   ]
  },
  {
   "cell_type": "code",
   "execution_count": 12,
   "metadata": {},
   "outputs": [],
   "source": [
    "train_X = statistics_TCRs_train.drop(['sample_name','CMV_status'],axis=1)\n",
    "train_y = statistics_TCRs_train['CMV_status'] "
   ]
  },
  {
   "cell_type": "code",
   "execution_count": 13,
   "metadata": {
    "scrolled": false
   },
   "outputs": [
    {
     "data": {
      "text/plain": [
       "Text(0.5,1,'CMV-status classification')"
      ]
     },
     "execution_count": 13,
     "metadata": {},
     "output_type": "execute_result"
    },
    {
     "data": {
      "image/png": "[encoded data removed]",
      "text/plain": [
       "<Figure size 360x360 with 1 Axes>"
      ]
     },
     "metadata": {},
     "output_type": "display_data"
    }
   ],
   "source": [
    "lm = sns.lmplot(data=statistics_TCRs_train,x='unique_TCRs',y='CMV_associated_TCRs',\n",
    "                           hue='CMV_status',fit_reg=False,legend=True,legend_out=False)\n",
    "ax = plt.gca()\n",
    "ax.set_title('CMV-status classification')"
   ]
  },
  {
   "cell_type": "code",
   "execution_count": 14,
   "metadata": {},
   "outputs": [],
   "source": [
    "# paramter initialization\n",
    "# params_c0 = [25,2800000]\n",
    "# params_c1 = [3,50000]\n",
    "a = [27,27]\n",
    "b = [1400000,2800000]"
   ]
  },
  {
   "cell_type": "code",
   "execution_count": 15,
   "metadata": {
    "scrolled": false
   },
   "outputs": [
    {
     "name": "stdout",
     "output_type": "stream",
     "text": [
      "Go through the max 10000 iterations\n",
      "Parameter a and b: 35.64264490958462 1399999.8910777008\n",
      "Time: 46.38416814804077\n"
     ]
    }
   ],
   "source": [
    "start = time.time()\n",
    "a0,b0,a0_list,b0_list,obj_0 = gradient_ascent(a[0],b[0],statistics_TCRs_train,0,1e-2,1e-6,10000)\n",
    "end = time.time()\n",
    "print('Time:',(end-start))"
   ]
  },
  {
   "cell_type": "code",
   "execution_count": 16,
   "metadata": {
    "scrolled": true
   },
   "outputs": [
    {
     "name": "stdout",
     "output_type": "stream",
     "text": [
      "Go through the max 10000 iterations\n",
      "Parameter a and b: 31.753832021243305 2799999.9795267023\n",
      "Time: 42.56839919090271\n"
     ]
    }
   ],
   "source": [
    "start = time.time()\n",
    "a1,b1,a1_list,b1_list,obj_1 = gradient_ascent(a[1],b[1],statistics_TCRs_train,1,1e-2,1e-6,10000)\n",
    "end = time.time()\n",
    "print('Time:',(end-start))"
   ]
  },
  {
   "cell_type": "code",
   "execution_count": null,
   "metadata": {
    "collapsed": true,
    "scrolled": false
   },
   "outputs": [],
   "source": [
    "# fig,axes = plt.subplots(2,2,figsize=(12,4))\n",
    "# axes[0][0].plot(a0_list)\n",
    "# axes[0][0].set_xlabel('iteration')\n",
    "# axes[0][0].set_ylabel('a0')\n",
    "\n",
    "# axes[0][1].plot(b0_list)\n",
    "# axes[0][1].set_xlabel('iteration')\n",
    "# axes[0][1].set_ylabel('b0')\n",
    "\n",
    "# axes[1][0].plot(a1_list)\n",
    "# axes[1][0].set_xlabel('iteration')\n",
    "# axes[1][0].set_ylabel('a1')\n",
    "\n",
    "# axes[1][1].plot(b1_list)\n",
    "# axes[1][1].set_xlabel('iteration')\n",
    "# axes[1][1].set_ylabel('b1')"
   ]
  },
  {
   "cell_type": "code",
   "execution_count": null,
   "metadata": {
    "collapsed": true
   },
   "outputs": [],
   "source": [
    "# fig,axes = plt.subplots(1,2,figsize=(12,4))\n",
    "# axes[0].plot(obj_0)\n",
    "# axes[1].plot(obj_1)"
   ]
  },
  {
   "cell_type": "code",
   "execution_count": 17,
   "metadata": {
    "scrolled": true
   },
   "outputs": [
    {
     "name": "stdout",
     "output_type": "stream",
     "text": [
      "[35.64264490958462, 31.753832021243305]\n",
      "[1399999.8910777008, 2799999.9795267023]\n"
     ]
    }
   ],
   "source": [
    "# parameters of beta priors\n",
    "a = [a0,a1]\n",
    "b = [b0,b1]\n",
    "\n",
    "print(a)\n",
    "print(b)"
   ]
  },
  {
   "cell_type": "markdown",
   "metadata": {},
   "source": [
    "### Posterior\n",
    "\n",
    "A decision function is defined by a threshold θ on the log-posterior odds ratio for class assignment "
   ]
  },
  {
   "cell_type": "code",
   "execution_count": 18,
   "metadata": {},
   "outputs": [],
   "source": [
    "# decision function\n",
    "def predict(df,a,b,k,n):\n",
    "    \n",
    "    CMV_status_counts = df['CMV_status'].value_counts()\n",
    "    N = [CMV_status_counts[0],CMV_status_counts[1]]\n",
    "    \n",
    "#     F = log(N[1]+1)-log(N[0]+1)+log(beta(a[0],b[0]))-log(beta(a[1],b[1]))+\\\n",
    "#         log(beta(k+a[1],n-k+b[1]))-log(beta(k+a[0],n-k+b[0]))\n",
    "    F = log(N[1]+1)-log(N[0]+1)+betaln(a[0],b[0])-betaln(a[1],b[1])+\\\n",
    "        betaln(k+a[1],n-k+b[1])-betaln(k+a[0],n-k+b[0])\n",
    "        \n",
    "    if F<=0:\n",
    "        predict = 0\n",
    "    else:\n",
    "        predict = 1\n",
    "    \n",
    "    return predict\n",
    "\n",
    "\n",
    "# posterior probability\n",
    "def posterior_prob(df,_class,a_class,b_class,n,k):\n",
    "    \n",
    "    N_total = len(df)\n",
    "    N_class = len(df[df['CMV_status']==_class])\n",
    "    \n",
    "    p = comb(n,k) * (beta(k+a_class,n-k+b_class)/beta(a_class,b_class)) * ((N_class+1)/(N_total+2))\n",
    "    \n",
    "    return p\n",
    "\n",
    "# posterior probability with normalizaiton\n",
    "def post_prob_norm(df,_class,a,b,n,k):\n",
    "    \n",
    "    p_pos = posterior_prob(df,1,a[1],b[1],n,k)\n",
    "    p_neg = posterior_prob(df,0,a[0],b[0],n,k)\n",
    "    p = [p_neg,p_pos]\n",
    "    \n",
    "    p_class_norm = p[_class]/(p[0]+p[1])\n",
    "    \n",
    "    return p_class_norm"
   ]
  },
  {
   "cell_type": "markdown",
   "metadata": {},
   "source": [
    "## Prediction"
   ]
  },
  {
   "cell_type": "markdown",
   "metadata": {},
   "source": [
    "### Training set"
   ]
  },
  {
   "cell_type": "markdown",
   "metadata": {},
   "source": [
    "**accuracy score**"
   ]
  },
  {
   "cell_type": "code",
   "execution_count": 19,
   "metadata": {},
   "outputs": [
    {
     "name": "stdout",
     "output_type": "stream",
     "text": [
      "accuracy score: 0.750390015600624\n"
     ]
    }
   ],
   "source": [
    "train_pred = [predict(statistics_TCRs_train,a,b,row['CMV_associated_TCRs'],row['unique_TCRs']) \n",
    "           for _,row in statistics_TCRs_train.iterrows()]\n",
    "\n",
    "train_y = statistics_TCRs_train['CMV_status']\n",
    "\n",
    "print('accuracy score:',accuracy_score(train_y,train_pred))"
   ]
  },
  {
   "cell_type": "markdown",
   "metadata": {},
   "source": [
    "**AUROC**"
   ]
  },
  {
   "cell_type": "code",
   "execution_count": 20,
   "metadata": {
    "scrolled": true
   },
   "outputs": [
    {
     "name": "stdout",
     "output_type": "stream",
     "text": [
      "roc_auc_score: 0.8414497483485373\n"
     ]
    }
   ],
   "source": [
    "train_post_pos = [post_prob_norm(statistics_TCRs_train,1,a,b,row['unique_TCRs'],row['CMV_associated_TCRs']) \n",
    "         for _,row in statistics_TCRs_train.iterrows()]\n",
    "\n",
    "fpr_train,tpr_train,thresholds_train = roc_curve(train_y,train_post_pos,pos_label=1)\n",
    "print('roc_auc_score:',roc_auc_score(train_y,train_post_pos))"
   ]
  },
  {
   "cell_type": "markdown",
   "metadata": {},
   "source": [
    "**Cross Validation**"
   ]
  },
  {
   "cell_type": "code",
   "execution_count": 21,
   "metadata": {},
   "outputs": [],
   "source": [
    "# loo = LeaveOneOut()\n",
    "\n",
    "# cv_post_pos = []\n",
    "# cv_y = []\n",
    "\n",
    "# for train_index,test_index in loo.split(statistics_TCRs_train):\n",
    "#     train, test = statistics_TCRs_train.iloc[train_index], statistics_TCRs_train.iloc[test_index]\n",
    "#     post_pos = post_prob_norm(train,1,a,b,test['unique_TCRs'].tolist()[0],test['CMV_associated_TCRs'].tolist()[0])\n",
    "#     cv_post_pos.append(post_pos)\n",
    "#     cv_y.append(test['CMV_status'].tolist()[0])\n",
    "\n",
    "# fpr_cv,tpr_cv,thresholds_cv = roc_curve(cv_y,cv_post_pos,pos_label=1)\n",
    "# print('roc_auc_score:',roc_auc_score(cv_y,cv_post_pos))"
   ]
  },
  {
   "cell_type": "code",
   "execution_count": null,
   "metadata": {
    "scrolled": true
   },
   "outputs": [],
   "source": [
    "loo = LeaveOneOut()\n",
    "\n",
    "cv_post_pos = []\n",
    "cv_y = []\n",
    "\n",
    "\n",
    "\n",
    "for train_index,test_index in loo.split(statistics_TCRs_train):\n",
    "    train, test = statistics_TCRs_train.iloc[train_index], statistics_TCRs_train.iloc[test_index]\n",
    "    \n",
    "    a = [26,3]\n",
    "    b = [2800000,50000]\n",
    "    \n",
    "    a0,b0,a0_list,b0_list,obj_0 = gradient_ascent(a[0],b[0],train,0,1e-2,1e-6,10000)\n",
    "    a1,b1,a1_list,b1_list,obj_1 = gradient_ascent(a[1],b[1],train,1,1e-2,1e-6,10000)\n",
    "    \n",
    "    a = [a0,a1]\n",
    "    b = [b0,b1]\n",
    "    \n",
    "    post_pos = post_prob_norm(train,1,a,b,test['unique_TCRs'].tolist()[0],test['CMV_associated_TCRs'].tolist()[0])\n",
    "    \n",
    "    cv_post_pos.append(post_pos)\n",
    "    cv_y.append(test['CMV_status'].tolist()[0])\n",
    "\n",
    "fpr_cv,tpr_cv,thresholds_cv = roc_curve(cv_y,cv_post_pos,pos_label=1)\n",
    "print('roc_auc_score:',roc_auc_score(cv_y,cv_post_pos))"
   ]
  },
  {
   "cell_type": "code",
   "execution_count": 16,
   "metadata": {},
   "outputs": [
    {
     "name": "stdout",
     "output_type": "stream",
     "text": [
      "Go through the max 50000 iterations\n",
      "Parameter a and b: 27.115739803003258 2799999.9021306266\n",
      "Go through the max 50000 iterations\n",
      "Parameter a and b: 3.928530461106904 49992.15164906263\n",
      "Go through the max 50000 iterations\n",
      "Parameter a and b: 26.643502733517828 2799999.902926918\n",
      "Go through the max 50000 iterations\n",
      "Parameter a and b: 3.9986456064313023 49992.09296299538\n",
      "Go through the max 50000 iterations\n",
      "Parameter a and b: 27.58162931542779 2799999.898679848\n",
      "Go through the max 50000 iterations\n",
      "Parameter a and b: 3.8847281122420965 49992.39284417966\n",
      "Go through the max 50000 iterations\n",
      "Parameter a and b: 27.130646439120696 2799999.897567155\n",
      "Go through the max 50000 iterations\n",
      "Parameter a and b: 3.874857433725592 49992.538014763355\n",
      "Go through the max 50000 iterations\n",
      "Parameter a and b: 26.318302204858252 2799999.90199871\n",
      "Go through the max 50000 iterations\n",
      "Parameter a and b: 3.846367246616699 49992.41357064455\n",
      "Go through the max 50000 iterations\n",
      "Parameter a and b: 26.68309103414144 2799999.9011105406\n",
      "Go through the max 50000 iterations\n",
      "Parameter a and b: 3.801732976385671 49992.64483172717\n",
      "Go through the max 50000 iterations\n",
      "Parameter a and b: 27.21437546382325 2799999.8994289692\n",
      "Go through the max 50000 iterations\n",
      "Parameter a and b: 3.8583839508335918 49992.350460742906\n",
      "Go through the max 50000 iterations\n",
      "Parameter a and b: 26.858908450150544 2799999.89784921\n",
      "Go through the max 50000 iterations\n",
      "Parameter a and b: 3.8768638324356184 49992.731115148716\n",
      "Go through the max 50000 iterations\n",
      "Parameter a and b: 27.058695986761123 2799999.9006412183\n",
      "Go through the max 50000 iterations\n",
      "Parameter a and b: 3.8752051362503406 49992.41345734732\n",
      "Go through the max 50000 iterations\n",
      "Parameter a and b: 26.7165907716884 2799999.9015059485\n",
      "Go through the max 50000 iterations\n",
      "Parameter a and b: 3.9934089624647036 49992.03382022529\n",
      "mean cv auroc: 0.9875499976089219\n",
      "mean cv acc: 0.9641826923076924\n"
     ]
    }
   ],
   "source": [
    "cv_auroc = []\n",
    "cv_acc = []\n",
    "kf = KFold(n_splits=10,random_state=0)\n",
    "for train_index,test_index in kf.split(statistics_TCRs_train):\n",
    "    a = [26,3]\n",
    "    b = [2800000,50000]\n",
    "    train_cv, test_cv = statistics_TCRs_train.iloc[train_index], statistics_TCRs_train.iloc[test_index]\n",
    "    \n",
    "    a0,b0,a0_list,b0_list,obj_0 = gradient_ascent(a[0],b[0],train_cv,0,1e-2,1e-6,50000)\n",
    "    a1,b1,a1_list,b1_list,obj_1 = gradient_ascent(a[1],b[1],train_cv,1,1e-2,1e-6,50000)\n",
    "    \n",
    "    a = [a0,a1]\n",
    "    b = [b0,b1]\n",
    "    test_y = test_cv['CMV_status']\n",
    "    \n",
    "    test_post_pos = [post_prob_norm(train_cv,1,a,b,row['unique_TCRs'],row['CMV_associated_TCRs']) \n",
    "         for _,row in test_cv.iterrows()]\n",
    "    \n",
    "    test_pred = [predict(train_cv,a,b,row['CMV_associated_TCRs'],row['unique_TCRs']) \n",
    "           for _,row in test_cv.iterrows()]\n",
    "\n",
    "    cv_auroc.append(roc_auc_score(test_y,test_post_pos))\n",
    "    cv_acc.append(accuracy_score(test_y,test_pred))\n",
    "print('mean cv auroc:',np.mean(cv_auroc))\n",
    "print('mean cv acc:',np.mean(cv_acc))"
   ]
  },
  {
   "cell_type": "markdown",
   "metadata": {},
   "source": [
    "### Testing set"
   ]
  },
  {
   "cell_type": "code",
   "execution_count": 23,
   "metadata": {
    "scrolled": true
   },
   "outputs": [
    {
     "data": {
      "text/html": [
       "<div>\n",
       "<style scoped>\n",
       "    .dataframe tbody tr th:only-of-type {\n",
       "        vertical-align: middle;\n",
       "    }\n",
       "\n",
       "    .dataframe tbody tr th {\n",
       "        vertical-align: top;\n",
       "    }\n",
       "\n",
       "    .dataframe thead th {\n",
       "        text-align: right;\n",
       "    }\n",
       "</style>\n",
       "<table border=\"1\" class=\"dataframe\">\n",
       "  <thead>\n",
       "    <tr style=\"text-align: right;\">\n",
       "      <th></th>\n",
       "      <th>sample_name</th>\n",
       "      <th>unique_TCRs</th>\n",
       "      <th>CMV_status</th>\n",
       "      <th>CMV_associated_TCRs</th>\n",
       "    </tr>\n",
       "  </thead>\n",
       "  <tbody>\n",
       "    <tr>\n",
       "      <th>0</th>\n",
       "      <td>Keck0113_MC1</td>\n",
       "      <td>462884</td>\n",
       "      <td>0</td>\n",
       "      <td>7</td>\n",
       "    </tr>\n",
       "    <tr>\n",
       "      <th>1</th>\n",
       "      <td>Keck0048_MC1</td>\n",
       "      <td>136737</td>\n",
       "      <td>0</td>\n",
       "      <td>5</td>\n",
       "    </tr>\n",
       "    <tr>\n",
       "      <th>2</th>\n",
       "      <td>Keck0004_MC1</td>\n",
       "      <td>124450</td>\n",
       "      <td>1</td>\n",
       "      <td>2</td>\n",
       "    </tr>\n",
       "    <tr>\n",
       "      <th>3</th>\n",
       "      <td>Keck0035_MC1</td>\n",
       "      <td>105739</td>\n",
       "      <td>1</td>\n",
       "      <td>3</td>\n",
       "    </tr>\n",
       "    <tr>\n",
       "      <th>4</th>\n",
       "      <td>Keck0066_MC1</td>\n",
       "      <td>124756</td>\n",
       "      <td>0</td>\n",
       "      <td>2</td>\n",
       "    </tr>\n",
       "    <tr>\n",
       "      <th>5</th>\n",
       "      <td>Keck0105_MC1</td>\n",
       "      <td>294290</td>\n",
       "      <td>0</td>\n",
       "      <td>5</td>\n",
       "    </tr>\n",
       "    <tr>\n",
       "      <th>6</th>\n",
       "      <td>Keck0086_MC1</td>\n",
       "      <td>200058</td>\n",
       "      <td>0</td>\n",
       "      <td>7</td>\n",
       "    </tr>\n",
       "    <tr>\n",
       "      <th>7</th>\n",
       "      <td>Keck0016_MC1</td>\n",
       "      <td>120836</td>\n",
       "      <td>0</td>\n",
       "      <td>7</td>\n",
       "    </tr>\n",
       "    <tr>\n",
       "      <th>8</th>\n",
       "      <td>Keck0108_MC1</td>\n",
       "      <td>143542</td>\n",
       "      <td>1</td>\n",
       "      <td>2</td>\n",
       "    </tr>\n",
       "    <tr>\n",
       "      <th>9</th>\n",
       "      <td>Keck0090_MC1</td>\n",
       "      <td>220699</td>\n",
       "      <td>1</td>\n",
       "      <td>6</td>\n",
       "    </tr>\n",
       "    <tr>\n",
       "      <th>10</th>\n",
       "      <td>Keck0002_MC1</td>\n",
       "      <td>90925</td>\n",
       "      <td>0</td>\n",
       "      <td>2</td>\n",
       "    </tr>\n",
       "    <tr>\n",
       "      <th>11</th>\n",
       "      <td>Keck0015_MC1</td>\n",
       "      <td>114763</td>\n",
       "      <td>1</td>\n",
       "      <td>5</td>\n",
       "    </tr>\n",
       "    <tr>\n",
       "      <th>12</th>\n",
       "      <td>Keck0012_MC1</td>\n",
       "      <td>95141</td>\n",
       "      <td>0</td>\n",
       "      <td>4</td>\n",
       "    </tr>\n",
       "    <tr>\n",
       "      <th>13</th>\n",
       "      <td>Keck0098_MC1</td>\n",
       "      <td>208311</td>\n",
       "      <td>0</td>\n",
       "      <td>5</td>\n",
       "    </tr>\n",
       "    <tr>\n",
       "      <th>14</th>\n",
       "      <td>Keck0081_MC1</td>\n",
       "      <td>283267</td>\n",
       "      <td>0</td>\n",
       "      <td>6</td>\n",
       "    </tr>\n",
       "    <tr>\n",
       "      <th>15</th>\n",
       "      <td>Keck0073_MC1</td>\n",
       "      <td>267643</td>\n",
       "      <td>1</td>\n",
       "      <td>6</td>\n",
       "    </tr>\n",
       "    <tr>\n",
       "      <th>16</th>\n",
       "      <td>Keck0092_MC1</td>\n",
       "      <td>288596</td>\n",
       "      <td>1</td>\n",
       "      <td>7</td>\n",
       "    </tr>\n",
       "    <tr>\n",
       "      <th>17</th>\n",
       "      <td>Keck0068_MC1</td>\n",
       "      <td>224467</td>\n",
       "      <td>1</td>\n",
       "      <td>4</td>\n",
       "    </tr>\n",
       "    <tr>\n",
       "      <th>18</th>\n",
       "      <td>Keck0044_MC1</td>\n",
       "      <td>118992</td>\n",
       "      <td>1</td>\n",
       "      <td>4</td>\n",
       "    </tr>\n",
       "    <tr>\n",
       "      <th>19</th>\n",
       "      <td>Keck0014_MC1</td>\n",
       "      <td>123454</td>\n",
       "      <td>0</td>\n",
       "      <td>4</td>\n",
       "    </tr>\n",
       "    <tr>\n",
       "      <th>20</th>\n",
       "      <td>Keck0022_MC1</td>\n",
       "      <td>109259</td>\n",
       "      <td>0</td>\n",
       "      <td>3</td>\n",
       "    </tr>\n",
       "    <tr>\n",
       "      <th>21</th>\n",
       "      <td>Keck0061_MC1</td>\n",
       "      <td>193143</td>\n",
       "      <td>0</td>\n",
       "      <td>3</td>\n",
       "    </tr>\n",
       "    <tr>\n",
       "      <th>22</th>\n",
       "      <td>Keck0118_MC1</td>\n",
       "      <td>310351</td>\n",
       "      <td>1</td>\n",
       "      <td>6</td>\n",
       "    </tr>\n",
       "    <tr>\n",
       "      <th>23</th>\n",
       "      <td>Keck0050_MC1</td>\n",
       "      <td>102951</td>\n",
       "      <td>1</td>\n",
       "      <td>3</td>\n",
       "    </tr>\n",
       "    <tr>\n",
       "      <th>24</th>\n",
       "      <td>Keck0082_MC1</td>\n",
       "      <td>326519</td>\n",
       "      <td>1</td>\n",
       "      <td>4</td>\n",
       "    </tr>\n",
       "    <tr>\n",
       "      <th>25</th>\n",
       "      <td>Keck0065_MC1</td>\n",
       "      <td>175361</td>\n",
       "      <td>1</td>\n",
       "      <td>7</td>\n",
       "    </tr>\n",
       "    <tr>\n",
       "      <th>26</th>\n",
       "      <td>Keck0102_MC1</td>\n",
       "      <td>211591</td>\n",
       "      <td>0</td>\n",
       "      <td>6</td>\n",
       "    </tr>\n",
       "    <tr>\n",
       "      <th>27</th>\n",
       "      <td>Keck0046_MC1</td>\n",
       "      <td>100983</td>\n",
       "      <td>0</td>\n",
       "      <td>4</td>\n",
       "    </tr>\n",
       "    <tr>\n",
       "      <th>28</th>\n",
       "      <td>Keck0110_MC1</td>\n",
       "      <td>197708</td>\n",
       "      <td>1</td>\n",
       "      <td>7</td>\n",
       "    </tr>\n",
       "    <tr>\n",
       "      <th>29</th>\n",
       "      <td>Keck0071_MC1</td>\n",
       "      <td>315636</td>\n",
       "      <td>0</td>\n",
       "      <td>6</td>\n",
       "    </tr>\n",
       "    <tr>\n",
       "      <th>...</th>\n",
       "      <td>...</td>\n",
       "      <td>...</td>\n",
       "      <td>...</td>\n",
       "      <td>...</td>\n",
       "    </tr>\n",
       "    <tr>\n",
       "      <th>90</th>\n",
       "      <td>Keck0003_MC1</td>\n",
       "      <td>193377</td>\n",
       "      <td>0</td>\n",
       "      <td>7</td>\n",
       "    </tr>\n",
       "    <tr>\n",
       "      <th>91</th>\n",
       "      <td>Keck0115_MC1</td>\n",
       "      <td>253828</td>\n",
       "      <td>1</td>\n",
       "      <td>5</td>\n",
       "    </tr>\n",
       "    <tr>\n",
       "      <th>92</th>\n",
       "      <td>Keck0096_MC1</td>\n",
       "      <td>323533</td>\n",
       "      <td>1</td>\n",
       "      <td>7</td>\n",
       "    </tr>\n",
       "    <tr>\n",
       "      <th>93</th>\n",
       "      <td>Keck0074_MC1</td>\n",
       "      <td>228035</td>\n",
       "      <td>0</td>\n",
       "      <td>11</td>\n",
       "    </tr>\n",
       "    <tr>\n",
       "      <th>94</th>\n",
       "      <td>Keck0040_MC1</td>\n",
       "      <td>152536</td>\n",
       "      <td>1</td>\n",
       "      <td>3</td>\n",
       "    </tr>\n",
       "    <tr>\n",
       "      <th>95</th>\n",
       "      <td>Keck0033_MC1</td>\n",
       "      <td>111681</td>\n",
       "      <td>1</td>\n",
       "      <td>2</td>\n",
       "    </tr>\n",
       "    <tr>\n",
       "      <th>96</th>\n",
       "      <td>Keck0104_MC1</td>\n",
       "      <td>390464</td>\n",
       "      <td>1</td>\n",
       "      <td>6</td>\n",
       "    </tr>\n",
       "    <tr>\n",
       "      <th>97</th>\n",
       "      <td>Keck0087_MC1</td>\n",
       "      <td>267150</td>\n",
       "      <td>0</td>\n",
       "      <td>5</td>\n",
       "    </tr>\n",
       "    <tr>\n",
       "      <th>98</th>\n",
       "      <td>Keck0025_MC1</td>\n",
       "      <td>107970</td>\n",
       "      <td>0</td>\n",
       "      <td>2</td>\n",
       "    </tr>\n",
       "    <tr>\n",
       "      <th>99</th>\n",
       "      <td>Keck0018_MC1</td>\n",
       "      <td>104245</td>\n",
       "      <td>1</td>\n",
       "      <td>2</td>\n",
       "    </tr>\n",
       "    <tr>\n",
       "      <th>100</th>\n",
       "      <td>Keck0101_MC1</td>\n",
       "      <td>344621</td>\n",
       "      <td>1</td>\n",
       "      <td>5</td>\n",
       "    </tr>\n",
       "    <tr>\n",
       "      <th>101</th>\n",
       "      <td>Keck0020_MC1</td>\n",
       "      <td>69554</td>\n",
       "      <td>0</td>\n",
       "      <td>4</td>\n",
       "    </tr>\n",
       "    <tr>\n",
       "      <th>102</th>\n",
       "      <td>Keck0028_MC1</td>\n",
       "      <td>94827</td>\n",
       "      <td>0</td>\n",
       "      <td>3</td>\n",
       "    </tr>\n",
       "    <tr>\n",
       "      <th>103</th>\n",
       "      <td>Keck0120_MC1</td>\n",
       "      <td>320091</td>\n",
       "      <td>0</td>\n",
       "      <td>6</td>\n",
       "    </tr>\n",
       "    <tr>\n",
       "      <th>104</th>\n",
       "      <td>Keck0095_MC1</td>\n",
       "      <td>515814</td>\n",
       "      <td>0</td>\n",
       "      <td>10</td>\n",
       "    </tr>\n",
       "    <tr>\n",
       "      <th>105</th>\n",
       "      <td>Keck0077_MC1</td>\n",
       "      <td>257494</td>\n",
       "      <td>1</td>\n",
       "      <td>4</td>\n",
       "    </tr>\n",
       "    <tr>\n",
       "      <th>106</th>\n",
       "      <td>Keck0062_MC1</td>\n",
       "      <td>235136</td>\n",
       "      <td>1</td>\n",
       "      <td>7</td>\n",
       "    </tr>\n",
       "    <tr>\n",
       "      <th>107</th>\n",
       "      <td>Keck0107_MC1</td>\n",
       "      <td>266808</td>\n",
       "      <td>0</td>\n",
       "      <td>6</td>\n",
       "    </tr>\n",
       "    <tr>\n",
       "      <th>108</th>\n",
       "      <td>Keck0019_MC1</td>\n",
       "      <td>136778</td>\n",
       "      <td>0</td>\n",
       "      <td>2</td>\n",
       "    </tr>\n",
       "    <tr>\n",
       "      <th>109</th>\n",
       "      <td>Keck0010_MC1</td>\n",
       "      <td>118019</td>\n",
       "      <td>0</td>\n",
       "      <td>3</td>\n",
       "    </tr>\n",
       "    <tr>\n",
       "      <th>110</th>\n",
       "      <td>Keck0052_MC1</td>\n",
       "      <td>35128</td>\n",
       "      <td>1</td>\n",
       "      <td>2</td>\n",
       "    </tr>\n",
       "    <tr>\n",
       "      <th>111</th>\n",
       "      <td>Keck0117_MC1</td>\n",
       "      <td>268358</td>\n",
       "      <td>1</td>\n",
       "      <td>1</td>\n",
       "    </tr>\n",
       "    <tr>\n",
       "      <th>112</th>\n",
       "      <td>Keck0094_MC1</td>\n",
       "      <td>409199</td>\n",
       "      <td>0</td>\n",
       "      <td>7</td>\n",
       "    </tr>\n",
       "    <tr>\n",
       "      <th>113</th>\n",
       "      <td>Keck0063_MC1</td>\n",
       "      <td>105391</td>\n",
       "      <td>0</td>\n",
       "      <td>2</td>\n",
       "    </tr>\n",
       "    <tr>\n",
       "      <th>114</th>\n",
       "      <td>Keck0041_MC1</td>\n",
       "      <td>88960</td>\n",
       "      <td>0</td>\n",
       "      <td>3</td>\n",
       "    </tr>\n",
       "    <tr>\n",
       "      <th>115</th>\n",
       "      <td>Keck0011_MC1</td>\n",
       "      <td>94586</td>\n",
       "      <td>0</td>\n",
       "      <td>6</td>\n",
       "    </tr>\n",
       "    <tr>\n",
       "      <th>116</th>\n",
       "      <td>Keck0023_MC1</td>\n",
       "      <td>108003</td>\n",
       "      <td>1</td>\n",
       "      <td>2</td>\n",
       "    </tr>\n",
       "    <tr>\n",
       "      <th>117</th>\n",
       "      <td>Keck0100_MC1</td>\n",
       "      <td>183050</td>\n",
       "      <td>0</td>\n",
       "      <td>5</td>\n",
       "    </tr>\n",
       "    <tr>\n",
       "      <th>118</th>\n",
       "      <td>Keck0056_MC1</td>\n",
       "      <td>211432</td>\n",
       "      <td>0</td>\n",
       "      <td>2</td>\n",
       "    </tr>\n",
       "    <tr>\n",
       "      <th>119</th>\n",
       "      <td>Keck0031_MC1</td>\n",
       "      <td>176026</td>\n",
       "      <td>0</td>\n",
       "      <td>8</td>\n",
       "    </tr>\n",
       "  </tbody>\n",
       "</table>\n",
       "<p>120 rows × 4 columns</p>\n",
       "</div>"
      ],
      "text/plain": [
       "      sample_name  unique_TCRs  CMV_status  CMV_associated_TCRs\n",
       "0    Keck0113_MC1       462884           0                    7\n",
       "1    Keck0048_MC1       136737           0                    5\n",
       "2    Keck0004_MC1       124450           1                    2\n",
       "3    Keck0035_MC1       105739           1                    3\n",
       "4    Keck0066_MC1       124756           0                    2\n",
       "5    Keck0105_MC1       294290           0                    5\n",
       "6    Keck0086_MC1       200058           0                    7\n",
       "7    Keck0016_MC1       120836           0                    7\n",
       "8    Keck0108_MC1       143542           1                    2\n",
       "9    Keck0090_MC1       220699           1                    6\n",
       "10   Keck0002_MC1        90925           0                    2\n",
       "11   Keck0015_MC1       114763           1                    5\n",
       "12   Keck0012_MC1        95141           0                    4\n",
       "13   Keck0098_MC1       208311           0                    5\n",
       "14   Keck0081_MC1       283267           0                    6\n",
       "15   Keck0073_MC1       267643           1                    6\n",
       "16   Keck0092_MC1       288596           1                    7\n",
       "17   Keck0068_MC1       224467           1                    4\n",
       "18   Keck0044_MC1       118992           1                    4\n",
       "19   Keck0014_MC1       123454           0                    4\n",
       "20   Keck0022_MC1       109259           0                    3\n",
       "21   Keck0061_MC1       193143           0                    3\n",
       "22   Keck0118_MC1       310351           1                    6\n",
       "23   Keck0050_MC1       102951           1                    3\n",
       "24   Keck0082_MC1       326519           1                    4\n",
       "25   Keck0065_MC1       175361           1                    7\n",
       "26   Keck0102_MC1       211591           0                    6\n",
       "27   Keck0046_MC1       100983           0                    4\n",
       "28   Keck0110_MC1       197708           1                    7\n",
       "29   Keck0071_MC1       315636           0                    6\n",
       "..            ...          ...         ...                  ...\n",
       "90   Keck0003_MC1       193377           0                    7\n",
       "91   Keck0115_MC1       253828           1                    5\n",
       "92   Keck0096_MC1       323533           1                    7\n",
       "93   Keck0074_MC1       228035           0                   11\n",
       "94   Keck0040_MC1       152536           1                    3\n",
       "95   Keck0033_MC1       111681           1                    2\n",
       "96   Keck0104_MC1       390464           1                    6\n",
       "97   Keck0087_MC1       267150           0                    5\n",
       "98   Keck0025_MC1       107970           0                    2\n",
       "99   Keck0018_MC1       104245           1                    2\n",
       "100  Keck0101_MC1       344621           1                    5\n",
       "101  Keck0020_MC1        69554           0                    4\n",
       "102  Keck0028_MC1        94827           0                    3\n",
       "103  Keck0120_MC1       320091           0                    6\n",
       "104  Keck0095_MC1       515814           0                   10\n",
       "105  Keck0077_MC1       257494           1                    4\n",
       "106  Keck0062_MC1       235136           1                    7\n",
       "107  Keck0107_MC1       266808           0                    6\n",
       "108  Keck0019_MC1       136778           0                    2\n",
       "109  Keck0010_MC1       118019           0                    3\n",
       "110  Keck0052_MC1        35128           1                    2\n",
       "111  Keck0117_MC1       268358           1                    1\n",
       "112  Keck0094_MC1       409199           0                    7\n",
       "113  Keck0063_MC1       105391           0                    2\n",
       "114  Keck0041_MC1        88960           0                    3\n",
       "115  Keck0011_MC1        94586           0                    6\n",
       "116  Keck0023_MC1       108003           1                    2\n",
       "117  Keck0100_MC1       183050           0                    5\n",
       "118  Keck0056_MC1       211432           0                    2\n",
       "119  Keck0031_MC1       176026           0                    8\n",
       "\n",
       "[120 rows x 4 columns]"
      ]
     },
     "execution_count": 23,
     "metadata": {},
     "output_type": "execute_result"
    }
   ],
   "source": [
    "#Load statistics of TCRs of training set\n",
    "test = pd.read_csv('../data/'+'CMV/MAP_estimator/'+'test_neg.csv')\n",
    "statistics_TCRs_test =  test.drop(['1e-06','1e-05','0.001','0.01','0.1'],axis=1)\n",
    "statistics_TCRs_test.rename(index=str, columns={'0.0001':'CMV_associated_TCRs' },inplace=True)\n",
    "statistics_TCRs_test"
   ]
  },
  {
   "cell_type": "code",
   "execution_count": 24,
   "metadata": {},
   "outputs": [
    {
     "data": {
      "text/plain": [
       "unique_TCRs            202918.358333\n",
       "CMV_status                  0.425000\n",
       "CMV_associated_TCRs         4.441667\n",
       "dtype: float64"
      ]
     },
     "execution_count": 24,
     "metadata": {},
     "output_type": "execute_result"
    }
   ],
   "source": [
    "statistics_TCRs_test.mean()"
   ]
  },
  {
   "cell_type": "code",
   "execution_count": 25,
   "metadata": {},
   "outputs": [
    {
     "data": {
      "text/plain": [
       "unique_TCRs            109058.554194\n",
       "CMV_status                  0.496416\n",
       "CMV_associated_TCRs         2.368547\n",
       "dtype: float64"
      ]
     },
     "execution_count": 25,
     "metadata": {},
     "output_type": "execute_result"
    }
   ],
   "source": [
    "statistics_TCRs_test.std()"
   ]
  },
  {
   "cell_type": "code",
   "execution_count": 26,
   "metadata": {},
   "outputs": [
    {
     "data": {
      "text/plain": [
       "Text(0.5,1,'CMV-status classification-testing set')"
      ]
     },
     "execution_count": 26,
     "metadata": {},
     "output_type": "execute_result"
    },
    {
     "data": {
      "image/png": "[encoded data removed]",
      "text/plain": [
       "<Figure size 360x360 with 1 Axes>"
      ]
     },
     "metadata": {},
     "output_type": "display_data"
    }
   ],
   "source": [
    "lm = sns.lmplot(data=statistics_TCRs_test,x='unique_TCRs',y='CMV_associated_TCRs',\n",
    "                           hue='CMV_status',fit_reg=False,legend=True,legend_out=False)\n",
    "ax = plt.gca()\n",
    "ax.set_title('CMV-status classification-testing set')"
   ]
  },
  {
   "cell_type": "markdown",
   "metadata": {},
   "source": [
    "**accuracy score**"
   ]
  },
  {
   "cell_type": "code",
   "execution_count": 27,
   "metadata": {},
   "outputs": [
    {
     "name": "stdout",
     "output_type": "stream",
     "text": [
      "accuracy score: 0.55\n"
     ]
    }
   ],
   "source": [
    "# predict \n",
    "\n",
    "test_pred = [predict(statistics_TCRs_train,a,b,row['CMV_associated_TCRs'],row['unique_TCRs']) \n",
    "           for _,row in statistics_TCRs_test.iterrows()]\n",
    "\n",
    "test_y = statistics_TCRs_test['CMV_status']\n",
    "\n",
    "print('accuracy score:',accuracy_score(test_y,test_pred))"
   ]
  },
  {
   "cell_type": "markdown",
   "metadata": {},
   "source": [
    "**confusion matrix**"
   ]
  },
  {
   "cell_type": "code",
   "execution_count": 28,
   "metadata": {
    "scrolled": true
   },
   "outputs": [
    {
     "data": {
      "text/plain": [
       "array([[53, 16],\n",
       "       [38, 13]])"
      ]
     },
     "execution_count": 28,
     "metadata": {},
     "output_type": "execute_result"
    }
   ],
   "source": [
    "confusion_matrix(test_y,test_pred)"
   ]
  },
  {
   "cell_type": "markdown",
   "metadata": {},
   "source": [
    "**AUROC**"
   ]
  },
  {
   "cell_type": "code",
   "execution_count": 29,
   "metadata": {},
   "outputs": [],
   "source": [
    "# (normalized) posteriror probabilities \n",
    "test_post_pos = [post_prob_norm(statistics_TCRs_train,1,a,b,row['unique_TCRs'],row['CMV_associated_TCRs']) \n",
    "         for _,row in statistics_TCRs_test.iterrows()]\n",
    "\n",
    "test_post_neg = [post_prob_norm(statistics_TCRs_train,0,a,b,row['unique_TCRs'],row['CMV_associated_TCRs']) \n",
    "         for _,row in statistics_TCRs_test.iterrows()]"
   ]
  },
  {
   "cell_type": "code",
   "execution_count": 58,
   "metadata": {},
   "outputs": [
    {
     "data": {
      "text/plain": [
       "<matplotlib.legend.Legend at 0x2b070845c208>"
      ]
     },
     "execution_count": 58,
     "metadata": {},
     "output_type": "execute_result"
    },
    {
     "data": {
      "image/png": "[encoded data removed]",
      "text/plain": [
       "<Figure size 432x288 with 1 Axes>"
      ]
     },
     "metadata": {},
     "output_type": "display_data"
    }
   ],
   "source": [
    "# posterior probability on CMV+\n",
    "test_pred_df = pd.DataFrame({'true_label':test_y,'posterior_proba_CMV+':test_post_pos,\n",
    "                             'posterior_proba_CMV-':test_post_neg})\n",
    "CMV_pos_post = test_pred_df[test_pred_df['true_label']==1]['posterior_proba_CMV+']\n",
    "CMV_neg_post = test_pred_df[test_pred_df['true_label']==0]['posterior_proba_CMV+']\n",
    "\n",
    "# histograms of the posteriror probabilities\n",
    "plt.hist(CMV_pos_post,edgecolor='black', bins=20,linewidth=1,label='CMV+')\n",
    "plt.hist(CMV_neg_post,edgecolor='black', bins=20,linewidth=1,label='CMV-')\n",
    "plt.title('Posterior Probability CMV+')\n",
    "plt.legend(loc='best')"
   ]
  },
  {
   "cell_type": "code",
   "execution_count": 30,
   "metadata": {},
   "outputs": [
    {
     "name": "stdout",
     "output_type": "stream",
     "text": [
      "roc_auc_score: 0.5271383915885195\n"
     ]
    }
   ],
   "source": [
    "# AUC ROC\n",
    "fpr_test,tpr_test,thresholds_test = roc_curve(test_y,test_post_pos,pos_label=1)\n",
    "print('roc_auc_score:',roc_auc_score(test_y,test_post_pos))"
   ]
  }
 ],
 "metadata": {
  "kernelspec": {
   "display_name": "Python 3",
   "language": "python",
   "name": "python3"
  },
  "language_info": {
   "codemirror_mode": {
    "name": "ipython",
    "version": 3
   },
   "file_extension": ".py",
   "mimetype": "text/x-python",
   "name": "python",
   "nbconvert_exporter": "python",
   "pygments_lexer": "ipython3",
   "version": "3.7.3"
  },
  "varInspector": {
   "cols": {
    "lenName": 16,
    "lenType": 16,
    "lenVar": 40
   },
   "kernels_config": {
    "python": {
     "delete_cmd_postfix": "",
     "delete_cmd_prefix": "del ",
     "library": "var_list.py",
     "varRefreshCmd": "print(var_dic_list())"
    },
    "r": {
     "delete_cmd_postfix": ") ",
     "delete_cmd_prefix": "rm(",
     "library": "var_list.r",
     "varRefreshCmd": "cat(var_dic_list()) "
    }
   },
   "types_to_exclude": [
    "module",
    "function",
    "builtin_function_or_method",
    "instance",
    "_Feature"
   ],
   "window_display": false
  }
 },
 "nbformat": 4,
 "nbformat_minor": 2
}
