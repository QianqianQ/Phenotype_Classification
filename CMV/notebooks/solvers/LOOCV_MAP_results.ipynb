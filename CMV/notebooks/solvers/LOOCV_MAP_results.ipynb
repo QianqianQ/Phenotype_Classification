{
 "cells": [
  {
   "cell_type": "code",
   "execution_count": 11,
   "metadata": {},
   "outputs": [],
   "source": [
    "# Handle table-like data and matrices\n",
    "import numpy as np\n",
    "import pandas as pd\n",
    "from scipy.stats import fisher_exact\n",
    "# Helpers\n",
    "import sys\n",
    "sys.path.insert(0,'../../')\n",
    "from helpers import *\n",
    "from scipy.sparse import csr_matrix,save_npz,load_npz\n",
    "import pickle\n",
    "\n",
    "from sklearn.model_selection import cross_val_score,StratifiedKFold,LeaveOneOut\n",
    "from sklearn.metrics import accuracy_score,roc_auc_score,roc_curve\n",
    "from sklearn.metrics import make_scorer\n",
    "from sklearn.model_selection import GridSearchCV,RandomizedSearchCV,cross_validate\n",
    "from sklearn.metrics import classification_report\n",
    "\n",
    "# Algorithm\n",
    "from sklearn.ensemble import RandomForestClassifier\n",
    "from sklearn.linear_model import LogisticRegression\n",
    "\n",
    "# Visualisation\n",
    "import matplotlib.pyplot as plt\n",
    "import seaborn as sns\n",
    "\n",
    "# Ignore warnings\n",
    "import warnings\n",
    "warnings.filterwarnings('ignore')"
   ]
  },
  {
   "cell_type": "code",
   "execution_count": 90,
   "metadata": {},
   "outputs": [
    {
     "name": "stdout",
     "output_type": "stream",
     "text": [
      "0.3069802681783639\n"
     ]
    }
   ],
   "source": [
    "logloss = []\n",
    "threshold = []\n",
    "train_y = pd.read_csv('../data/train_Y.csv')\n",
    "for i in [4]:\n",
    "    y_true = []\n",
    "    y_proba = []\n",
    "    kf = LeaveOneOut()\n",
    "    for train_index,test_index in kf.split(train_y): # for each cv round\n",
    "        train_cv, test_cv = train_y.iloc[train_index], train_y.iloc[test_index]\n",
    "        test_sample = test_cv['sample_name'].values[0]\n",
    "        res = pd.read_pickle('LOO_CV_MAP_'+str(i)+'/'+test_sample+'.pkl')\n",
    "        y_true.append(res['y_true'].values[0])\n",
    "        y_proba.append(res['y_proba'].values[0])\n",
    "    print(log_loss(y_true,y_proba))\n",
    "    logloss.append(log_loss(y_true,y_proba))\n",
    "    threshold.append(i)"
   ]
  },
  {
   "cell_type": "code",
   "execution_count": 91,
   "metadata": {},
   "outputs": [
    {
     "data": {
      "text/plain": [
       "0.9444204152249135"
      ]
     },
     "execution_count": 91,
     "metadata": {},
     "output_type": "execute_result"
    }
   ],
   "source": [
    "roc_auc_score(y_true,y_proba)"
   ]
  },
  {
   "cell_type": "code",
   "execution_count": 43,
   "metadata": {},
   "outputs": [],
   "source": [
    "x = np.arange(6)"
   ]
  },
  {
   "cell_type": "code",
   "execution_count": 18,
   "metadata": {},
   "outputs": [
    {
     "data": {
      "text/plain": [
       "[0.3786909257987265,\n",
       " 0.3291108741923663,\n",
       " 0.3069802681783639,\n",
       " 0.6230474614826823,\n",
       " 4.646097534632999,\n",
       " 7.324830361554079]"
      ]
     },
     "execution_count": 18,
     "metadata": {},
     "output_type": "execute_result"
    }
   ],
   "source": [
    "logloss"
   ]
  },
  {
   "cell_type": "code",
   "execution_count": 56,
   "metadata": {},
   "outputs": [],
   "source": [
    "x = [1e-6,1e-5,1e-4,1e-3,1e-2,1e-1]"
   ]
  },
  {
   "cell_type": "code",
   "execution_count": 89,
   "metadata": {},
   "outputs": [
    {
     "data": {
      "image/png": "[encoded data removed]",
      "text/plain": [
       "<matplotlib.figure.Figure at 0x2b5fbac457f0>"
      ]
     },
     "metadata": {},
     "output_type": "display_data"
    }
   ],
   "source": [
    "import matplotlib.ticker as plticker\n",
    "f, (ax, ax2) = plt.subplots(2, 1, sharex=True,figsize=(6,6))\n",
    "# f.suptitle('Main title')\n",
    "# plt.style('ggplot')\n",
    "# plot the same data on both axes\n",
    "ax.scatter(np.arange(6),logloss)\n",
    "ax.set_xticklabels(labels = [1e-6,1e-5,1e-4,1e-3,1e-2,1e-1])\n",
    "ax2.set_xlabel('p-value threshold')\n",
    "ax2.set_ylabel('LOOCV  Cross-entropy loss')\n",
    "# ax.set_ylabel('LOOCV log-loss')\n",
    "\n",
    "ax2.scatter(np.arange(6),logloss)\n",
    "ax2.set_xticklabels(labels = [1e-6,1e-5,1e-4,1e-3,1e-2,1e-1])\n",
    "\n",
    "\n",
    "# zoom-in / limit the view to different portions of the data\n",
    "ax.set_xticks(np.arange(6))\n",
    "ax2.set_xticks(np.arange(6))\n",
    "ax2.set_ylim(0, 1)  # outliers only\n",
    "ax.set_ylim(4, 8)  # most of the data\n",
    "\n",
    "# hide the spines between ax and ax2\n",
    "ax.spines['bottom'].set_visible(False)\n",
    "ax2.spines['top'].set_visible(False)\n",
    "# ax.xaxis.tick_top()\n",
    "ax.tick_params(labeltop='off')  # don't put tick labels at the top\n",
    "# ax2.xaxis.tick_bottom()\n",
    "\n",
    "# This looks pretty good, and was fairly painless, but you can get that\n",
    "# cut-out diagonal lines look with just a bit more work. The important\n",
    "# thing to know here is that in axes coordinates, which are always\n",
    "# between 0-1, spine endpoints are at these locations (0,0), (0,1),\n",
    "# (1,0), and (1,1).  Thus, we just need to put the diagonals in the\n",
    "# appropriate corners of each of our axes, and so long as we use the\n",
    "# right transform and disable clipping.\n",
    "\n",
    "d = .1  # how big to make the diagonal lines in axes coordinates\n",
    "# arguments to pass to plot, just so we don't keep repeating them\n",
    "kwargs = dict(transform=ax.transAxes, color='k', clip_on=False)\n",
    "ax.plot((-d, +d), (-d, +d), **kwargs)        # top-left diagonal\n",
    "ax.plot((1 - d, 1 + d), (-d, +d), **kwargs)  # top-right diagonal\n",
    "\n",
    "kwargs.update(transform=ax2.transAxes)  # switch to the bottom axes\n",
    "ax2.plot((-d, +d), (1 - d, 1 + d), **kwargs)  # bottom-left diagonal\n",
    "ax2.plot((1 - d, 1 + d), (1 - d, 1 + d), **kwargs)  # bottom-right diagonal\n",
    "\n",
    "# What's cool about this is that now if we vary the distance between\n",
    "# ax and ax2 via f.subplots_adjust(hspace=...) or plt.subplot_tool(),\n",
    "# the diagonal lines will move accordingly, and stay right at the tips\n",
    "# of the spines they are 'breaking'\n",
    "\n",
    "plt.show()\n",
    "f.savefig('log_loss.png')\n",
    "\n",
    "# fig,ax = plt.subplots(1,1)\n",
    "# ax.set_xticks(np.arange(6))\n",
    "# loc = plticker.MultipleLocator(base=0.1) # this locator puts ticks at regular intervals\n",
    "# ax.xaxis.set_major_locator(loc)\n",
    "# ax.xaxis.set_major_locator(MaxNLocator(6))\n",
    "# ax.set_xticks(x)\n",
    "# plt.xlim(1e-6, 1e-1)\n",
    "# ax.scatter(np.arange(6),logloss)\n",
    "# ax.set_xticklabels(labels = [1e-6,1e-5,1e-4,1e-3,1e-2,1e-1])\n",
    "# ax.set_xlabel('p-value threshold')\n",
    "# ax.set_ylabel('LOOCV log-loss')"
   ]
  },
  {
   "cell_type": "code",
   "execution_count": 23,
   "metadata": {},
   "outputs": [
    {
     "data": {
      "text/plain": [
       "0.9444204152249135"
      ]
     },
     "execution_count": 23,
     "metadata": {},
     "output_type": "execute_result"
    }
   ],
   "source": [
    "roc_auc_score(y_true,y_proba)"
   ]
  },
  {
   "cell_type": "code",
   "execution_count": 4,
   "metadata": {},
   "outputs": [
    {
     "name": "stdout",
     "output_type": "stream",
     "text": [
      "0.9340692827933311\n",
      "0.3291108741923663\n"
     ]
    }
   ],
   "source": [
    "y_true = []\n",
    "y_proba = []\n",
    "train_y = pd.read_csv('../data/train_Y.csv')\n",
    "kf = LeaveOneOut()\n",
    "for train_index,test_index in kf.split(train_y): # for each cv round\n",
    "    train_cv, test_cv = train_y.iloc[train_index], train_y.iloc[test_index]\n",
    "    test_sample = test_cv['sample_name'].values[0]\n",
    "    res = pd.read_pickle('LOO_CV_MAP_5/'+test_sample+'.pkl')\n",
    "    y_true.append(res['y_true'].values[0])\n",
    "    y_proba.append(res['y_proba'].values[0])\n",
    "print(roc_auc_score(y_true,y_proba))\n",
    "print(log_loss(y_true,y_proba))"
   ]
  },
  {
   "cell_type": "code",
   "execution_count": 5,
   "metadata": {},
   "outputs": [
    {
     "name": "stdout",
     "output_type": "stream",
     "text": [
      "0.8970686536646744\n",
      "0.3786909257987265\n"
     ]
    }
   ],
   "source": [
    "y_true = []\n",
    "y_proba = []\n",
    "train_y = pd.read_csv('../data/train_Y.csv')\n",
    "kf = LeaveOneOut()\n",
    "for train_index,test_index in kf.split(train_y): # for each cv round\n",
    "    train_cv, test_cv = train_y.iloc[train_index], train_y.iloc[test_index]\n",
    "    test_sample = test_cv['sample_name'].values[0]\n",
    "    res = pd.read_pickle('LOO_CV_MAP_6/'+test_sample+'.pkl')\n",
    "    y_true.append(res['y_true'].values[0])\n",
    "    y_proba.append(res['y_proba'].values[0])\n",
    "print(roc_auc_score(y_true,y_proba))\n",
    "print(log_loss(y_true,y_proba))"
   ]
  },
  {
   "cell_type": "code",
   "execution_count": 6,
   "metadata": {},
   "outputs": [
    {
     "name": "stdout",
     "output_type": "stream",
     "text": [
      "0.9698608052846807\n",
      "0.6230474614826823\n"
     ]
    }
   ],
   "source": [
    "y_true = []\n",
    "y_proba = []\n",
    "train_y = pd.read_csv('../data/train_Y.csv')\n",
    "kf = LeaveOneOut()\n",
    "for train_index,test_index in kf.split(train_y): # for each cv round\n",
    "    train_cv, test_cv = train_y.iloc[train_index], train_y.iloc[test_index]\n",
    "    test_sample = test_cv['sample_name'].values[0]\n",
    "    res = pd.read_pickle('LOO_CV_MAP_3/'+test_sample+'.pkl')\n",
    "    y_true.append(res['y_true'].values[0])\n",
    "    y_proba.append(res['y_proba'].values[0])\n",
    "print(roc_auc_score(y_true,y_proba))\n",
    "print(log_loss(y_true,y_proba))"
   ]
  },
  {
   "cell_type": "code",
   "execution_count": 7,
   "metadata": {},
   "outputs": [
    {
     "name": "stdout",
     "output_type": "stream",
     "text": [
      "0.9060779726329034\n",
      "4.646097534632999\n"
     ]
    }
   ],
   "source": [
    "y_true = []\n",
    "y_proba = []\n",
    "train_y = pd.read_csv('../data/train_Y.csv')\n",
    "kf = LeaveOneOut()\n",
    "for train_index,test_index in kf.split(train_y): # for each cv round\n",
    "    train_cv, test_cv = train_y.iloc[train_index], train_y.iloc[test_index]\n",
    "    test_sample = test_cv['sample_name'].values[0]\n",
    "    res = pd.read_pickle('LOO_CV_MAP_2/'+test_sample+'.pkl')\n",
    "    y_true.append(res['y_true'].values[0])\n",
    "    y_proba.append(res['y_proba'].values[0])\n",
    "print(roc_auc_score(y_true,y_proba))\n",
    "print(log_loss(y_true,y_proba))"
   ]
  },
  {
   "cell_type": "code",
   "execution_count": 8,
   "metadata": {},
   "outputs": [
    {
     "name": "stdout",
     "output_type": "stream",
     "text": [
      "0.7000334224598931\n",
      "7.324830361554079\n"
     ]
    }
   ],
   "source": [
    "y_true = []\n",
    "y_proba = []\n",
    "train_y = pd.read_csv('../data/train_Y.csv')\n",
    "kf = LeaveOneOut()\n",
    "for train_index,test_index in kf.split(train_y): # for each cv round\n",
    "    train_cv, test_cv = train_y.iloc[train_index], train_y.iloc[test_index]\n",
    "    test_sample = test_cv['sample_name'].values[0]\n",
    "    res = pd.read_pickle('LOO_CV_MAP_1/'+test_sample+'.pkl')\n",
    "    y_true.append(res['y_true'].values[0])\n",
    "    y_proba.append(res['y_proba'].values[0])\n",
    "print(roc_auc_score(y_true,y_proba))\n",
    "print(log_loss(y_true,y_proba))"
   ]
  }
 ],
 "metadata": {
  "kernelspec": {
   "display_name": "anaconda3/5.1.0-gpu",
   "language": "python",
   "name": "anaconda3_5.1.0-gpu"
  },
  "language_info": {
   "codemirror_mode": {
    "name": "ipython",
    "version": 3
   },
   "file_extension": ".py",
   "mimetype": "text/x-python",
   "name": "python",
   "nbconvert_exporter": "python",
   "pygments_lexer": "ipython3",
   "version": "3.6.4"
  }
 },
 "nbformat": 4,
 "nbformat_minor": 2
}
