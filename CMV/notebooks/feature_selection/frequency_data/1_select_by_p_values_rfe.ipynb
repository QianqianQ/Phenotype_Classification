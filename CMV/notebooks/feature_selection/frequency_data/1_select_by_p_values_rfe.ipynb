{
 "cells": [
  {
   "cell_type": "code",
   "execution_count": 1,
   "metadata": {},
   "outputs": [],
   "source": [
    "import matplotlib\n",
    "matplotlib.use('Agg')\n",
    "\n",
    "# Handle table-like data and matrices\n",
    "import numpy as np\n",
    "import pandas as pd\n",
    "\n",
    "# Helpers\n",
    "import sys\n",
    "sys.path.insert(0,'../../')\n",
    "from utils import data_path,results_path,grid_search,estimator_result,cross_validate,rfecv\n",
    "from scipy.sparse import csr_matrix,save_npz,load_npz\n",
    "from sklearn.model_selection import cross_val_score,LeaveOneOut,StratifiedKFold\n",
    "from sklearn.metrics import accuracy_score,roc_auc_score,roc_curve\n",
    "from sklearn.metrics import make_scorer\n",
    "from sklearn.model_selection import GridSearchCV\n",
    "from sklearn.feature_selection import RFECV\n",
    "from sklearn.metrics import classification_report\n",
    "import pickle\n",
    "\n",
    "# Algorithms\n",
    "from sklearn.ensemble import ExtraTreesClassifier,RandomForestClassifier\n",
    "\n",
    "# Visualisation\n",
    "import matplotlib.pyplot as plt\n",
    "import seaborn as sns\n",
    "%matplotlib inline\n",
    "\n",
    "# Ignore warnings\n",
    "import warnings\n",
    "warnings.filterwarnings('ignore')"
   ]
  },
  {
   "cell_type": "markdown",
   "metadata": {},
   "source": [
    "## Load data"
   ]
  },
  {
   "cell_type": "code",
   "execution_count": 2,
   "metadata": {},
   "outputs": [],
   "source": [
    "with open('../' + data_path + 'sorted_TCRs_ind.pkl', 'rb') as f:\n",
    "    TCRs_ind = pickle.load(f)"
   ]
  },
  {
   "cell_type": "code",
   "execution_count": 3,
   "metadata": {},
   "outputs": [],
   "source": [
    "train_X = load_npz('../'+data_path + 'version_1/'+ 'train_per.npz')\n",
    "test_X = load_npz('../'+data_path + 'version_1/'+ 'test_per.npz')\n",
    "\n",
    "train_y = pd.read_csv('../'+data_path + 'train_Y.csv')['CMV_status']\n",
    "test_y = pd.read_csv('../'+data_path + 'test_Y.csv')['CMV_status']"
   ]
  },
  {
   "cell_type": "markdown",
   "metadata": {},
   "source": [
    "## RFE"
   ]
  },
  {
   "cell_type": "markdown",
   "metadata": {},
   "source": [
    "### Top 1000"
   ]
  },
  {
   "cell_type": "code",
   "execution_count": 4,
   "metadata": {},
   "outputs": [
    {
     "name": "stdout",
     "output_type": "stream",
     "text": [
      "RandomForestClassifier(bootstrap=True, class_weight=None, criterion='gini',\n",
      "            max_depth=31, max_features='auto', max_leaf_nodes=None,\n",
      "            min_impurity_decrease=0.0, min_impurity_split=None,\n",
      "            min_samples_leaf=1, min_samples_split=5,\n",
      "            min_weight_fraction_leaf=0.0, n_estimators=180, n_jobs=1,\n",
      "            oob_score=True, random_state=0, verbose=0, warm_start=False)\n",
      "Optimal number of features : 1000\n",
      "AUROC: 0.9741403807899971 Accuracy:  0.8583333333333333\n"
     ]
    }
   ],
   "source": [
    "top_1000 = TCRs_ind[:1000]\n",
    "# Define a classifier\n",
    "rf = RandomForestClassifier(bootstrap=True, class_weight=None, criterion='gini',\n",
    "        max_depth=31, max_features='auto', max_leaf_nodes=None,\n",
    "        min_impurity_decrease=0.0, min_impurity_split=None,\n",
    "        min_samples_leaf=1, min_samples_split=5,\n",
    "        min_weight_fraction_leaf=0.0, n_estimators=180, n_jobs=1,\n",
    "        oob_score=True, random_state=0, verbose=0, warm_start=False)\n",
    "print(rf)\n",
    "\n",
    "rfecv = RFECV(rf,cv=StratifiedKFold(10),scoring='roc_auc',step = 0.1)\n",
    "rfecv.fit(train_X[:,top_1000],train_y)\n",
    "\n",
    "print(\"Optimal number of features : %d\" % rfecv.n_features_)\n",
    "\n",
    "print('AUROC:',roc_auc_score(test_y,rfecv.predict_proba(test_X[:,top_1000])[:,1]),'Accuracy: ',accuracy_score(test_y,\n",
    "        rfecv.predict(test_X[:,top_1000])))"
   ]
  },
  {
   "cell_type": "code",
   "execution_count": 5,
   "metadata": {
    "scrolled": true
   },
   "outputs": [
    {
     "data": {
      "text/plain": [
       "[<matplotlib.lines.Line2D at 0x2abdeb1504e0>]"
      ]
     },
     "execution_count": 5,
     "metadata": {},
     "output_type": "execute_result"
    },
    {
     "data": {
      "image/png": "[encoded data removed]",
      "text/plain": [
       "<matplotlib.figure.Figure at 0x2abdbaf27c50>"
      ]
     },
     "metadata": {},
     "output_type": "display_data"
    }
   ],
   "source": [
    "# Plot number of features VS. cross-validation scores\n",
    "plt.figure()\n",
    "plt.xlabel(\"Number of features selected\")\n",
    "plt.ylabel(\"Cross validation score (nb of correct classifications)\")\n",
    "plt.plot(range(1,(len(rfecv.grid_scores_))*100,100), rfecv.grid_scores_)"
   ]
  },
  {
   "cell_type": "markdown",
   "metadata": {},
   "source": [
    "### Top 600"
   ]
  },
  {
   "cell_type": "code",
   "execution_count": 6,
   "metadata": {},
   "outputs": [
    {
     "name": "stdout",
     "output_type": "stream",
     "text": [
      "RandomForestClassifier(bootstrap=True, class_weight=None, criterion='gini',\n",
      "            max_depth=31, max_features='auto', max_leaf_nodes=None,\n",
      "            min_impurity_decrease=0.0, min_impurity_split=None,\n",
      "            min_samples_leaf=1, min_samples_split=5,\n",
      "            min_weight_fraction_leaf=0.0, n_estimators=180, n_jobs=1,\n",
      "            oob_score=True, random_state=0, verbose=0, warm_start=False)\n",
      "Optimal number of features : 550\n",
      "AUROC: 0.9650468883205456 Accuracy:  0.875\n"
     ]
    },
    {
     "data": {
      "text/plain": [
       "[<matplotlib.lines.Line2D at 0x2abdebf2d0b8>]"
      ]
     },
     "execution_count": 6,
     "metadata": {},
     "output_type": "execute_result"
    },
    {
     "data": {
      "image/png": "[encoded data removed]",
      "text/plain": [
       "<matplotlib.figure.Figure at 0x2abdebf02f98>"
      ]
     },
     "metadata": {},
     "output_type": "display_data"
    }
   ],
   "source": [
    "top_600 = TCRs_ind[:600]\n",
    "# Define a classifier\n",
    "rf = RandomForestClassifier(bootstrap=True, class_weight=None, criterion='gini',\n",
    "        max_depth=31, max_features='auto', max_leaf_nodes=None,\n",
    "        min_impurity_decrease=0.0, min_impurity_split=None,\n",
    "        min_samples_leaf=1, min_samples_split=5,\n",
    "        min_weight_fraction_leaf=0.0, n_estimators=180, n_jobs=1,\n",
    "        oob_score=True, random_state=0, verbose=0, warm_start=False)\n",
    "print(rf)\n",
    "\n",
    "rfecv = RFECV(rf,cv=StratifiedKFold(10),scoring='roc_auc',step = 50)\n",
    "rfecv.fit(train_X[:,top_600],train_y)\n",
    "\n",
    "print(\"Optimal number of features : %d\" % rfecv.n_features_)\n",
    "\n",
    "print('AUROC:',roc_auc_score(test_y,rfecv.predict_proba(test_X[:,top_600])[:,1]),'Accuracy: ',accuracy_score(test_y,\n",
    "        rfecv.predict(test_X[:,top_600])))\n",
    "\n",
    "# Plot number of features VS. cross-validation scores\n",
    "plt.figure()\n",
    "plt.xlabel(\"Number of features selected\")\n",
    "plt.ylabel(\"Cross validation score (nb of correct classifications)\")\n",
    "plt.plot(range(1,(len(rfecv.grid_scores_))*50,50), rfecv.grid_scores_)"
   ]
  },
  {
   "cell_type": "markdown",
   "metadata": {},
   "source": [
    "### Top 350"
   ]
  },
  {
   "cell_type": "code",
   "execution_count": 7,
   "metadata": {
    "scrolled": true
   },
   "outputs": [
    {
     "name": "stdout",
     "output_type": "stream",
     "text": [
      "RandomForestClassifier(bootstrap=True, class_weight=None, criterion='gini',\n",
      "            max_depth=31, max_features='auto', max_leaf_nodes=None,\n",
      "            min_impurity_decrease=0.0, min_impurity_split=None,\n",
      "            min_samples_leaf=1, min_samples_split=5,\n",
      "            min_weight_fraction_leaf=0.0, n_estimators=180, n_jobs=1,\n",
      "            oob_score=True, random_state=0, verbose=0, warm_start=False)\n",
      "Optimal number of features : 350\n",
      "AUROC: 0.9462915601023018 Accuracy:  0.8833333333333333\n"
     ]
    },
    {
     "data": {
      "text/plain": [
       "[<matplotlib.lines.Line2D at 0x2abdebf91d30>]"
      ]
     },
     "execution_count": 7,
     "metadata": {},
     "output_type": "execute_result"
    },
    {
     "data": {
      "image/png": "[encoded data removed]",
      "text/plain": [
       "<matplotlib.figure.Figure at 0x2abde7b20f28>"
      ]
     },
     "metadata": {},
     "output_type": "display_data"
    }
   ],
   "source": [
    "top_350 = TCRs_ind[:350]\n",
    "# Define a classifier\n",
    "rf = RandomForestClassifier(bootstrap=True, class_weight=None, criterion='gini',\n",
    "        max_depth=31, max_features='auto', max_leaf_nodes=None,\n",
    "        min_impurity_decrease=0.0, min_impurity_split=None,\n",
    "        min_samples_leaf=1, min_samples_split=5,\n",
    "        min_weight_fraction_leaf=0.0, n_estimators=180, n_jobs=1,\n",
    "        oob_score=True, random_state=0, verbose=0, warm_start=False)\n",
    "print(rf)\n",
    "\n",
    "rfecv = RFECV(rf,cv=StratifiedKFold(10),scoring='roc_auc',step = 50)\n",
    "rfecv.fit(train_X[:,top_350],train_y)\n",
    "\n",
    "print(\"Optimal number of features : %d\" % rfecv.n_features_)\n",
    "\n",
    "print('AUROC:',roc_auc_score(test_y,rfecv.predict_proba(test_X[:,top_350])[:,1]),'Accuracy: ',accuracy_score(test_y,\n",
    "        rfecv.predict(test_X[:,top_350])))\n",
    "\n",
    "# Plot number of features VS. cross-validation scores\n",
    "plt.figure()\n",
    "plt.xlabel(\"Number of features selected\")\n",
    "plt.ylabel(\"Cross validation score (nb of correct classifications)\")\n",
    "plt.plot(range(1,(len(rfecv.grid_scores_))*50,50), rfecv.grid_scores_)"
   ]
  },
  {
   "cell_type": "markdown",
   "metadata": {},
   "source": [
    "### Top 200"
   ]
  },
  {
   "cell_type": "code",
   "execution_count": 8,
   "metadata": {
    "scrolled": true
   },
   "outputs": [
    {
     "name": "stdout",
     "output_type": "stream",
     "text": [
      "RandomForestClassifier(bootstrap=True, class_weight=None, criterion='gini',\n",
      "            max_depth=31, max_features='auto', max_leaf_nodes=None,\n",
      "            min_impurity_decrease=0.0, min_impurity_split=None,\n",
      "            min_samples_leaf=1, min_samples_split=5,\n",
      "            min_weight_fraction_leaf=0.0, n_estimators=180, n_jobs=1,\n",
      "            oob_score=True, random_state=0, verbose=0, warm_start=False)\n",
      "Optimal number of features : 200\n",
      "AUROC: 0.9556692242114236 Accuracy:  0.9083333333333333\n"
     ]
    },
    {
     "data": {
      "text/plain": [
       "[<matplotlib.lines.Line2D at 0x2abdebff84a8>]"
      ]
     },
     "execution_count": 8,
     "metadata": {},
     "output_type": "execute_result"
    },
    {
     "data": {
      "image/png": "[encoded data removed]",
      "text/plain": [
       "<matplotlib.figure.Figure at 0x2abdebef3550>"
      ]
     },
     "metadata": {},
     "output_type": "display_data"
    }
   ],
   "source": [
    "top_200 = TCRs_ind[:200]\n",
    "# Define a classifier\n",
    "rf = RandomForestClassifier(bootstrap=True, class_weight=None, criterion='gini',\n",
    "        max_depth=31, max_features='auto', max_leaf_nodes=None,\n",
    "        min_impurity_decrease=0.0, min_impurity_split=None,\n",
    "        min_samples_leaf=1, min_samples_split=5,\n",
    "        min_weight_fraction_leaf=0.0, n_estimators=180, n_jobs=1,\n",
    "        oob_score=True, random_state=0, verbose=0, warm_start=False)\n",
    "print(rf)\n",
    "\n",
    "rfecv = RFECV(rf,cv=StratifiedKFold(10),scoring='roc_auc',step = 20)\n",
    "rfecv.fit(train_X[:,top_200],train_y)\n",
    "\n",
    "print(\"Optimal number of features : %d\" % rfecv.n_features_)\n",
    "\n",
    "print('AUROC:',roc_auc_score(test_y,rfecv.predict_proba(test_X[:,top_200])[:,1]),'Accuracy: ',accuracy_score(test_y,\n",
    "        rfecv.predict(test_X[:,top_200])))\n",
    "\n",
    "# Plot number of features VS. cross-validation scores\n",
    "plt.figure()\n",
    "plt.xlabel(\"Number of features selected\")\n",
    "plt.ylabel(\"Cross validation score (nb of correct classifications)\")\n",
    "plt.plot(range(1,(len(rfecv.grid_scores_))*20,20), rfecv.grid_scores_)"
   ]
  },
  {
   "cell_type": "markdown",
   "metadata": {},
   "source": [
    "### Top 165"
   ]
  },
  {
   "cell_type": "code",
   "execution_count": 9,
   "metadata": {
    "scrolled": true
   },
   "outputs": [
    {
     "name": "stdout",
     "output_type": "stream",
     "text": [
      "RandomForestClassifier(bootstrap=True, class_weight=None, criterion='gini',\n",
      "            max_depth=31, max_features='auto', max_leaf_nodes=None,\n",
      "            min_impurity_decrease=0.0, min_impurity_split=None,\n",
      "            min_samples_leaf=1, min_samples_split=5,\n",
      "            min_weight_fraction_leaf=0.0, n_estimators=180, n_jobs=1,\n",
      "            oob_score=True, random_state=0, verbose=0, warm_start=False)\n",
      "Optimal number of features : 155\n",
      "AUROC: 0.9474282466609832 Accuracy:  0.875\n"
     ]
    },
    {
     "data": {
      "text/plain": [
       "[<matplotlib.lines.Line2D at 0x2abdec063198>]"
      ]
     },
     "execution_count": 9,
     "metadata": {},
     "output_type": "execute_result"
    },
    {
     "data": {
      "image/png": "[encoded data removed]",
      "text/plain": [
       "<matplotlib.figure.Figure at 0x2abdebfb0b00>"
      ]
     },
     "metadata": {},
     "output_type": "display_data"
    }
   ],
   "source": [
    "top_165 = TCRs_ind[:165]\n",
    "# Define a classifier\n",
    "rf = RandomForestClassifier(bootstrap=True, class_weight=None, criterion='gini',\n",
    "        max_depth=31, max_features='auto', max_leaf_nodes=None,\n",
    "        min_impurity_decrease=0.0, min_impurity_split=None,\n",
    "        min_samples_leaf=1, min_samples_split=5,\n",
    "        min_weight_fraction_leaf=0.0, n_estimators=180, n_jobs=1,\n",
    "        oob_score=True, random_state=0, verbose=0, warm_start=False)\n",
    "print(rf)\n",
    "\n",
    "rfecv = RFECV(rf,cv=StratifiedKFold(10),scoring='roc_auc',step = 5)\n",
    "rfecv.fit(train_X[:,top_165],train_y)\n",
    "\n",
    "print(\"Optimal number of features : %d\" % rfecv.n_features_)\n",
    "\n",
    "print('AUROC:',roc_auc_score(test_y,rfecv.predict_proba(test_X[:,top_165])[:,1]),'Accuracy: ',accuracy_score(test_y,\n",
    "        rfecv.predict(test_X[:,top_165])))\n",
    "\n",
    "# Plot number of features VS. cross-validation scores\n",
    "plt.figure()\n",
    "plt.xlabel(\"Number of features selected\")\n",
    "plt.ylabel(\"Cross validation score (nb of correct classifications)\")\n",
    "plt.plot(range(1,(len(rfecv.grid_scores_))*5,5), rfecv.grid_scores_)"
   ]
  },
  {
   "cell_type": "markdown",
   "metadata": {},
   "source": [
    "### Choose Top 200"
   ]
  },
  {
   "cell_type": "code",
   "execution_count": 17,
   "metadata": {
    "scrolled": true
   },
   "outputs": [
    {
     "data": {
      "image/png": "[encoded data removed]",
      "text/plain": [
       "<matplotlib.figure.Figure at 0x2b8c9fe9ab38>"
      ]
     },
     "metadata": {},
     "output_type": "display_data"
    }
   ],
   "source": [
    "cv_acc = []\n",
    "cv_auroc = []\n",
    "test_acc = []\n",
    "test_auroc = []\n",
    "for i in range(50,200,10):\n",
    "    train_X_sub = train_X[:,TCRs_ind[:int(i)]]\n",
    "    test_X_sub = test_X[:,TCRs_ind[:int(i)]]\n",
    "    cv_results = cross_validate(rf,train_X_sub,train_y,scoring=('accuracy', 'roc_auc'),cv=StratifiedKFold(10))\n",
    "    cv_acc.append(np.mean(cv_results['test_accuracy']))\n",
    "    cv_auroc.append(np.mean(cv_results['test_roc_auc']))\n",
    "\n",
    "    # fit training set\n",
    "    rf.fit(X=train_X_sub, y=train_y)\n",
    "\n",
    "    # predict test_Y\n",
    "    predict_test = rf.predict(test_X_sub)\n",
    "    test_acc.append(accuracy_score(test_y, predict_test))\n",
    "\n",
    "    # AUROC of testing set\n",
    "    predict_test_prob = rf.predict_proba(test_X_sub)\n",
    "    pos_prob_test = predict_test_prob[:, 1]\n",
    "    test_auroc.append(roc_auc_score(test_y, pos_prob_test))\n",
    "    \n",
    "    \n",
    "fig = plt.figure(figsize=(12,8))\n",
    "ax = fig.add_subplot(111)\n",
    "line1 = ax.plot(range(50,200,10),cv_auroc,label='CV_AUROC',marker='o')\n",
    "line2 = ax.plot(range(50,200,10),cv_acc,label='CV_Accuracy',marker='o')\n",
    "line3 = ax.plot(range(50,200,10),test_auroc,label='Test_AUROC',marker='o')\n",
    "line4 = ax.plot(range(50,200,10),test_acc,label='Test_Accuracy',marker='o')\n",
    "\n",
    "ax.set_ylabel('Scores')\n",
    "ax.set_xlabel('number of features')\n",
    "ax.set_xticks(range(50,200,10))\n",
    "ax.set_yticks(np.arange(0.5,1.1,0.1))\n",
    "ax.legend(loc='best', bbox_to_anchor=(1,1))\n",
    "\n",
    "plt.show()"
   ]
  },
  {
   "cell_type": "code",
   "execution_count": 32,
   "metadata": {
    "scrolled": true
   },
   "outputs": [
    {
     "name": "stdout",
     "output_type": "stream",
     "text": [
      "65 :\n",
      "cv_auroc: 0.9524001094690752 cv_acc: 0.8798977411477411 auroc: 0.9315146348394429 acc: 0.925\n",
      "66 :\n",
      "cv_auroc: 0.9520154038626947 cv_acc: 0.8814610042735043 auroc: 0.9329354930377948 acc: 0.925\n",
      "67 :\n",
      "cv_auroc: 0.9516729220423802 cv_acc: 0.8860515873015873 auroc: 0.9320829781187837 acc: 0.9333333333333333\n",
      "68 :\n",
      "cv_auroc: 0.9515196653373994 cv_acc: 0.8814121642246642 auroc: 0.9317988064791133 acc: 0.9333333333333333\n",
      "69 :\n",
      "cv_auroc: 0.9528735632183908 cv_acc: 0.8814362026862026 auroc: 0.9335038363171355 acc: 0.9333333333333333\n",
      "70 :\n",
      "cv_auroc: 0.9530932832903277 cv_acc: 0.8892246642246644 auroc: 0.9414606422279056 acc: 0.925\n",
      "71 :\n",
      "cv_auroc: 0.9506380483227774 cv_acc: 0.8892487026862028 auroc: 0.9410343847684001 acc: 0.9083333333333333\n",
      "72 :\n",
      "cv_auroc: 0.9560886308546408 cv_acc: 0.8907142857142858 auroc: 0.9396135265700483 acc: 0.925\n",
      "73 :\n",
      "cv_auroc: 0.9553031902416139 cv_acc: 0.8923256257631259 auroc: 0.9390451832907075 acc: 0.9333333333333333\n",
      "74 :\n",
      "cv_auroc: 0.9541385174759558 cv_acc: 0.8892487026862028 auroc: 0.9390451832907075 acc: 0.925\n",
      "75 :\n",
      "cv_auroc: 0.9551886386738604 cv_acc: 0.8954754273504275 auroc: 0.9373401534526853 acc: 0.9333333333333333\n",
      "76 :\n",
      "cv_auroc: 0.9550226757369614 cv_acc: 0.8923985042735044 auroc: 0.9383347541915317 acc: 0.925\n",
      "77 :\n",
      "cv_auroc: 0.9596481351161156 cv_acc: 0.8969890873015874 auroc: 0.9369138959931798 acc: 0.925\n",
      "78 :\n",
      "cv_auroc: 0.9599605129408084 cv_acc: 0.8954754273504275 auroc: 0.9352088661551576 acc: 0.9166666666666666\n",
      "79 :\n",
      "cv_auroc: 0.9590818281335522 cv_acc: 0.9001381257631259 auroc: 0.9342142654163115 acc: 0.9083333333333333\n",
      "80 :\n",
      "cv_auroc: 0.9596592775041051 cv_acc: 0.9016998626373628 auroc: 0.935350951974993 acc: 0.925\n",
      "81 :\n",
      "cv_auroc: 0.9576043865822189 cv_acc: 0.8985740995115996 auroc: 0.9366297243535094 acc: 0.9166666666666666\n",
      "82 :\n",
      "cv_auroc: 0.9575907029478458 cv_acc: 0.9047519841269842 auroc: 0.9400397840295539 acc: 0.925\n",
      "83 :\n",
      "cv_auroc: 0.9583419344749394 cv_acc: 0.8938385225885227 auroc: 0.9371980676328503 acc: 0.925\n",
      "84 :\n",
      "cv_auroc: 0.9596195949644224 cv_acc: 0.8985989010989013 auroc: 0.9389030974708724 acc: 0.925\n",
      "85 :\n",
      "cv_auroc: 0.9592755493001798 cv_acc: 0.8907864010989013 auroc: 0.9397556123898836 acc: 0.925\n",
      "86 :\n",
      "cv_auroc: 0.9591351943076081 cv_acc: 0.9001854395604397 auroc: 0.9369138959931799 acc: 0.9166666666666666\n",
      "87 :\n",
      "cv_auroc: 0.9599327547110796 cv_acc: 0.9033112026862028 auroc: 0.9403239556692243 acc: 0.9166666666666666\n",
      "88 :\n",
      "cv_auroc: 0.960174368598014 cv_acc: 0.8970364010989013 auroc: 0.9380505825518614 acc: 0.9083333333333333\n",
      "89 :\n",
      "cv_auroc: 0.9601602940026585 cv_acc: 0.9033112026862028 auroc: 0.9363455527138392 acc: 0.925\n",
      "90 :\n",
      "cv_auroc: 0.9594440534834623 cv_acc: 0.9048489010989013 auroc: 0.9369138959931799 acc: 0.9166666666666666\n",
      "91 :\n",
      "cv_auroc: 0.9625091875830792 cv_acc: 0.9001854395604397 auroc: 0.9380505825518614 acc: 0.9166666666666666\n",
      "92 :\n",
      "cv_auroc: 0.9617194463992493 cv_acc: 0.8985740995115996 auroc: 0.9371980676328502 acc: 0.9166666666666666\n",
      "93 :\n",
      "cv_auroc: 0.9627863789193839 cv_acc: 0.9063625610500612 auroc: 0.9389030974708724 acc: 0.9166666666666666\n",
      "94 :\n",
      "cv_auroc: 0.9619016342169052 cv_acc: 0.9001606379731382 auroc: 0.937766410912191 acc: 0.9166666666666666\n",
      "95 :\n",
      "cv_auroc: 0.9624102744546092 cv_acc: 0.9033104395604397 auroc: 0.9383347541915318 acc: 0.9166666666666666\n",
      "96 :\n",
      "cv_auroc: 0.9608292282430213 cv_acc: 0.9063873626373627 auroc: 0.937766410912191 acc: 0.925\n",
      "97 :\n",
      "cv_auroc: 0.9614375635311596 cv_acc: 0.9048737026862028 auroc: 0.9431656720659278 acc: 0.925\n",
      "98 :\n",
      "cv_auroc: 0.9615298303229336 cv_acc: 0.9048737026862028 auroc: 0.9403239556692241 acc: 0.925\n",
      "99 :\n",
      "cv_auroc: 0.9626268668386896 cv_acc: 0.9064362026862028 auroc: 0.9403239556692241 acc: 0.9166666666666666\n",
      "100 :\n",
      "cv_auroc: 0.9612487293768082 cv_acc: 0.9033360042735044 auroc: 0.9400397840295539 acc: 0.925\n",
      "101 :\n",
      "cv_auroc: 0.9625158339197746 cv_acc: 0.9048489010989013 auroc: 0.9383347541915318 acc: 0.925\n",
      "102 :\n",
      "cv_auroc: 0.9620314332629603 cv_acc: 0.9048985042735044 auroc: 0.9352088661551577 acc: 0.925\n",
      "103 :\n",
      "cv_auroc: 0.9620099304089452 cv_acc: 0.9095371642246644 auroc: 0.941744813867576 acc: 0.9083333333333333\n",
      "104 :\n",
      "cv_auroc: 0.9616740949253264 cv_acc: 0.9126381257631259 auroc: 0.9400397840295538 acc: 0.9333333333333333\n",
      "105 :\n",
      "cv_auroc: 0.9620099304089452 cv_acc: 0.9079987026862029 auroc: 0.940039784029554 acc: 0.9166666666666666\n",
      "106 :\n",
      "cv_auroc: 0.9610876534521854 cv_acc: 0.9142006257631259 auroc: 0.9506962205171923 acc: 0.9083333333333333\n",
      "107 :\n",
      "cv_auroc: 0.9649519117992025 cv_acc: 0.9111725427350429 auroc: 0.945723216822961 acc: 0.9083333333333333\n",
      "108 :\n",
      "cv_auroc: 0.96439694268512 cv_acc: 0.9127110042735044 auroc: 0.9487070190394998 acc: 0.9\n",
      "109 :\n",
      "cv_auroc: 0.9638351317538509 cv_acc: 0.9095612026862028 auroc: 0.9508383063370275 acc: 0.9333333333333333\n",
      "110 :\n",
      "cv_auroc: 0.9634414340448825 cv_acc: 0.9157886904761906 auroc: 0.9450127877237853 acc: 0.8833333333333333\n",
      "111 :\n",
      "cv_auroc: 0.9618255923058878 cv_acc: 0.9079987026862029 auroc: 0.9468599033816424 acc: 0.9\n",
      "112 :\n",
      "cv_auroc: 0.9626599030416765 cv_acc: 0.9095852411477413 auroc: 0.951974992895709 acc: 0.9\n",
      "113 :\n",
      "cv_auroc: 0.9625535616545469 cv_acc: 0.9079987026862029 auroc: 0.9471440750213129 acc: 0.8916666666666667\n",
      "114 :\n",
      "cv_auroc: 0.9623643365392136 cv_acc: 0.9095371642246644 auroc: 0.9525433361750497 acc: 0.925\n",
      "115 :\n",
      "cv_auroc: 0.9629449135976229 cv_acc: 0.9080235042735044 auroc: 0.9531116794543905 acc: 0.9\n",
      "116 :\n",
      "cv_auroc: 0.9639078504965204 cv_acc: 0.9126381257631259 auroc: 0.9499857914180164 acc: 0.8916666666666667\n",
      "117 :\n",
      "cv_auroc: 0.9646518492454454 cv_acc: 0.9142735042735044 auroc: 0.9502699630576869 acc: 0.8833333333333333\n",
      "118 :\n",
      "cv_auroc: 0.9643492454453046 cv_acc: 0.9111717796092798 auroc: 0.9502699630576869 acc: 0.9\n",
      "119 :\n",
      "cv_auroc: 0.9647335600907029 cv_acc: 0.9126862026862028 auroc: 0.9485649332196647 acc: 0.9\n",
      "120 :\n",
      "cv_auroc: 0.9638464696223318 cv_acc: 0.9111965811965813 auroc: 0.9528275078147201 acc: 0.9083333333333333\n",
      "121 :\n",
      "cv_auroc: 0.9648860348737196 cv_acc: 0.9110996642246644 auroc: 0.9465757317419721 acc: 0.8833333333333333\n",
      "122 :\n",
      "cv_auroc: 0.9634230588787238 cv_acc: 0.9064362026862028 auroc: 0.9508383063370275 acc: 0.9\n",
      "123 :\n",
      "cv_auroc: 0.9643250058644147 cv_acc: 0.9142487026862028 auroc: 0.9460073884626314 acc: 0.9083333333333333\n",
      "124 :\n",
      "cv_auroc: 0.9650776057549455 cv_acc: 0.9080467796092797 auroc: 0.9420289855072465 acc: 0.875\n",
      "125 :\n",
      "cv_auroc: 0.9653864649307998 cv_acc: 0.9095604395604397 auroc: 0.940892298948565 acc: 0.8916666666666667\n",
      "126 :\n",
      "cv_auroc: 0.9657918914692314 cv_acc: 0.9111958180708182 auroc: 0.9360613810741687 acc: 0.875\n",
      "127 :\n",
      "cv_auroc: 0.9662196027836423 cv_acc: 0.9111965811965813 auroc: 0.9465757317419722 acc: 0.8833333333333333\n",
      "128 :\n",
      "cv_auroc: 0.9674198529986707 cv_acc: 0.9157871642246643 auroc: 0.9445865302642796 acc: 0.8833333333333333\n",
      "129 :\n",
      "cv_auroc: 0.967429627023223 cv_acc: 0.9126614010989013 auroc: 0.9397556123898835 acc: 0.875\n",
      "130 :\n",
      "cv_auroc: 0.9676384001876611 cv_acc: 0.9126862026862028 auroc: 0.9482807615799943 acc: 0.8916666666666667\n",
      "131 :\n",
      "cv_auroc: 0.96753362264446 cv_acc: 0.9096100427350429 auroc: 0.947996589940324 acc: 0.8916666666666667\n",
      "132 :\n",
      "cv_auroc: 0.9649173117522871 cv_acc: 0.9189610042735044 auroc: 0.9471440750213129 acc: 0.8833333333333333\n",
      "133 :\n",
      "cv_auroc: 0.9683034248182031 cv_acc: 0.9126862026862028 auroc: 0.9431656720659278 acc: 0.875\n",
      "134 :\n",
      "cv_auroc: 0.966444014387364 cv_acc: 0.9157871642246643 auroc: 0.9406081273088946 acc: 0.875\n",
      "135 :\n",
      "cv_auroc: 0.9673467432950191 cv_acc: 0.9111237026862028 auroc: 0.9394714407502132 acc: 0.8583333333333333\n",
      "136 :\n",
      "cv_auroc: 0.9682502541246384 cv_acc: 0.9173744658119659 auroc: 0.940892298948565 acc: 0.8666666666666667\n",
      "137 :\n",
      "cv_auroc: 0.9664549612948627 cv_acc: 0.9158360042735044 auroc: 0.9440181869849389 acc: 0.8916666666666667\n",
      "138 :\n",
      "cv_auroc: 0.967703299710689 cv_acc: 0.9142487026862028 auroc: 0.9408922989485649 acc: 0.8916666666666667\n",
      "139 :\n",
      "cv_auroc: 0.9674476112283994 cv_acc: 0.9158360042735044 auroc: 0.9414606422279056 acc: 0.875\n",
      "140 :\n",
      "cv_auroc: 0.9689399092970522 cv_acc: 0.9126862026862028 auroc: 0.9397556123898835 acc: 0.875\n",
      "141 :\n",
      "cv_auroc: 0.967869849089061 cv_acc: 0.9111725427350429 auroc: 0.940892298948565 acc: 0.875\n",
      "142 :\n",
      "cv_auroc: 0.9680191961842206 cv_acc: 0.9143215811965814 auroc: 0.9468599033816425 acc: 0.875\n"
     ]
    },
    {
     "name": "stdout",
     "output_type": "stream",
     "text": [
      "143 :\n",
      "cv_auroc: 0.9685344827586206 cv_acc: 0.9173985042735044 auroc: 0.9434498437055981 acc: 0.875\n",
      "144 :\n",
      "cv_auroc: 0.9681388302447417 cv_acc: 0.9142487026862028 auroc: 0.9434498437055983 acc: 0.8666666666666667\n",
      "145 :\n",
      "cv_auroc: 0.968540347173352 cv_acc: 0.9127102411477412 auroc: 0.9437340153452686 acc: 0.9083333333333333\n",
      "146 :\n",
      "cv_auroc: 0.9686502072093205 cv_acc: 0.9157623626373628 auroc: 0.9431656720659278 acc: 0.8833333333333333\n",
      "147 :\n",
      "cv_auroc: 0.9698399014778325 cv_acc: 0.9173744658119659 auroc: 0.9437340153452685 acc: 0.8666666666666667\n",
      "148 :\n",
      "cv_auroc: 0.9681525138791148 cv_acc: 0.9127102411477412 auroc: 0.9440181869849389 acc: 0.875\n",
      "149 :\n",
      "cv_auroc: 0.9681775353819688 cv_acc: 0.9095852411477413 auroc: 0.9497016197783461 acc: 0.8916666666666667\n",
      "150 :\n",
      "cv_auroc: 0.9702441551333176 cv_acc: 0.9111725427350429 auroc: 0.9502699630576869 acc: 0.9083333333333333\n",
      "151 :\n",
      "cv_auroc: 0.9690790914066776 cv_acc: 0.9142975427350428 auroc: 0.9497016197783461 acc: 0.875\n",
      "152 :\n",
      "cv_auroc: 0.9697347329736491 cv_acc: 0.918888888888889 auroc: 0.9434498437055983 acc: 0.8583333333333333\n",
      "153 :\n",
      "cv_auroc: 0.9683128078817733 cv_acc: 0.9111717796092798 auroc: 0.9485649332196646 acc: 0.8666666666666667\n",
      "154 :\n",
      "cv_auroc: 0.9684445617327391 cv_acc: 0.9158600427350428 auroc: 0.9443023586246092 acc: 0.875\n",
      "155 :\n",
      "cv_auroc: 0.9698356009070295 cv_acc: 0.9205235042735044 auroc: 0.9465757317419722 acc: 0.8666666666666667\n",
      "156 :\n",
      "cv_auroc: 0.9723230901556026 cv_acc: 0.9189617673992675 auroc: 0.944018186984939 acc: 0.875\n",
      "157 :\n",
      "cv_auroc: 0.971730002345766 cv_acc: 0.9205242673992675 auroc: 0.9417448138675759 acc: 0.8833333333333333\n",
      "158 :\n",
      "cv_auroc: 0.9733763390413636 cv_acc: 0.9174473443223444 auroc: 0.9471440750213128 acc: 0.8666666666666667\n",
      "159 :\n",
      "cv_auroc: 0.9709500351864884 cv_acc: 0.9204754273504274 auroc: 0.9454390451832907 acc: 0.875\n",
      "160 :\n",
      "cv_auroc: 0.9722194854953475 cv_acc: 0.9173496642246644 auroc: 0.9474282466609832 acc: 0.875\n",
      "161 :\n",
      "cv_auroc: 0.9711115020720932 cv_acc: 0.922013888888889 auroc: 0.9443023586246092 acc: 0.8666666666666667\n",
      "162 :\n",
      "cv_auroc: 0.9721100164203612 cv_acc: 0.9236981074481075 auroc: 0.9497016197783461 acc: 0.8666666666666667\n",
      "163 :\n",
      "cv_auroc: 0.972732426303855 cv_acc: 0.9173744658119659 auroc: 0.9420289855072463 acc: 0.8833333333333333\n",
      "164 :\n",
      "cv_auroc: 0.9712397372742201 cv_acc: 0.922110805860806 auroc: 0.9411764705882353 acc: 0.8833333333333333\n",
      "165 :\n",
      "cv_auroc: 0.9717049808429119 cv_acc: 0.9252606074481076 auroc: 0.948849104859335 acc: 0.875\n",
      "166 :\n",
      "cv_auroc: 0.9733603096410978 cv_acc: 0.9235771520146521 auroc: 0.95282750781472 acc: 0.9\n",
      "167 :\n",
      "cv_auroc: 0.9711447337555713 cv_acc: 0.9205002289377291 auroc: 0.9465757317419722 acc: 0.875\n",
      "168 :\n",
      "cv_auroc: 0.9717968566737039 cv_acc: 0.9189617673992675 auroc: 0.9514066496163682 acc: 0.8916666666666667\n",
      "169 :\n",
      "cv_auroc: 0.9713402142466181 cv_acc: 0.922062728937729 auroc: 0.9499857914180165 acc: 0.8833333333333333\n",
      "170 :\n",
      "cv_auroc: 0.9700328407224958 cv_acc: 0.9189369658119659 auroc: 0.9519749928957091 acc: 0.875\n",
      "171 :\n",
      "cv_auroc: 0.9719055438267261 cv_acc: 0.9205250305250307 auroc: 0.9491332764990054 acc: 0.8916666666666667\n",
      "172 :\n",
      "cv_auroc: 0.9723606224098835 cv_acc: 0.920451388888889 auroc: 0.955100880932083 acc: 0.8833333333333333\n",
      "173 :\n",
      "cv_auroc: 0.9699605129408084 cv_acc: 0.9127606074481076 auroc: 0.9514066496163682 acc: 0.8833333333333333\n",
      "174 :\n",
      "cv_auroc: 0.9731964969896005 cv_acc: 0.915763888888889 auroc: 0.9519749928957091 acc: 0.8916666666666667\n",
      "175 :\n",
      "cv_auroc: 0.9705942606927829 cv_acc: 0.917375228937729 auroc: 0.9548167092924127 acc: 0.8666666666666667\n",
      "176 :\n",
      "cv_auroc: 0.9734439752912658 cv_acc: 0.9189377289377291 auroc: 0.9545325376527423 acc: 0.9\n",
      "177 :\n",
      "cv_auroc: 0.9741394948784112 cv_acc: 0.923576388888889 auroc: 0.9423131571469167 acc: 0.8833333333333333\n",
      "178 :\n",
      "cv_auroc: 0.9721905543826725 cv_acc: 0.9204761904761906 auroc: 0.9528275078147201 acc: 0.875\n",
      "179 :\n",
      "cv_auroc: 0.9711834388927982 cv_acc: 0.922062728937729 auroc: 0.9477124183006536 acc: 0.8916666666666667\n",
      "180 :\n",
      "cv_auroc: 0.9731140042223787 cv_acc: 0.9204754273504274 auroc: 0.9497016197783461 acc: 0.8916666666666667\n",
      "181 :\n",
      "cv_auroc: 0.9729666119321292 cv_acc: 0.9298519536019537 auroc: 0.9471440750213129 acc: 0.875\n",
      "182 :\n",
      "cv_auroc: 0.9749049964813512 cv_acc: 0.9282654151404153 auroc: 0.955953395851094 acc: 0.9083333333333333\n",
      "183 :\n",
      "cv_auroc: 0.9742106497771521 cv_acc: 0.9219898504273505 auroc: 0.9542483660130718 acc: 0.8833333333333333\n",
      "184 :\n",
      "cv_auroc: 0.9731683477988897 cv_acc: 0.9220875305250307 auroc: 0.9477124183006537 acc: 0.8916666666666667\n",
      "185 :\n",
      "cv_auroc: 0.9742661662366097 cv_acc: 0.9267029151404153 auroc: 0.9536800227337312 acc: 0.8916666666666667\n",
      "186 :\n",
      "cv_auroc: 0.9752154195011338 cv_acc: 0.9251156135531137 auroc: 0.9502699630576869 acc: 0.8916666666666667\n",
      "187 :\n",
      "cv_auroc: 0.9750297130346391 cv_acc: 0.9251404151404152 auroc: 0.9545325376527423 acc: 0.8916666666666667\n",
      "188 :\n",
      "cv_auroc: 0.9729611384783798 cv_acc: 0.9251163766788768 auroc: 0.9457232168229611 acc: 0.8666666666666667\n",
      "189 :\n",
      "cv_auroc: 0.973424427242161 cv_acc: 0.9174000305250306 auroc: 0.9425973287865871 acc: 0.8833333333333333\n",
      "190 :\n",
      "cv_auroc: 0.9754883102666355 cv_acc: 0.918888888888889 auroc: 0.944018186984939 acc: 0.875\n",
      "191 :\n",
      "cv_auroc: 0.9733235593087812 cv_acc: 0.923625228937729 auroc: 0.9607843137254901 acc: 0.9083333333333333\n",
      "192 :\n",
      "cv_auroc: 0.9731757760575496 cv_acc: 0.9220386904761906 auroc: 0.9599317988064792 acc: 0.8833333333333333\n",
      "193 :\n",
      "cv_auroc: 0.9745202908749707 cv_acc: 0.9220146520146522 auroc: 0.9508383063370276 acc: 0.875\n",
      "194 :\n",
      "cv_auroc: 0.9764973805614201 cv_acc: 0.9297535103785105 auroc: 0.9548167092924127 acc: 0.9\n",
      "195 :\n",
      "cv_auroc: 0.9750301039956213 cv_acc: 0.9220379273504274 auroc: 0.9553850525717533 acc: 0.8833333333333333\n",
      "196 :\n",
      "cv_auroc: 0.9756294471811712 cv_acc: 0.9235283119658121 auroc: 0.9502699630576869 acc: 0.9083333333333333\n",
      "197 :\n",
      "cv_auroc: 0.9765505512549847 cv_acc: 0.9267021520146521 auroc: 0.9508383063370276 acc: 0.9\n",
      "198 :\n",
      "cv_auroc: 0.976210024239581 cv_acc: 0.9220867673992675 auroc: 0.9474282466609831 acc: 0.875\n",
      "199 :\n",
      "cv_auroc: 0.9762522480256471 cv_acc: 0.9314384920634922 auroc: 0.9505541346973572 acc: 0.875\n",
      "200 :\n",
      "cv_auroc: 0.9785155211509892 cv_acc: 0.9267269536019537 auroc: 0.9556692242114236 acc: 0.9083333333333333\n"
     ]
    }
   ],
   "source": [
    "cv_acc = []\n",
    "cv_auroc = []\n",
    "test_acc = []\n",
    "test_auroc = []\n",
    "for i in range(65,201,1):\n",
    "    train_X_sub = train_X[:,TCRs_ind[:int(i)]]\n",
    "    test_X_sub = test_X[:,TCRs_ind[:int(i)]]\n",
    "    cv_results = cross_validate(rf,train_X_sub,train_y,scoring=('accuracy', 'roc_auc'),cv=StratifiedKFold(10))\n",
    "    cv_acc = np.mean(cv_results['test_accuracy'])\n",
    "    cv_auroc = np.mean(cv_results['test_roc_auc'])\n",
    "\n",
    "    # fit training set\n",
    "    rf.fit(X=train_X_sub, y=train_y)\n",
    "\n",
    "    # predict test_Y\n",
    "    predict_test = rf.predict(test_X_sub)\n",
    "    acc = accuracy_score(test_y, predict_test)\n",
    "\n",
    "    # AUROC of testing set\n",
    "    predict_test_prob = rf.predict_proba(test_X_sub)\n",
    "    pos_prob_test = predict_test_prob[:, 1]\n",
    "    auroc = roc_auc_score(test_y, pos_prob_test)\n",
    "    \n",
    "    print(i,':')\n",
    "    print('cv_auroc:',cv_auroc, 'cv_acc:',cv_acc,'auroc:',auroc, 'acc:',acc)"
   ]
  },
  {
   "cell_type": "code",
   "execution_count": 28,
   "metadata": {
    "scrolled": true
   },
   "outputs": [
    {
     "name": "stdout",
     "output_type": "stream",
     "text": [
      "********************************************************************************\n",
      "RandomForestClassifier(bootstrap=True, class_weight=None, criterion='gini',\n",
      "            max_depth=31, max_features='auto', max_leaf_nodes=None,\n",
      "            min_impurity_decrease=0.0, min_impurity_split=None,\n",
      "            min_samples_leaf=1, min_samples_split=5,\n",
      "            min_weight_fraction_leaf=0.0, n_estimators=180, n_jobs=1,\n",
      "            oob_score=True, random_state=0, verbose=0, warm_start=False)\n",
      "\n",
      "Cross validation:\n",
      "accuracy score 0.8860515873015873\n",
      "AUROC 0.9516729220423802\n",
      "________________________________________________________________________________\n",
      "Training set:\n",
      "accuracy score 0.9672386895475819\n",
      "AUROC 0.9850336190625983\n",
      "log-loss: 0.15952725443061183\n",
      "________________________________________________________________________________\n",
      "Testing set;\n",
      "accuracy score: 0.9333333333333333\n",
      "AUROC 0.9320829781187837\n",
      "log-loss: 0.3117928243504921\n",
      "classification_report\n",
      "             precision    recall  f1-score   support\n",
      "\n",
      "          0       0.92      0.97      0.94        69\n",
      "          1       0.96      0.88      0.92        51\n",
      "\n",
      "avg / total       0.93      0.93      0.93       120\n",
      "\n",
      "Confusion matrix:\n",
      "      CMV-  CMV+\n",
      "CMV-    67     2\n",
      "CMV+     6    45\n",
      "********************************************************************************\n"
     ]
    }
   ],
   "source": [
    "ind = list(TCRs_ind[:67])\n",
    "train_X_sub = train_X[:,ind]\n",
    "test_X_sub = test_X[:,ind]\n",
    "estimator_result(rf,train_X_sub,train_y,test_X_sub,test_y)"
   ]
  },
  {
   "cell_type": "code",
   "execution_count": 35,
   "metadata": {
    "scrolled": false
   },
   "outputs": [
    {
     "name": "stdout",
     "output_type": "stream",
     "text": [
      "********************************************************************************\n",
      "RandomForestClassifier(bootstrap=True, class_weight=None, criterion='gini',\n",
      "            max_depth=31, max_features='auto', max_leaf_nodes=None,\n",
      "            min_impurity_decrease=0.0, min_impurity_split=None,\n",
      "            min_samples_leaf=1, min_samples_split=5,\n",
      "            min_weight_fraction_leaf=0.0, n_estimators=180, n_jobs=1,\n",
      "            oob_score=True, random_state=0, verbose=0, warm_start=False)\n",
      "\n",
      "Cross validation:\n",
      "accuracy score 0.9095612026862028\n",
      "AUROC 0.9638351317538509\n",
      "________________________________________________________________________________\n",
      "Training set:\n",
      "accuracy score 0.9812792511700468\n",
      "AUROC 0.9967953759043725\n",
      "log-loss: 0.13393563602529476\n",
      "________________________________________________________________________________\n",
      "Testing set;\n",
      "accuracy score: 0.9333333333333333\n",
      "AUROC 0.9508383063370275\n",
      "log-loss: 0.32638095684183016\n",
      "classification_report\n",
      "             precision    recall  f1-score   support\n",
      "\n",
      "          0       0.93      0.96      0.94        69\n",
      "          1       0.94      0.90      0.92        51\n",
      "\n",
      "avg / total       0.93      0.93      0.93       120\n",
      "\n",
      "Confusion matrix:\n",
      "      CMV-  CMV+\n",
      "CMV-    66     3\n",
      "CMV+     5    46\n",
      "********************************************************************************\n"
     ]
    }
   ],
   "source": [
    "ind = list(TCRs_ind[:109])\n",
    "train_X_sub = train_X[:,ind]\n",
    "test_X_sub = test_X[:,ind]\n",
    "estimator_result(rf,train_X_sub,train_y,test_X_sub,test_y)"
   ]
  }
 ],
 "metadata": {
  "kernelspec": {
   "display_name": "anaconda3/5.1.0-gpu",
   "language": "python",
   "name": "anaconda3_5.1.0-gpu"
  },
  "language_info": {
   "codemirror_mode": {
    "name": "ipython",
    "version": 3
   },
   "file_extension": ".py",
   "mimetype": "text/x-python",
   "name": "python",
   "nbconvert_exporter": "python",
   "pygments_lexer": "ipython3",
   "version": "3.6.4"
  },
  "varInspector": {
   "cols": {
    "lenName": 16,
    "lenType": 16,
    "lenVar": 40
   },
   "kernels_config": {
    "python": {
     "delete_cmd_postfix": "",
     "delete_cmd_prefix": "del ",
     "library": "var_list.py",
     "varRefreshCmd": "print(var_dic_list())"
    },
    "r": {
     "delete_cmd_postfix": ") ",
     "delete_cmd_prefix": "rm(",
     "library": "var_list.r",
     "varRefreshCmd": "cat(var_dic_list()) "
    }
   },
   "types_to_exclude": [
    "module",
    "function",
    "builtin_function_or_method",
    "instance",
    "_Feature"
   ],
   "window_display": false
  }
 },
 "nbformat": 4,
 "nbformat_minor": 2
}
