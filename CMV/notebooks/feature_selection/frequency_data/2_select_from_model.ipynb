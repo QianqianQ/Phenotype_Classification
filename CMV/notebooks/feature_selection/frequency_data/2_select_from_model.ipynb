{
 "cells": [
  {
   "cell_type": "code",
   "execution_count": 1,
   "metadata": {},
   "outputs": [],
   "source": [
    "import matplotlib\n",
    "matplotlib.use('Agg')\n",
    "\n",
    "# Handle table-like data and matrices\n",
    "import numpy as np\n",
    "import pandas as pd\n",
    "\n",
    "# Helpers\n",
    "import sys\n",
    "sys.path.insert(0,'../../')\n",
    "from utils import data_path,results_path,grid_search,estimator_result,cross_validate,evaluate_param\n",
    "from scipy.sparse import csr_matrix,save_npz,load_npz\n",
    "from sklearn.model_selection import cross_val_score,LeaveOneOut,StratifiedKFold\n",
    "from sklearn.metrics import accuracy_score,roc_auc_score,roc_curve\n",
    "from sklearn.metrics import make_scorer\n",
    "from sklearn.model_selection import GridSearchCV\n",
    "from sklearn.metrics import classification_report\n",
    "import pickle\n",
    "\n",
    "# Feature selection\n",
    "from sklearn.feature_selection import SelectFromModel\n",
    "from sklearn.feature_selection import RFECV,VarianceThreshold\n",
    "\n",
    "# Algorithm\n",
    "from sklearn.linear_model import LogisticRegression,LogisticRegressionCV\n",
    "from sklearn.svm import LinearSVC\n",
    "from sklearn.ensemble import RandomForestClassifier\n",
    "\n",
    "# Visualisation\n",
    "import matplotlib.pyplot as plt\n",
    "import seaborn as sns\n",
    "%matplotlib inline\n",
    "\n",
    "# Ignore warnings\n",
    "import warnings\n",
    "warnings.filterwarnings('ignore')"
   ]
  },
  {
   "cell_type": "markdown",
   "metadata": {},
   "source": [
    "## Load data"
   ]
  },
  {
   "cell_type": "code",
   "execution_count": 2,
   "metadata": {},
   "outputs": [],
   "source": [
    "train_X = load_npz(data_path + 'version_1/'+ 'train_per.npz')\n",
    "test_X = load_npz(data_path + 'version_1/'+ 'test_per.npz')\n",
    "\n",
    "train_y = pd.read_csv(data_path + 'train_Y.csv')['CMV_status']\n",
    "test_y = pd.read_csv(data_path + 'test_Y.csv')['CMV_status']"
   ]
  },
  {
   "cell_type": "markdown",
   "metadata": {},
   "source": [
    "## Feature selection using SelectFromModel"
   ]
  },
  {
   "cell_type": "markdown",
   "metadata": {},
   "source": [
    "### Tree-based"
   ]
  },
  {
   "cell_type": "markdown",
   "metadata": {},
   "source": [
    "### ExtraTrees"
   ]
  },
  {
   "cell_type": "code",
   "execution_count": 14,
   "metadata": {
    "scrolled": true
   },
   "outputs": [],
   "source": [
    "from sklearn.ensemble import ExtraTreesClassifier\n",
    "et = ExtraTreesClassifier(n_estimators=200,random_state=0)\n",
    "et.fit(train_X,train_y)\n",
    "et_im = np.argsort(et.feature_importances_)[::-1]"
   ]
  },
  {
   "cell_type": "code",
   "execution_count": 19,
   "metadata": {},
   "outputs": [
    {
     "name": "stdout",
     "output_type": "stream",
     "text": [
      "(641, 212)\n"
     ]
    }
   ],
   "source": [
    "model3 = SelectFromModel(et,prefit=True,threshold='1500*mean')\n",
    "train_new3 = model3.transform(train_X)\n",
    "test_new3 = model3.transform(test_X)\n",
    "print(train_new3.shape)"
   ]
  },
  {
   "cell_type": "code",
   "execution_count": 20,
   "metadata": {
    "scrolled": true
   },
   "outputs": [
    {
     "data": {
      "text/plain": [
       "0.7333333333333333"
      ]
     },
     "execution_count": 20,
     "metadata": {},
     "output_type": "execute_result"
    }
   ],
   "source": [
    "et2 = ExtraTreesClassifier(n_estimators=200,random_state=0)\n",
    "et2.fit(train_new3,train_y)\n",
    "accuracy_score(test_y,et2.predict(test_new3))"
   ]
  },
  {
   "cell_type": "code",
   "execution_count": 21,
   "metadata": {},
   "outputs": [],
   "source": [
    "ind3 = model3.get_support(indices=True)"
   ]
  },
  {
   "cell_type": "code",
   "execution_count": 22,
   "metadata": {},
   "outputs": [],
   "source": [
    "with open(data_path + 'feature_selection/'+'per/'+'et', 'wb') as f:\n",
    "    pickle.dump(ind3, f, pickle.HIGHEST_PROTOCOL)\n",
    "    \n",
    "with open(data_path + 'feature_selection/'+'per/'+'et_im', 'wb') as f:\n",
    "    pickle.dump(et_im, f, pickle.HIGHEST_PROTOCOL)"
   ]
  },
  {
   "cell_type": "markdown",
   "metadata": {},
   "source": [
    "### RandomForest"
   ]
  },
  {
   "cell_type": "code",
   "execution_count": 23,
   "metadata": {
    "scrolled": true
   },
   "outputs": [],
   "source": [
    "rf = RandomForestClassifier(n_estimators=250,random_state=0)\n",
    "rf.fit(train_X,train_y)\n",
    "rf_im = np.argsort(rf.feature_importances_)[::-1]"
   ]
  },
  {
   "cell_type": "code",
   "execution_count": 25,
   "metadata": {},
   "outputs": [
    {
     "name": "stdout",
     "output_type": "stream",
     "text": [
      "(641, 130)\n"
     ]
    }
   ],
   "source": [
    "model4 = SelectFromModel(rf,prefit=True,threshold='2000*mean')\n",
    "train_new4 = model4.transform(train_X)\n",
    "test_new4 = model4.transform(test_X)\n",
    "print(train_new4.shape)"
   ]
  },
  {
   "cell_type": "code",
   "execution_count": 26,
   "metadata": {},
   "outputs": [
    {
     "data": {
      "text/plain": [
       "0.8083333333333333"
      ]
     },
     "execution_count": 26,
     "metadata": {},
     "output_type": "execute_result"
    }
   ],
   "source": [
    "rf2 = RandomForestClassifier(n_estimators=250,random_state=0)\n",
    "rf2.fit(train_new4,train_y)\n",
    "accuracy_score(test_y,rf2.predict(test_new4))"
   ]
  },
  {
   "cell_type": "code",
   "execution_count": 27,
   "metadata": {},
   "outputs": [],
   "source": [
    "ind4 = model4.get_support(indices=True)"
   ]
  },
  {
   "cell_type": "code",
   "execution_count": 28,
   "metadata": {},
   "outputs": [],
   "source": [
    "with open(data_path + 'feature_selection/'+'per/'+'rf', 'wb') as f:\n",
    "    pickle.dump(ind4, f, pickle.HIGHEST_PROTOCOL)\n",
    "\n",
    "with open(data_path + 'feature_selection/'+'per/'+'rf_im', 'wb') as f:\n",
    "    pickle.dump(rf_im, f, pickle.HIGHEST_PROTOCOL)"
   ]
  },
  {
   "cell_type": "markdown",
   "metadata": {},
   "source": [
    "### Intersection"
   ]
  },
  {
   "cell_type": "code",
   "execution_count": 29,
   "metadata": {
    "scrolled": true
   },
   "outputs": [
    {
     "data": {
      "text/plain": [
       "10"
      ]
     },
     "execution_count": 29,
     "metadata": {},
     "output_type": "execute_result"
    }
   ],
   "source": [
    "inter = list(set(ind3).intersection(ind4))\n",
    "len(inter)"
   ]
  },
  {
   "cell_type": "markdown",
   "metadata": {},
   "source": [
    "## Test Performance"
   ]
  },
  {
   "cell_type": "code",
   "execution_count": 30,
   "metadata": {},
   "outputs": [],
   "source": [
    "inds = {'et':ind3,'rf':ind4,'inter_et_rf':inter}"
   ]
  },
  {
   "cell_type": "code",
   "execution_count": 31,
   "metadata": {},
   "outputs": [],
   "source": [
    "def test_sub_features(clf,dict_inds):\n",
    "    for name in dict_inds:\n",
    "        print('Features selected by {}'.format(name))\n",
    "        print('Len: ',len(dict_inds[name]))\n",
    "        ind = dict_inds[name]\n",
    "        clf.fit(train_X[:,ind],train_y)\n",
    "        print(accuracy_score(test_y,clf.predict(test_X[:,ind])))\n",
    "        print(roc_auc_score(test_y,clf.predict_proba(test_X[:,ind])[:,1]))\n",
    "        print()"
   ]
  },
  {
   "cell_type": "code",
   "execution_count": 32,
   "metadata": {
    "scrolled": true
   },
   "outputs": [
    {
     "name": "stdout",
     "output_type": "stream",
     "text": [
      "Features selected by et\n",
      "Len:  212\n",
      "0.575\n",
      "0.5\n",
      "\n",
      "Features selected by rf\n",
      "Len:  130\n",
      "0.575\n",
      "0.5\n",
      "\n",
      "Features selected by inter_et_rf\n",
      "Len:  10\n",
      "0.575\n",
      "0.5\n",
      "\n"
     ]
    }
   ],
   "source": [
    "test_sub_features(lr,inds)"
   ]
  },
  {
   "cell_type": "code",
   "execution_count": 33,
   "metadata": {
    "scrolled": false
   },
   "outputs": [
    {
     "name": "stdout",
     "output_type": "stream",
     "text": [
      "Features selected by et\n",
      "Len:  212\n",
      "0.7333333333333333\n",
      "0.7998010798522308\n",
      "\n",
      "Features selected by rf\n",
      "Len:  130\n",
      "0.7666666666666667\n",
      "0.8618925831202047\n",
      "\n",
      "Features selected by inter_et_rf\n",
      "Len:  10\n",
      "0.7\n",
      "0.6383915885194659\n",
      "\n"
     ]
    }
   ],
   "source": [
    "test_sub_features(et,inds)"
   ]
  },
  {
   "cell_type": "code",
   "execution_count": 34,
   "metadata": {
    "scrolled": true
   },
   "outputs": [
    {
     "name": "stdout",
     "output_type": "stream",
     "text": [
      "Features selected by et\n",
      "Len:  212\n",
      "0.7583333333333333\n",
      "0.8209718670076727\n",
      "\n",
      "Features selected by rf\n",
      "Len:  130\n",
      "0.8083333333333333\n",
      "0.8650184711565785\n",
      "\n",
      "Features selected by inter_et_rf\n",
      "Len:  10\n",
      "0.7083333333333334\n",
      "0.6747655583972719\n",
      "\n"
     ]
    }
   ],
   "source": [
    "test_sub_features(rf,inds)"
   ]
  }
 ],
 "metadata": {
  "kernelspec": {
   "display_name": "anaconda3/5.1.0-gpu",
   "language": "python",
   "name": "anaconda3_5.1.0-gpu"
  },
  "language_info": {
   "codemirror_mode": {
    "name": "ipython",
    "version": 3
   },
   "file_extension": ".py",
   "mimetype": "text/x-python",
   "name": "python",
   "nbconvert_exporter": "python",
   "pygments_lexer": "ipython3",
   "version": "3.6.4"
  },
  "varInspector": {
   "cols": {
    "lenName": 16,
    "lenType": 16,
    "lenVar": 40
   },
   "kernels_config": {
    "python": {
     "delete_cmd_postfix": "",
     "delete_cmd_prefix": "del ",
     "library": "var_list.py",
     "varRefreshCmd": "print(var_dic_list())"
    },
    "r": {
     "delete_cmd_postfix": ") ",
     "delete_cmd_prefix": "rm(",
     "library": "var_list.r",
     "varRefreshCmd": "cat(var_dic_list()) "
    }
   },
   "types_to_exclude": [
    "module",
    "function",
    "builtin_function_or_method",
    "instance",
    "_Feature"
   ],
   "window_display": false
  }
 },
 "nbformat": 4,
 "nbformat_minor": 2
}
