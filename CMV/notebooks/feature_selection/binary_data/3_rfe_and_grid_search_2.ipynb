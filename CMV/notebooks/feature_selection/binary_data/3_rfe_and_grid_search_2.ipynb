{
 "cells": [
  {
   "cell_type": "code",
   "execution_count": 2,
   "metadata": {
    "scrolled": true
   },
   "outputs": [],
   "source": [
    "import matplotlib\n",
    "matplotlib.use('Agg')\n",
    "\n",
    "# Handle table-like data and matrices\n",
    "import numpy as np\n",
    "import pandas as pd\n",
    "\n",
    "# Helpers\n",
    "import sys\n",
    "sys.path.insert(0,'../../')\n",
    "from utils import data_path,results_path,grid_search,estimator_result,cross_validate,evaluate_param,rfecv\n",
    "from scipy.sparse import csr_matrix,save_npz,load_npz\n",
    "from sklearn.model_selection import cross_val_score,LeaveOneOut,StratifiedKFold\n",
    "from sklearn.metrics import accuracy_score,roc_auc_score,roc_curve\n",
    "from sklearn.metrics import make_scorer\n",
    "from sklearn.model_selection import GridSearchCV\n",
    "from sklearn.metrics import classification_report\n",
    "import pickle\n",
    "\n",
    "# Feature selection\n",
    "from sklearn.feature_selection import SelectFromModel\n",
    "from sklearn.feature_selection import RFECV,VarianceThreshold\n",
    "\n",
    "# Algorithm\n",
    "from sklearn.linear_model import LogisticRegression,LogisticRegressionCV\n",
    "from sklearn.svm import LinearSVC\n",
    "from sklearn.ensemble import RandomForestClassifier\n",
    "\n",
    "# Visualisation\n",
    "import matplotlib.pyplot as plt\n",
    "import seaborn as sns\n",
    "%matplotlib inline\n",
    "\n",
    "# Ignore warnings\n",
    "import warnings\n",
    "warnings.filterwarnings('ignore')"
   ]
  },
  {
   "cell_type": "markdown",
   "metadata": {},
   "source": [
    "## Load data"
   ]
  },
  {
   "cell_type": "code",
   "execution_count": 3,
   "metadata": {},
   "outputs": [],
   "source": [
    "train_X = load_npz(data_path + 'version_1/'+ 'train_bin.npz')\n",
    "test_X = load_npz(data_path + 'version_1/'+ 'test_bin.npz')\n",
    "\n",
    "train_y = pd.read_csv(data_path + 'train_Y.csv')['CMV_status']\n",
    "test_y = pd.read_csv(data_path + 'test_Y.csv')['CMV_status']"
   ]
  },
  {
   "cell_type": "markdown",
   "metadata": {},
   "source": [
    "**Select top 70 features(in terms of p-values)**"
   ]
  },
  {
   "cell_type": "code",
   "execution_count": 4,
   "metadata": {},
   "outputs": [],
   "source": [
    "with open(data_path + 'sorted_TCRs_ind.pkl', 'rb') as f:\n",
    "    TCRs_ind = pickle.load(f)\n",
    "\n",
    "p = 70\n",
    "ind = TCRs_ind[:p]\n",
    "train_X_sub = train_X[:,ind].toarray()\n",
    "test_X_sub = test_X[:,ind].toarray()"
   ]
  },
  {
   "cell_type": "markdown",
   "metadata": {},
   "source": [
    "## Define classifiers"
   ]
  },
  {
   "cell_type": "code",
   "execution_count": 5,
   "metadata": {},
   "outputs": [],
   "source": [
    "rf = RandomForestClassifier(bootstrap=True, class_weight=None, criterion='gini',\n",
    "                max_depth=31, max_features='auto', max_leaf_nodes=None,\n",
    "                min_impurity_decrease=0.0, min_impurity_split=None,\n",
    "                min_samples_leaf=1, min_samples_split=5,\n",
    "                min_weight_fraction_leaf=0.0, n_estimators=180, n_jobs=1,\n",
    "                oob_score=True, random_state=0, verbose=0, warm_start=False)\n",
    "lr = LogisticRegression(class_weight=None, dual=False, fit_intercept=True,\n",
    "                            intercept_scaling=1, max_iter=100, multi_class='ovr', n_jobs=-1,\n",
    "                            penalty='l2', random_state=0, solver='liblinear', tol=0.0001,\n",
    "                            verbose=0, warm_start=False)\n",
    "   \n",
    "lr_l1 = LogisticRegression(class_weight=None, dual=False, fit_intercept=True,\n",
    "                            intercept_scaling=1, max_iter=100, multi_class='ovr', n_jobs=-1,\n",
    "                            penalty='l1', random_state=0, solver='liblinear', tol=0.0001,\n",
    "                            verbose=0, warm_start=False)"
   ]
  },
  {
   "cell_type": "markdown",
   "metadata": {},
   "source": [
    "## RFE for feature selection and Gridsearch for parameter tunning"
   ]
  },
  {
   "cell_type": "markdown",
   "metadata": {},
   "source": [
    "### LR with L2"
   ]
  },
  {
   "cell_type": "code",
   "execution_count": 6,
   "metadata": {
    "scrolled": true
   },
   "outputs": [
    {
     "name": "stdout",
     "output_type": "stream",
     "text": [
      "Optimal number of features : 62\n",
      "Max cv score :  0.9519462037688637\n",
      "\n",
      "Testing set:\n",
      "AUROC: 0.9164535379369139 Accuracy:  0.9\n",
      "[ 0  1  2  3  4  5  6  7  8  9 10 11 12 13 14 15 16 17 18 19 20 21 22 23\n",
      " 24 25 26 27 28 29 30 31 32 33 34 36 38 39 40 41 43 45 46 47 48 49 50 51\n",
      " 52 53 54 56 57 58 59 60 61 62 64 65 67 68]\n"
     ]
    },
    {
     "data": {
      "image/png": "[encoded data removed]",
      "text/plain": [
       "<Figure size 432x288 with 1 Axes>"
      ]
     },
     "metadata": {},
     "output_type": "display_data"
    }
   ],
   "source": [
    "# p = 70\n",
    "kept_ind = rfecv(train_X_sub,train_y,test_X_sub,test_y,lr)"
   ]
  },
  {
   "cell_type": "markdown",
   "metadata": {},
   "source": [
    "#### Parameter tunning with optimal features"
   ]
  },
  {
   "cell_type": "code",
   "execution_count": 21,
   "metadata": {
    "scrolled": true
   },
   "outputs": [
    {
     "name": "stdout",
     "output_type": "stream",
     "text": [
      "Parameter_grid: {'C': [0.01, 0.1, 1, 10, 100]}\n",
      "Best parameters set found on development set for AUC\n",
      "\n",
      "{'C': 1}\n",
      "\n",
      "Best estimator:\n",
      "LogisticRegression(C=1, class_weight=None, dual=False, fit_intercept=True,\n",
      "          intercept_scaling=1, max_iter=100, multi_class='ovr', n_jobs=-1,\n",
      "          penalty='l2', random_state=0, solver='liblinear', tol=0.0001,\n",
      "          verbose=0, warm_start=False)\n",
      "\n",
      "Grid scores on training set:\n",
      "\n",
      "AUROC: 0.945 (+/-0.042), Accuracy: 0.860 (+/-0.074) for {'C': 0.01}\n",
      "AUROC: 0.951 (+/-0.037), Accuracy: 0.886 (+/-0.063) for {'C': 0.1}\n",
      "AUROC: 0.954 (+/-0.039), Accuracy: 0.900 (+/-0.074) for {'C': 1}\n",
      "AUROC: 0.947 (+/-0.049), Accuracy: 0.891 (+/-0.076) for {'C': 10}\n",
      "AUROC: 0.939 (+/-0.058), Accuracy: 0.895 (+/-0.083) for {'C': 100}\n",
      "\n",
      "Best AUROC: 0.953831161456639  with Accuracy: 0.9001560062402496\n",
      "\n",
      "Detailed classification report:\n",
      "\n",
      "The model is trained on the full development set.\n",
      "The scores are computed on the full testing set.\n",
      "\n",
      "             precision    recall  f1-score   support\n",
      "\n",
      "          0       0.88      0.96      0.92        69\n",
      "          1       0.93      0.82      0.87        51\n",
      "\n",
      "avg / total       0.90      0.90      0.90       120\n",
      "\n",
      "Accuracy: 0.9\n",
      "\n",
      "AUROC: 0.9164535379369139\n",
      "\n",
      "Confusion matrix:\n",
      "      CMV-  CMV+\n",
      "CMV-    66     3\n",
      "CMV+     9    42\n",
      "\n"
     ]
    }
   ],
   "source": [
    "param_grid = {\n",
    "    'C':[0.01,0.1,1,10,100]\n",
    "}\n",
    "grid_search(lr,train_X_sub[:,kept_ind],train_y,test_X_sub[:,kept_ind],test_y,param_grid)"
   ]
  },
  {
   "cell_type": "code",
   "execution_count": 39,
   "metadata": {},
   "outputs": [],
   "source": [
    "with open(data_path + 'feature_selection/'+'bin/'+'best_lr_62', 'wb') as f:\n",
    "    pickle.dump(kept_ind, f, pickle.HIGHEST_PROTOCOL)"
   ]
  },
  {
   "cell_type": "markdown",
   "metadata": {},
   "source": [
    "### LR with L1"
   ]
  },
  {
   "cell_type": "code",
   "execution_count": 7,
   "metadata": {
    "scrolled": true
   },
   "outputs": [
    {
     "name": "stdout",
     "output_type": "stream",
     "text": [
      "Optimal number of features : 68\n",
      "Max cv score :  0.944126593166002\n",
      "\n",
      "Testing set:\n",
      "AUROC: 0.9124751349815288 Accuracy:  0.875\n"
     ]
    },
    {
     "data": {
      "image/png": "[encoded data removed]",
      "text/plain": [
       "<Figure size 432x288 with 1 Axes>"
      ]
     },
     "metadata": {},
     "output_type": "display_data"
    }
   ],
   "source": [
    "# p = 70\n",
    "kept_ind2 = rfecv(train_X_sub,train_y,test_X_sub,test_y,lr_l1)"
   ]
  },
  {
   "cell_type": "markdown",
   "metadata": {},
   "source": [
    "**The 29,69 features are dropped**"
   ]
  },
  {
   "cell_type": "code",
   "execution_count": 42,
   "metadata": {
    "scrolled": true
   },
   "outputs": [
    {
     "name": "stdout",
     "output_type": "stream",
     "text": [
      "Parameter_grid: {'C': [0.01, 0.1, 1, 2, 3, 10, 100]}\n",
      "Best parameters set found on development set for AUC\n",
      "\n",
      "{'C': 1}\n",
      "\n",
      "Best estimator:\n",
      "LogisticRegression(C=1, class_weight=None, dual=False, fit_intercept=True,\n",
      "          intercept_scaling=1, max_iter=100, multi_class='ovr', n_jobs=-1,\n",
      "          penalty='l1', random_state=0, solver='liblinear', tol=0.0001,\n",
      "          verbose=0, warm_start=False)\n",
      "\n",
      "Grid scores on training set:\n",
      "\n",
      "AUROC: 0.500 (+/-0.000), Accuracy: 0.549 (+/-0.007) for {'C': 0.01}\n",
      "AUROC: 0.813 (+/-0.101), Accuracy: 0.729 (+/-0.098) for {'C': 0.1}\n",
      "AUROC: 0.944 (+/-0.044), Accuracy: 0.889 (+/-0.069) for {'C': 1}\n",
      "AUROC: 0.944 (+/-0.041), Accuracy: 0.891 (+/-0.073) for {'C': 2}\n",
      "AUROC: 0.941 (+/-0.044), Accuracy: 0.891 (+/-0.073) for {'C': 3}\n",
      "AUROC: 0.939 (+/-0.052), Accuracy: 0.894 (+/-0.068) for {'C': 10}\n",
      "AUROC: 0.931 (+/-0.056), Accuracy: 0.886 (+/-0.085) for {'C': 100}\n",
      "\n",
      "Best AUROC: 0.9440445663803564  with Accuracy: 0.8892355694227769\n",
      "\n",
      "Detailed classification report:\n",
      "\n",
      "The model is trained on the full development set.\n",
      "The scores are computed on the full testing set.\n",
      "\n",
      "             precision    recall  f1-score   support\n",
      "\n",
      "          0       0.86      0.94      0.90        69\n",
      "          1       0.91      0.78      0.84        51\n",
      "\n",
      "avg / total       0.88      0.88      0.87       120\n",
      "\n",
      "Accuracy: 0.875\n",
      "\n",
      "AUROC: 0.9124751349815288\n",
      "\n",
      "Confusion matrix:\n",
      "      CMV-  CMV+\n",
      "CMV-    65     4\n",
      "CMV+    11    40\n",
      "\n"
     ]
    }
   ],
   "source": [
    "param_grid = {\n",
    "    'C':[0.01,0.1,1,2,3,10,100]\n",
    "}\n",
    "grid_search(lr_l1,train_X_sub[:,:70],train_y,test_X_sub[:,:70],test_y,param_grid)"
   ]
  },
  {
   "cell_type": "markdown",
   "metadata": {},
   "source": [
    "### RF"
   ]
  },
  {
   "cell_type": "code",
   "execution_count": 7,
   "metadata": {
    "scrolled": true
   },
   "outputs": [
    {
     "name": "stdout",
     "output_type": "stream",
     "text": [
      "Optimal number of features : 68\n",
      "Max cv score :  0.9451786691688169\n",
      "\n",
      "Testing set:\n",
      "AUROC: 0.9381926683716965 Accuracy:  0.9166666666666666\n",
      "[ 0  1  2  3  4  5  6  7  8  9 10 11 12 13 14 15 16 17 18 19 20 21 22 23\n",
      " 24 25 26 27 28 29 30 31 32 33 34 35 36 37 38 39 40 41 42 43 44 45 46 47\n",
      " 48 49 50 51 52 53 55 56 57 59 60 61 62 63 64 65 66 67 68 69]\n"
     ]
    },
    {
     "data": {
      "text/plain": [
       "array([ 0,  1,  2,  3,  4,  5,  6,  7,  8,  9, 10, 11, 12, 13, 14, 15, 16,\n",
       "       17, 18, 19, 20, 21, 22, 23, 24, 25, 26, 27, 28, 29, 30, 31, 32, 33,\n",
       "       34, 35, 36, 37, 38, 39, 40, 41, 42, 43, 44, 45, 46, 47, 48, 49, 50,\n",
       "       51, 52, 53, 55, 56, 57, 59, 60, 61, 62, 63, 64, 65, 66, 67, 68, 69])"
      ]
     },
     "execution_count": 7,
     "metadata": {},
     "output_type": "execute_result"
    },
    {
     "data": {
      "image/png": "[encoded data removed]",
      "text/plain": [
       "<Figure size 432x288 with 1 Axes>"
      ]
     },
     "metadata": {},
     "output_type": "display_data"
    }
   ],
   "source": [
    "# p = 70\n",
    "rfecv(train_X_sub,train_y,test_X_sub,test_y,rf)"
   ]
  }
 ],
 "metadata": {
  "kernelspec": {
   "display_name": "Python 3/anaconda3/latest",
   "language": "python",
   "name": "python3"
  },
  "language_info": {
   "codemirror_mode": {
    "name": "ipython",
    "version": 3
   },
   "file_extension": ".py",
   "mimetype": "text/x-python",
   "name": "python",
   "nbconvert_exporter": "python",
   "pygments_lexer": "ipython3",
   "version": "3.6.8"
  },
  "varInspector": {
   "cols": {
    "lenName": 16,
    "lenType": 16,
    "lenVar": 40
   },
   "kernels_config": {
    "python": {
     "delete_cmd_postfix": "",
     "delete_cmd_prefix": "del ",
     "library": "var_list.py",
     "varRefreshCmd": "print(var_dic_list())"
    },
    "r": {
     "delete_cmd_postfix": ") ",
     "delete_cmd_prefix": "rm(",
     "library": "var_list.r",
     "varRefreshCmd": "cat(var_dic_list()) "
    }
   },
   "types_to_exclude": [
    "module",
    "function",
    "builtin_function_or_method",
    "instance",
    "_Feature"
   ],
   "window_display": false
  }
 },
 "nbformat": 4,
 "nbformat_minor": 2
}
