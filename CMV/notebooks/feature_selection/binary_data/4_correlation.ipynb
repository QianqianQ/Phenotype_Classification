{
 "cells": [
  {
   "cell_type": "code",
   "execution_count": 3,
   "metadata": {},
   "outputs": [],
   "source": [
    "import matplotlib\n",
    "matplotlib.use('Agg')\n",
    "\n",
    "# Handle table-like data and matrices\n",
    "import numpy as np\n",
    "import pandas as pd\n",
    "\n",
    "# Helpers\n",
    "import sys\n",
    "sys.path.insert(0,'../../')\n",
    "from utils import data_path,results_path,grid_search,estimator_result,cross_validate,evaluate_param\n",
    "from scipy.sparse import csr_matrix,save_npz,load_npz\n",
    "from sklearn.model_selection import cross_val_score,LeaveOneOut,StratifiedKFold\n",
    "from sklearn.metrics import accuracy_score,roc_auc_score,roc_curve\n",
    "from sklearn.metrics import make_scorer\n",
    "from sklearn.model_selection import GridSearchCV\n",
    "from sklearn.metrics import classification_report\n",
    "import pickle\n",
    "\n",
    "# Feature selection\n",
    "from sklearn.feature_selection import SelectFromModel\n",
    "from sklearn.feature_selection import RFECV,VarianceThreshold\n",
    "\n",
    "# Algorithm\n",
    "from sklearn.linear_model import LogisticRegression,LogisticRegressionCV\n",
    "from sklearn.svm import LinearSVC\n",
    "from sklearn.ensemble import RandomForestClassifier\n",
    "\n",
    "# Visualisation\n",
    "import matplotlib.pyplot as plt\n",
    "import seaborn as sns\n",
    "%matplotlib inline\n",
    "\n",
    "# Ignore warnings\n",
    "import warnings\n",
    "warnings.filterwarnings('ignore')"
   ]
  },
  {
   "cell_type": "markdown",
   "metadata": {},
   "source": [
    "## Load data"
   ]
  },
  {
   "cell_type": "code",
   "execution_count": 4,
   "metadata": {},
   "outputs": [],
   "source": [
    "train_X = load_npz(data_path + 'version_1/'+ 'train_bin.npz')\n",
    "test_X = load_npz(data_path + 'version_1/'+ 'test_bin.npz')\n",
    "\n",
    "train_y = pd.read_csv(data_path + 'train_Y.csv')['CMV_status']\n",
    "test_y = pd.read_csv(data_path + 'test_Y.csv')['CMV_status']"
   ]
  },
  {
   "cell_type": "markdown",
   "metadata": {},
   "source": [
    "**Select top 70 features**"
   ]
  },
  {
   "cell_type": "code",
   "execution_count": 5,
   "metadata": {},
   "outputs": [],
   "source": [
    "with open(data_path + 'sorted_TCRs_ind.pkl', 'rb') as f:\n",
    "    TCRs_ind = pickle.load(f)\n",
    "\n",
    "p = 70\n",
    "ind = TCRs_ind[:p]\n",
    "train_X_sub = train_X[:,ind].toarray()\n",
    "test_X_sub = test_X[:,ind].toarray()"
   ]
  },
  {
   "cell_type": "markdown",
   "metadata": {},
   "source": [
    "## Define classifier"
   ]
  },
  {
   "cell_type": "code",
   "execution_count": 6,
   "metadata": {},
   "outputs": [],
   "source": [
    "rf = RandomForestClassifier(bootstrap=True, class_weight=None, criterion='gini',\n",
    "                max_depth=31, max_features='auto', max_leaf_nodes=None,\n",
    "                min_impurity_decrease=0.0, min_impurity_split=None,\n",
    "                min_samples_leaf=1, min_samples_split=5,\n",
    "                min_weight_fraction_leaf=0.0, n_estimators=180, n_jobs=1,\n",
    "                oob_score=True, random_state=0, verbose=0, warm_start=False)"
   ]
  },
  {
   "cell_type": "markdown",
   "metadata": {},
   "source": [
    "## Feature selection"
   ]
  },
  {
   "cell_type": "markdown",
   "metadata": {},
   "source": [
    "### Testing each feature"
   ]
  },
  {
   "cell_type": "code",
   "execution_count": 15,
   "metadata": {
    "scrolled": true
   },
   "outputs": [
    {
     "ename": "ValueError",
     "evalue": "x and y must have same first dimension, but have shapes (70,) and (61,)",
     "output_type": "error",
     "traceback": [
      "\u001b[0;31m---------------------------------------------------------------------------\u001b[0m",
      "\u001b[0;31mValueError\u001b[0m                                Traceback (most recent call last)",
      "\u001b[0;32m<ipython-input-15-f28df62657e1>\u001b[0m in \u001b[0;36m<module>\u001b[0;34m()\u001b[0m\n\u001b[1;32m     30\u001b[0m \u001b[0mfig\u001b[0m \u001b[0;34m=\u001b[0m \u001b[0mplt\u001b[0m\u001b[0;34m.\u001b[0m\u001b[0mfigure\u001b[0m\u001b[0;34m(\u001b[0m\u001b[0mfigsize\u001b[0m\u001b[0;34m=\u001b[0m\u001b[0;34m(\u001b[0m\u001b[0;36m16\u001b[0m\u001b[0;34m,\u001b[0m\u001b[0;36m12\u001b[0m\u001b[0;34m)\u001b[0m\u001b[0;34m)\u001b[0m\u001b[0;34m\u001b[0m\u001b[0m\n\u001b[1;32m     31\u001b[0m \u001b[0max\u001b[0m \u001b[0;34m=\u001b[0m \u001b[0mfig\u001b[0m\u001b[0;34m.\u001b[0m\u001b[0madd_subplot\u001b[0m\u001b[0;34m(\u001b[0m\u001b[0;36m111\u001b[0m\u001b[0;34m)\u001b[0m\u001b[0;34m\u001b[0m\u001b[0m\n\u001b[0;32m---> 32\u001b[0;31m \u001b[0mline1\u001b[0m \u001b[0;34m=\u001b[0m \u001b[0max\u001b[0m\u001b[0;34m.\u001b[0m\u001b[0mplot\u001b[0m\u001b[0;34m(\u001b[0m\u001b[0mrange\u001b[0m\u001b[0;34m(\u001b[0m\u001b[0;36m1\u001b[0m\u001b[0;34m,\u001b[0m\u001b[0mlen\u001b[0m\u001b[0;34m(\u001b[0m\u001b[0mind\u001b[0m\u001b[0;34m)\u001b[0m\u001b[0;34m+\u001b[0m\u001b[0;36m1\u001b[0m\u001b[0;34m,\u001b[0m\u001b[0;36m1\u001b[0m\u001b[0;34m)\u001b[0m\u001b[0;34m,\u001b[0m\u001b[0mcv_auroc\u001b[0m\u001b[0;34m,\u001b[0m\u001b[0mlabel\u001b[0m\u001b[0;34m=\u001b[0m\u001b[0;34m'CV_AUROC'\u001b[0m\u001b[0;34m,\u001b[0m\u001b[0mmarker\u001b[0m\u001b[0;34m=\u001b[0m\u001b[0;34m'o'\u001b[0m\u001b[0;34m)\u001b[0m\u001b[0;34m\u001b[0m\u001b[0m\n\u001b[0m\u001b[1;32m     33\u001b[0m \u001b[0mline2\u001b[0m \u001b[0;34m=\u001b[0m \u001b[0max\u001b[0m\u001b[0;34m.\u001b[0m\u001b[0mplot\u001b[0m\u001b[0;34m(\u001b[0m\u001b[0mrange\u001b[0m\u001b[0;34m(\u001b[0m\u001b[0;36m1\u001b[0m\u001b[0;34m,\u001b[0m\u001b[0mlen\u001b[0m\u001b[0;34m(\u001b[0m\u001b[0mind\u001b[0m\u001b[0;34m)\u001b[0m\u001b[0;34m+\u001b[0m\u001b[0;36m1\u001b[0m\u001b[0;34m,\u001b[0m\u001b[0;36m1\u001b[0m\u001b[0;34m)\u001b[0m\u001b[0;34m,\u001b[0m\u001b[0mcv_acc\u001b[0m\u001b[0;34m,\u001b[0m\u001b[0mlabel\u001b[0m\u001b[0;34m=\u001b[0m\u001b[0;34m'CV_Accuracy'\u001b[0m\u001b[0;34m,\u001b[0m\u001b[0mmarker\u001b[0m\u001b[0;34m=\u001b[0m\u001b[0;34m'o'\u001b[0m\u001b[0;34m)\u001b[0m\u001b[0;34m\u001b[0m\u001b[0m\n\u001b[1;32m     34\u001b[0m \u001b[0mline3\u001b[0m \u001b[0;34m=\u001b[0m \u001b[0max\u001b[0m\u001b[0;34m.\u001b[0m\u001b[0mplot\u001b[0m\u001b[0;34m(\u001b[0m\u001b[0mrange\u001b[0m\u001b[0;34m(\u001b[0m\u001b[0;36m1\u001b[0m\u001b[0;34m,\u001b[0m\u001b[0mlen\u001b[0m\u001b[0;34m(\u001b[0m\u001b[0mind\u001b[0m\u001b[0;34m)\u001b[0m\u001b[0;34m+\u001b[0m\u001b[0;36m1\u001b[0m\u001b[0;34m,\u001b[0m\u001b[0;36m1\u001b[0m\u001b[0;34m)\u001b[0m\u001b[0;34m,\u001b[0m\u001b[0mtest_auroc\u001b[0m\u001b[0;34m,\u001b[0m\u001b[0mlabel\u001b[0m\u001b[0;34m=\u001b[0m\u001b[0;34m'Test_AUROC'\u001b[0m\u001b[0;34m,\u001b[0m\u001b[0mmarker\u001b[0m\u001b[0;34m=\u001b[0m\u001b[0;34m'o'\u001b[0m\u001b[0;34m)\u001b[0m\u001b[0;34m\u001b[0m\u001b[0m\n",
      "\u001b[0;32m/share/apps/anaconda-ci/envs/anaconda3/5.1.0-gpu/lib/python3.6/site-packages/matplotlib/__init__.py\u001b[0m in \u001b[0;36minner\u001b[0;34m(ax, *args, **kwargs)\u001b[0m\n\u001b[1;32m   1715\u001b[0m                     warnings.warn(msg % (label_namer, func.__name__),\n\u001b[1;32m   1716\u001b[0m                                   RuntimeWarning, stacklevel=2)\n\u001b[0;32m-> 1717\u001b[0;31m             \u001b[0;32mreturn\u001b[0m \u001b[0mfunc\u001b[0m\u001b[0;34m(\u001b[0m\u001b[0max\u001b[0m\u001b[0;34m,\u001b[0m \u001b[0;34m*\u001b[0m\u001b[0margs\u001b[0m\u001b[0;34m,\u001b[0m \u001b[0;34m**\u001b[0m\u001b[0mkwargs\u001b[0m\u001b[0;34m)\u001b[0m\u001b[0;34m\u001b[0m\u001b[0m\n\u001b[0m\u001b[1;32m   1718\u001b[0m         \u001b[0mpre_doc\u001b[0m \u001b[0;34m=\u001b[0m \u001b[0minner\u001b[0m\u001b[0;34m.\u001b[0m\u001b[0m__doc__\u001b[0m\u001b[0;34m\u001b[0m\u001b[0m\n\u001b[1;32m   1719\u001b[0m         \u001b[0;32mif\u001b[0m \u001b[0mpre_doc\u001b[0m \u001b[0;32mis\u001b[0m \u001b[0;32mNone\u001b[0m\u001b[0;34m:\u001b[0m\u001b[0;34m\u001b[0m\u001b[0m\n",
      "\u001b[0;32m/share/apps/anaconda-ci/envs/anaconda3/5.1.0-gpu/lib/python3.6/site-packages/matplotlib/axes/_axes.py\u001b[0m in \u001b[0;36mplot\u001b[0;34m(self, *args, **kwargs)\u001b[0m\n\u001b[1;32m   1370\u001b[0m         \u001b[0mkwargs\u001b[0m \u001b[0;34m=\u001b[0m \u001b[0mcbook\u001b[0m\u001b[0;34m.\u001b[0m\u001b[0mnormalize_kwargs\u001b[0m\u001b[0;34m(\u001b[0m\u001b[0mkwargs\u001b[0m\u001b[0;34m,\u001b[0m \u001b[0m_alias_map\u001b[0m\u001b[0;34m)\u001b[0m\u001b[0;34m\u001b[0m\u001b[0m\n\u001b[1;32m   1371\u001b[0m \u001b[0;34m\u001b[0m\u001b[0m\n\u001b[0;32m-> 1372\u001b[0;31m         \u001b[0;32mfor\u001b[0m \u001b[0mline\u001b[0m \u001b[0;32min\u001b[0m \u001b[0mself\u001b[0m\u001b[0;34m.\u001b[0m\u001b[0m_get_lines\u001b[0m\u001b[0;34m(\u001b[0m\u001b[0;34m*\u001b[0m\u001b[0margs\u001b[0m\u001b[0;34m,\u001b[0m \u001b[0;34m**\u001b[0m\u001b[0mkwargs\u001b[0m\u001b[0;34m)\u001b[0m\u001b[0;34m:\u001b[0m\u001b[0;34m\u001b[0m\u001b[0m\n\u001b[0m\u001b[1;32m   1373\u001b[0m             \u001b[0mself\u001b[0m\u001b[0;34m.\u001b[0m\u001b[0madd_line\u001b[0m\u001b[0;34m(\u001b[0m\u001b[0mline\u001b[0m\u001b[0;34m)\u001b[0m\u001b[0;34m\u001b[0m\u001b[0m\n\u001b[1;32m   1374\u001b[0m             \u001b[0mlines\u001b[0m\u001b[0;34m.\u001b[0m\u001b[0mappend\u001b[0m\u001b[0;34m(\u001b[0m\u001b[0mline\u001b[0m\u001b[0;34m)\u001b[0m\u001b[0;34m\u001b[0m\u001b[0m\n",
      "\u001b[0;32m/share/apps/anaconda-ci/envs/anaconda3/5.1.0-gpu/lib/python3.6/site-packages/matplotlib/axes/_base.py\u001b[0m in \u001b[0;36m_grab_next_args\u001b[0;34m(self, *args, **kwargs)\u001b[0m\n\u001b[1;32m    402\u001b[0m                 \u001b[0mthis\u001b[0m \u001b[0;34m+=\u001b[0m \u001b[0margs\u001b[0m\u001b[0;34m[\u001b[0m\u001b[0;36m0\u001b[0m\u001b[0;34m]\u001b[0m\u001b[0;34m,\u001b[0m\u001b[0;34m\u001b[0m\u001b[0m\n\u001b[1;32m    403\u001b[0m                 \u001b[0margs\u001b[0m \u001b[0;34m=\u001b[0m \u001b[0margs\u001b[0m\u001b[0;34m[\u001b[0m\u001b[0;36m1\u001b[0m\u001b[0;34m:\u001b[0m\u001b[0;34m]\u001b[0m\u001b[0;34m\u001b[0m\u001b[0m\n\u001b[0;32m--> 404\u001b[0;31m             \u001b[0;32mfor\u001b[0m \u001b[0mseg\u001b[0m \u001b[0;32min\u001b[0m \u001b[0mself\u001b[0m\u001b[0;34m.\u001b[0m\u001b[0m_plot_args\u001b[0m\u001b[0;34m(\u001b[0m\u001b[0mthis\u001b[0m\u001b[0;34m,\u001b[0m \u001b[0mkwargs\u001b[0m\u001b[0;34m)\u001b[0m\u001b[0;34m:\u001b[0m\u001b[0;34m\u001b[0m\u001b[0m\n\u001b[0m\u001b[1;32m    405\u001b[0m                 \u001b[0;32myield\u001b[0m \u001b[0mseg\u001b[0m\u001b[0;34m\u001b[0m\u001b[0m\n\u001b[1;32m    406\u001b[0m \u001b[0;34m\u001b[0m\u001b[0m\n",
      "\u001b[0;32m/share/apps/anaconda-ci/envs/anaconda3/5.1.0-gpu/lib/python3.6/site-packages/matplotlib/axes/_base.py\u001b[0m in \u001b[0;36m_plot_args\u001b[0;34m(self, tup, kwargs)\u001b[0m\n\u001b[1;32m    382\u001b[0m             \u001b[0mx\u001b[0m\u001b[0;34m,\u001b[0m \u001b[0my\u001b[0m \u001b[0;34m=\u001b[0m \u001b[0mindex_of\u001b[0m\u001b[0;34m(\u001b[0m\u001b[0mtup\u001b[0m\u001b[0;34m[\u001b[0m\u001b[0;34m-\u001b[0m\u001b[0;36m1\u001b[0m\u001b[0;34m]\u001b[0m\u001b[0;34m)\u001b[0m\u001b[0;34m\u001b[0m\u001b[0m\n\u001b[1;32m    383\u001b[0m \u001b[0;34m\u001b[0m\u001b[0m\n\u001b[0;32m--> 384\u001b[0;31m         \u001b[0mx\u001b[0m\u001b[0;34m,\u001b[0m \u001b[0my\u001b[0m \u001b[0;34m=\u001b[0m \u001b[0mself\u001b[0m\u001b[0;34m.\u001b[0m\u001b[0m_xy_from_xy\u001b[0m\u001b[0;34m(\u001b[0m\u001b[0mx\u001b[0m\u001b[0;34m,\u001b[0m \u001b[0my\u001b[0m\u001b[0;34m)\u001b[0m\u001b[0;34m\u001b[0m\u001b[0m\n\u001b[0m\u001b[1;32m    385\u001b[0m \u001b[0;34m\u001b[0m\u001b[0m\n\u001b[1;32m    386\u001b[0m         \u001b[0;32mif\u001b[0m \u001b[0mself\u001b[0m\u001b[0;34m.\u001b[0m\u001b[0mcommand\u001b[0m \u001b[0;34m==\u001b[0m \u001b[0;34m'plot'\u001b[0m\u001b[0;34m:\u001b[0m\u001b[0;34m\u001b[0m\u001b[0m\n",
      "\u001b[0;32m/share/apps/anaconda-ci/envs/anaconda3/5.1.0-gpu/lib/python3.6/site-packages/matplotlib/axes/_base.py\u001b[0m in \u001b[0;36m_xy_from_xy\u001b[0;34m(self, x, y)\u001b[0m\n\u001b[1;32m    241\u001b[0m         \u001b[0;32mif\u001b[0m \u001b[0mx\u001b[0m\u001b[0;34m.\u001b[0m\u001b[0mshape\u001b[0m\u001b[0;34m[\u001b[0m\u001b[0;36m0\u001b[0m\u001b[0;34m]\u001b[0m \u001b[0;34m!=\u001b[0m \u001b[0my\u001b[0m\u001b[0;34m.\u001b[0m\u001b[0mshape\u001b[0m\u001b[0;34m[\u001b[0m\u001b[0;36m0\u001b[0m\u001b[0;34m]\u001b[0m\u001b[0;34m:\u001b[0m\u001b[0;34m\u001b[0m\u001b[0m\n\u001b[1;32m    242\u001b[0m             raise ValueError(\"x and y must have same first dimension, but \"\n\u001b[0;32m--> 243\u001b[0;31m                              \"have shapes {} and {}\".format(x.shape, y.shape))\n\u001b[0m\u001b[1;32m    244\u001b[0m         \u001b[0;32mif\u001b[0m \u001b[0mx\u001b[0m\u001b[0;34m.\u001b[0m\u001b[0mndim\u001b[0m \u001b[0;34m>\u001b[0m \u001b[0;36m2\u001b[0m \u001b[0;32mor\u001b[0m \u001b[0my\u001b[0m\u001b[0;34m.\u001b[0m\u001b[0mndim\u001b[0m \u001b[0;34m>\u001b[0m \u001b[0;36m2\u001b[0m\u001b[0;34m:\u001b[0m\u001b[0;34m\u001b[0m\u001b[0m\n\u001b[1;32m    245\u001b[0m             raise ValueError(\"x and y can be no greater than 2-D, but have \"\n",
      "\u001b[0;31mValueError\u001b[0m: x and y must have same first dimension, but have shapes (70,) and (61,)"
     ]
    },
    {
     "data": {
      "image/png": "[encoded data removed]",
      "text/plain": [
       "<matplotlib.figure.Figure at 0x2b1d9f04f7b8>"
      ]
     },
     "metadata": {},
     "output_type": "display_data"
    }
   ],
   "source": [
    "cv_auroc = []\n",
    "cv_acc = []\n",
    "test_auroc = []\n",
    "test_acc = []\n",
    "\n",
    "ind_list = ind.tolist()[:61]\n",
    "\n",
    "for i in ind_list:\n",
    "    sub_ind = ind_list.copy()\n",
    "    sub_ind.remove(i)\n",
    "    train_x_sub = train_X[:,sub_ind].toarray()\n",
    "    test_x_sub = test_X[:,sub_ind].toarray()\n",
    "    cv_results = cross_validate(rf,train_x_sub,train_y,scoring=('accuracy', 'roc_auc'),cv=StratifiedKFold(10,random_state=0))\n",
    "    cv_acc.append(np.mean(cv_results['test_accuracy']))\n",
    "    cv_auroc.append(np.mean(cv_results['test_roc_auc']))\n",
    "\n",
    "    # fit training set\n",
    "    rf.fit(X=train_x_sub, y=train_y)\n",
    "\n",
    "    # predict test_Y\n",
    "    predict_test = rf.predict(test_x_sub)\n",
    "    test_acc.append(accuracy_score(test_y, predict_test))\n",
    "\n",
    "    # AUROC of testing set\n",
    "    predict_test_prob = rf.predict_proba(test_x_sub)\n",
    "    pos_prob_test = predict_test_prob[:, 1]\n",
    "    test_auroc.append(roc_auc_score(test_y, pos_prob_test))\n",
    "    \n",
    "    \n",
    "fig = plt.figure(figsize=(16,12))\n",
    "ax = fig.add_subplot(111)\n",
    "line1 = ax.plot(range(1,len(ind)+1,1),cv_auroc,label='CV_AUROC',marker='o')\n",
    "line2 = ax.plot(range(1,len(ind)+1,1),cv_acc,label='CV_Accuracy',marker='o')\n",
    "line3 = ax.plot(range(1,len(ind)+1,1),test_auroc,label='Test_AUROC',marker='o')\n",
    "line4 = ax.plot(range(1,len(ind)+1,1),test_acc,label='Test_Accuracy',marker='o')\n",
    "\n",
    "ax.set_ylabel('Scores')\n",
    "ax.set_xlabel('Removed feature')\n",
    "ax.set_xticks(range(0,len(ind)+1,1))\n",
    "ax.set_yticks(np.arange(0.5,1,0.1))\n",
    "ax.legend(loc='best', bbox_to_anchor=(1,1))\n",
    "\n",
    "print('Best(cv_auroc)')\n",
    "index_cv_auc = cv_auroc.index(max(cv_auroc))\n",
    "print('Max CV AUROC:',cv_auroc[index_cv_auc],'with accuracy:',cv_acc[index_cv_auc])\n",
    "print('index of Removed feature',index_cv_auc)\n",
    "\n",
    "print('Best(cv_acc)')\n",
    "index_cv_acc = cv_acc.index(max(cv_acc))\n",
    "print('Max CV ACC:',cv_auroc[index_cv_acc],'with accuracy:',cv_acc[index_cv_acc])\n",
    "print('index of Removed feature',index_cv_acc)\n",
    "\n",
    "print('Best(test_auroc)')\n",
    "index_test_auc = test_auroc.index(max(test_auroc))\n",
    "print('Max test AUROC:',test_auroc[index_test_auc],'with accuracy:',test_acc[index_test_auc])\n",
    "print('index of Removed feature',index_test_auc)\n",
    "\n",
    "print('Best(test_acc)')\n",
    "index_test_acc = test_acc.index(max(test_acc))\n",
    "print('Max test AUROC:',test_auroc[index_test_acc],'with accuracy:',test_acc[index_test_acc])\n",
    "print('index of Removed feature',index_test_acc)\n",
    "\n",
    "plt.show()"
   ]
  },
  {
   "cell_type": "code",
   "execution_count": 14,
   "metadata": {
    "scrolled": true
   },
   "outputs": [
    {
     "name": "stdout",
     "output_type": "stream",
     "text": [
      "CV acc: 0.8815098443223442\n",
      "CV auroc: 0.942757447806709\n",
      "Test acc: 0.9\n",
      "Test auroc: 0.9249786871270247\n"
     ]
    }
   ],
   "source": [
    "ind_list = ind.tolist()[:62]\n",
    "sub_ind = ind_list.copy()\n",
    "# sub_ind.remove(sub_ind[4])\n",
    "train_x_sub = train_X[:,sub_ind].toarray()\n",
    "test_x_sub = test_X[:,sub_ind].toarray()\n",
    "cv_results = cross_validate(rf,train_x_sub,train_y,scoring=('accuracy', 'roc_auc'),cv=StratifiedKFold(10,random_state=0))\n",
    "print('CV acc:',np.mean(cv_results['test_accuracy']))\n",
    "print('CV auroc:',np.mean(cv_results['test_roc_auc']))\n",
    "\n",
    "rf.fit(X=train_x_sub, y=train_y)\n",
    "\n",
    "# predict test_Y\n",
    "predict_test = rf.predict(test_x_sub)\n",
    "print('Test acc:',accuracy_score(test_y, predict_test))\n",
    "\n",
    "# AUROC of testing set\n",
    "predict_test_prob = rf.predict_proba(test_x_sub)\n",
    "pos_prob_test = predict_test_prob[:, 1]\n",
    "print('Test auroc:',roc_auc_score(test_y, pos_prob_test))"
   ]
  },
  {
   "cell_type": "code",
   "execution_count": 8,
   "metadata": {
    "scrolled": true
   },
   "outputs": [
    {
     "name": "stdout",
     "output_type": "stream",
     "text": [
      "cv_auroc: 0.942, cv_acc: 0.888, test_auroc: 0.940, test_acc: 0.925\n",
      "cv_auroc: 0.944, cv_acc: 0.891, test_auroc: 0.940, test_acc: 0.925\n",
      "cv_auroc: 0.942, cv_acc: 0.899, test_auroc: 0.940, test_acc: 0.908\n",
      "cv_auroc: 0.946, cv_acc: 0.897, test_auroc: 0.940, test_acc: 0.917\n"
     ]
    }
   ],
   "source": [
    "ind_gt_auroc = np.argwhere(np.array(test_auroc) > 0.939).flatten().tolist()\n",
    "ind_gt_acc = np.argwhere(np.array(test_acc) > 0.892).flatten().tolist()\n",
    "ind_gt = np.intersect1d(ind_gt_auroc,ind_gt_acc)\n",
    "for i_cv_auroc, i_cv_acc, i_test_auroc, i_test_acc in zip(np.array(cv_auroc)[ind_gt],np.array(cv_acc)[ind_gt],np.array(test_auroc)[ind_gt],np.array(test_acc)[ind_gt]):\n",
    "    print('cv_auroc: %.3f, cv_acc: %.3f, test_auroc: %.3f, test_acc: %.3f'%(i_cv_auroc,i_cv_acc,i_test_auroc,i_test_acc))"
   ]
  },
  {
   "cell_type": "code",
   "execution_count": 10,
   "metadata": {},
   "outputs": [
    {
     "name": "stdout",
     "output_type": "stream",
     "text": [
      "No feature matches the requirement\n"
     ]
    }
   ],
   "source": [
    "ind_gt_auroc = np.argwhere(np.array(test_auroc) > 0.951).flatten().tolist()\n",
    "ind_gt_acc = np.argwhere(np.array(test_acc) > 0.933).flatten().tolist()\n",
    "ind_gt = np.intersect1d(ind_gt_auroc,ind_gt_acc)\n",
    "if len(ind_gt)==0:\n",
    "    print('No feature matches the requirement')\n",
    "else:\n",
    "    for i_cv_auroc, i_cv_acc, i_test_auroc, i_test_acc in zip(np.array(cv_auroc)[ind_gt],np.array(cv_acc)[ind_gt],np.array(test_auroc)[ind_gt],np.array(test_acc)[ind_gt]):\n",
    "        print('cv_auroc: %.3f, cv_acc: %.3f, test_auroc: %.3f, test_acc: %.3f'%(i_cv_auroc,i_cv_acc,i_test_auroc,i_test_acc))"
   ]
  },
  {
   "cell_type": "markdown",
   "metadata": {},
   "source": [
    "## Correlation"
   ]
  },
  {
   "cell_type": "code",
   "execution_count": 5,
   "metadata": {},
   "outputs": [
    {
     "name": "stdout",
     "output_type": "stream",
     "text": [
      "['/test', '/train']\n"
     ]
    }
   ],
   "source": [
    "# Get TCRs\n",
    "store = pd.HDFStore(data_path+'version_1/'+'data.h5')\n",
    "print(store.keys())\n",
    "train = store['train']\n",
    "store.close()"
   ]
  },
  {
   "cell_type": "code",
   "execution_count": 6,
   "metadata": {},
   "outputs": [],
   "source": [
    "train.drop(['sample_name','CMV_status'],axis=1,inplace=True)\n",
    "TCRs = train.columns.values"
   ]
  },
  {
   "cell_type": "code",
   "execution_count": 7,
   "metadata": {
    "scrolled": true
   },
   "outputs": [],
   "source": [
    "df = pd.DataFrame(train_X_sub,columns=TCRs[ind])"
   ]
  },
  {
   "cell_type": "code",
   "execution_count": 8,
   "metadata": {},
   "outputs": [
    {
     "data": {
      "text/html": [
       "<div>\n",
       "<style scoped>\n",
       "    .dataframe tbody tr th:only-of-type {\n",
       "        vertical-align: middle;\n",
       "    }\n",
       "\n",
       "    .dataframe tbody tr th {\n",
       "        vertical-align: top;\n",
       "    }\n",
       "\n",
       "    .dataframe thead tr th {\n",
       "        text-align: left;\n",
       "    }\n",
       "</style>\n",
       "<table border=\"1\" class=\"dataframe\">\n",
       "  <thead>\n",
       "    <tr>\n",
       "      <th></th>\n",
       "      <th>TCRBV09</th>\n",
       "      <th>TCRBV19</th>\n",
       "      <th>TCRBV05</th>\n",
       "      <th>TCRBV07</th>\n",
       "      <th>TCRBV28</th>\n",
       "      <th>TCRBV24</th>\n",
       "      <th>TCRBV05</th>\n",
       "      <th>TCRBV07</th>\n",
       "      <th>TCRBV09</th>\n",
       "      <th>TCRBV04</th>\n",
       "      <th>...</th>\n",
       "      <th>TCRBV05</th>\n",
       "      <th>TCRBV02</th>\n",
       "      <th>TCRBV11</th>\n",
       "      <th>TCRBV20</th>\n",
       "      <th>TCRBV10</th>\n",
       "      <th>TCRBV05</th>\n",
       "      <th>TCRBV11</th>\n",
       "      <th>TCRBV05</th>\n",
       "      <th>TCRBV07</th>\n",
       "      <th>TCRBV28</th>\n",
       "    </tr>\n",
       "    <tr>\n",
       "      <th></th>\n",
       "      <th>TCRBV09-01</th>\n",
       "      <th>TCRBV19-01</th>\n",
       "      <th>TCRBV05-01</th>\n",
       "      <th>TCRBV07-02</th>\n",
       "      <th>TCRBV28-01</th>\n",
       "      <th>unresolved</th>\n",
       "      <th>TCRBV05-06</th>\n",
       "      <th>TCRBV07-06</th>\n",
       "      <th>TCRBV09-01</th>\n",
       "      <th>TCRBV04-03</th>\n",
       "      <th>...</th>\n",
       "      <th>TCRBV05-06</th>\n",
       "      <th>TCRBV02-01</th>\n",
       "      <th>TCRBV11-01</th>\n",
       "      <th>unresolved</th>\n",
       "      <th>TCRBV10-02</th>\n",
       "      <th>TCRBV05-06</th>\n",
       "      <th>TCRBV11-02</th>\n",
       "      <th>TCRBV05-05</th>\n",
       "      <th>TCRBV07-08</th>\n",
       "      <th>TCRBV28-01</th>\n",
       "    </tr>\n",
       "    <tr>\n",
       "      <th></th>\n",
       "      <th>null</th>\n",
       "      <th>null</th>\n",
       "      <th>01</th>\n",
       "      <th>01</th>\n",
       "      <th>01</th>\n",
       "      <th>null</th>\n",
       "      <th>01</th>\n",
       "      <th>01</th>\n",
       "      <th>null</th>\n",
       "      <th>01</th>\n",
       "      <th>...</th>\n",
       "      <th>01</th>\n",
       "      <th>01</th>\n",
       "      <th>01</th>\n",
       "      <th>null</th>\n",
       "      <th>01</th>\n",
       "      <th>01</th>\n",
       "      <th>02</th>\n",
       "      <th>01</th>\n",
       "      <th>01</th>\n",
       "      <th>01</th>\n",
       "    </tr>\n",
       "    <tr>\n",
       "      <th></th>\n",
       "      <th>CASSGQGAYEQYF</th>\n",
       "      <th>CASSIGPLEHNEQFF</th>\n",
       "      <th>CASSPDRVGQETQYF</th>\n",
       "      <th>CASSLEAEYEQYF</th>\n",
       "      <th>CASSIEGNQPQHF</th>\n",
       "      <th>CATSDGDEQFF</th>\n",
       "      <th>CASSLVAGGRETQYF</th>\n",
       "      <th>CASSRGRQETQYF</th>\n",
       "      <th>CASSAGQGVTYEQYF</th>\n",
       "      <th>CASSPQRNTEAFF</th>\n",
       "      <th>...</th>\n",
       "      <th>CASSSGQVYGYTF</th>\n",
       "      <th>CASSEEGIQPQHF</th>\n",
       "      <th>CASSFPGGETQYF</th>\n",
       "      <th>CSALGHSNQPQHF</th>\n",
       "      <th>CASSEGARQPQHF</th>\n",
       "      <th>CASSLETYGYTF</th>\n",
       "      <th>CASSSGQVQETQYF</th>\n",
       "      <th>CASSLLWDQPQHF</th>\n",
       "      <th>CASSLVGDGYTF</th>\n",
       "      <th>CASSSRGTGELFF</th>\n",
       "    </tr>\n",
       "    <tr>\n",
       "      <th></th>\n",
       "      <th>TCRBJ02</th>\n",
       "      <th>TCRBJ02</th>\n",
       "      <th>TCRBJ02</th>\n",
       "      <th>TCRBJ02</th>\n",
       "      <th>TCRBJ01</th>\n",
       "      <th>TCRBJ02</th>\n",
       "      <th>TCRBJ02</th>\n",
       "      <th>TCRBJ02</th>\n",
       "      <th>TCRBJ02</th>\n",
       "      <th>TCRBJ01</th>\n",
       "      <th>...</th>\n",
       "      <th>TCRBJ01</th>\n",
       "      <th>TCRBJ01</th>\n",
       "      <th>TCRBJ02</th>\n",
       "      <th>TCRBJ01</th>\n",
       "      <th>TCRBJ01</th>\n",
       "      <th>TCRBJ01</th>\n",
       "      <th>TCRBJ02</th>\n",
       "      <th>TCRBJ01</th>\n",
       "      <th>TCRBJ01</th>\n",
       "      <th>TCRBJ02</th>\n",
       "    </tr>\n",
       "    <tr>\n",
       "      <th></th>\n",
       "      <th>TCRBJ02-07</th>\n",
       "      <th>TCRBJ02-01</th>\n",
       "      <th>TCRBJ02-05</th>\n",
       "      <th>TCRBJ02-07</th>\n",
       "      <th>TCRBJ01-05</th>\n",
       "      <th>TCRBJ02-01</th>\n",
       "      <th>TCRBJ02-05</th>\n",
       "      <th>TCRBJ02-05</th>\n",
       "      <th>TCRBJ02-07</th>\n",
       "      <th>TCRBJ01-01</th>\n",
       "      <th>...</th>\n",
       "      <th>TCRBJ01-02</th>\n",
       "      <th>TCRBJ01-05</th>\n",
       "      <th>TCRBJ02-05</th>\n",
       "      <th>TCRBJ01-05</th>\n",
       "      <th>TCRBJ01-05</th>\n",
       "      <th>TCRBJ01-02</th>\n",
       "      <th>TCRBJ02-05</th>\n",
       "      <th>TCRBJ01-05</th>\n",
       "      <th>TCRBJ01-02</th>\n",
       "      <th>TCRBJ02-02</th>\n",
       "    </tr>\n",
       "    <tr>\n",
       "      <th></th>\n",
       "      <th>01</th>\n",
       "      <th>01</th>\n",
       "      <th>01</th>\n",
       "      <th>01</th>\n",
       "      <th>01</th>\n",
       "      <th>01</th>\n",
       "      <th>01</th>\n",
       "      <th>01</th>\n",
       "      <th>01</th>\n",
       "      <th>01</th>\n",
       "      <th>...</th>\n",
       "      <th>01</th>\n",
       "      <th>01</th>\n",
       "      <th>01</th>\n",
       "      <th>01</th>\n",
       "      <th>01</th>\n",
       "      <th>01</th>\n",
       "      <th>01</th>\n",
       "      <th>01</th>\n",
       "      <th>01</th>\n",
       "      <th>01</th>\n",
       "    </tr>\n",
       "  </thead>\n",
       "  <tbody>\n",
       "    <tr>\n",
       "      <th>0</th>\n",
       "      <td>0.0</td>\n",
       "      <td>0.0</td>\n",
       "      <td>0.0</td>\n",
       "      <td>0.0</td>\n",
       "      <td>0.0</td>\n",
       "      <td>0.0</td>\n",
       "      <td>0.000000</td>\n",
       "      <td>0.0</td>\n",
       "      <td>0.0</td>\n",
       "      <td>0.000000</td>\n",
       "      <td>...</td>\n",
       "      <td>0.0</td>\n",
       "      <td>0.0</td>\n",
       "      <td>0.0</td>\n",
       "      <td>0.000000</td>\n",
       "      <td>0.000000</td>\n",
       "      <td>0.0</td>\n",
       "      <td>0.0</td>\n",
       "      <td>0.0</td>\n",
       "      <td>0.0</td>\n",
       "      <td>0.0</td>\n",
       "    </tr>\n",
       "    <tr>\n",
       "      <th>1</th>\n",
       "      <td>0.0</td>\n",
       "      <td>0.0</td>\n",
       "      <td>0.0</td>\n",
       "      <td>0.0</td>\n",
       "      <td>0.0</td>\n",
       "      <td>0.0</td>\n",
       "      <td>0.000000</td>\n",
       "      <td>0.0</td>\n",
       "      <td>0.0</td>\n",
       "      <td>0.000000</td>\n",
       "      <td>...</td>\n",
       "      <td>0.0</td>\n",
       "      <td>0.0</td>\n",
       "      <td>0.0</td>\n",
       "      <td>0.000000</td>\n",
       "      <td>0.000000</td>\n",
       "      <td>0.0</td>\n",
       "      <td>0.0</td>\n",
       "      <td>0.0</td>\n",
       "      <td>0.0</td>\n",
       "      <td>0.0</td>\n",
       "    </tr>\n",
       "    <tr>\n",
       "      <th>2</th>\n",
       "      <td>0.0</td>\n",
       "      <td>0.0</td>\n",
       "      <td>0.0</td>\n",
       "      <td>0.0</td>\n",
       "      <td>0.0</td>\n",
       "      <td>0.0</td>\n",
       "      <td>0.000004</td>\n",
       "      <td>0.0</td>\n",
       "      <td>0.0</td>\n",
       "      <td>0.000007</td>\n",
       "      <td>...</td>\n",
       "      <td>0.0</td>\n",
       "      <td>0.0</td>\n",
       "      <td>0.0</td>\n",
       "      <td>0.000000</td>\n",
       "      <td>0.000000</td>\n",
       "      <td>0.0</td>\n",
       "      <td>0.0</td>\n",
       "      <td>0.0</td>\n",
       "      <td>0.0</td>\n",
       "      <td>0.0</td>\n",
       "    </tr>\n",
       "    <tr>\n",
       "      <th>3</th>\n",
       "      <td>0.0</td>\n",
       "      <td>0.0</td>\n",
       "      <td>0.0</td>\n",
       "      <td>0.0</td>\n",
       "      <td>0.0</td>\n",
       "      <td>0.0</td>\n",
       "      <td>0.000000</td>\n",
       "      <td>0.0</td>\n",
       "      <td>0.0</td>\n",
       "      <td>0.000000</td>\n",
       "      <td>...</td>\n",
       "      <td>0.0</td>\n",
       "      <td>0.0</td>\n",
       "      <td>0.0</td>\n",
       "      <td>0.000000</td>\n",
       "      <td>0.000000</td>\n",
       "      <td>0.0</td>\n",
       "      <td>0.0</td>\n",
       "      <td>0.0</td>\n",
       "      <td>0.0</td>\n",
       "      <td>0.0</td>\n",
       "    </tr>\n",
       "    <tr>\n",
       "      <th>4</th>\n",
       "      <td>0.0</td>\n",
       "      <td>0.0</td>\n",
       "      <td>0.0</td>\n",
       "      <td>0.0</td>\n",
       "      <td>0.0</td>\n",
       "      <td>0.0</td>\n",
       "      <td>0.000000</td>\n",
       "      <td>0.0</td>\n",
       "      <td>0.0</td>\n",
       "      <td>0.000000</td>\n",
       "      <td>...</td>\n",
       "      <td>0.0</td>\n",
       "      <td>0.0</td>\n",
       "      <td>0.0</td>\n",
       "      <td>0.000003</td>\n",
       "      <td>0.000003</td>\n",
       "      <td>0.0</td>\n",
       "      <td>0.0</td>\n",
       "      <td>0.0</td>\n",
       "      <td>0.0</td>\n",
       "      <td>0.0</td>\n",
       "    </tr>\n",
       "  </tbody>\n",
       "</table>\n",
       "<p>5 rows × 109 columns</p>\n",
       "</div>"
      ],
      "text/plain": [
       "        TCRBV09         TCRBV19         TCRBV05       TCRBV07       TCRBV28  \\\n",
       "     TCRBV09-01      TCRBV19-01      TCRBV05-01    TCRBV07-02    TCRBV28-01   \n",
       "           null            null              01            01            01   \n",
       "  CASSGQGAYEQYF CASSIGPLEHNEQFF CASSPDRVGQETQYF CASSLEAEYEQYF CASSIEGNQPQHF   \n",
       "        TCRBJ02         TCRBJ02         TCRBJ02       TCRBJ02       TCRBJ01   \n",
       "     TCRBJ02-07      TCRBJ02-01      TCRBJ02-05    TCRBJ02-07    TCRBJ01-05   \n",
       "             01              01              01            01            01   \n",
       "0           0.0             0.0             0.0           0.0           0.0   \n",
       "1           0.0             0.0             0.0           0.0           0.0   \n",
       "2           0.0             0.0             0.0           0.0           0.0   \n",
       "3           0.0             0.0             0.0           0.0           0.0   \n",
       "4           0.0             0.0             0.0           0.0           0.0   \n",
       "\n",
       "      TCRBV24         TCRBV05       TCRBV07         TCRBV09       TCRBV04  \\\n",
       "   unresolved      TCRBV05-06    TCRBV07-06      TCRBV09-01    TCRBV04-03   \n",
       "         null              01            01            null            01   \n",
       "  CATSDGDEQFF CASSLVAGGRETQYF CASSRGRQETQYF CASSAGQGVTYEQYF CASSPQRNTEAFF   \n",
       "      TCRBJ02         TCRBJ02       TCRBJ02         TCRBJ02       TCRBJ01   \n",
       "   TCRBJ02-01      TCRBJ02-05    TCRBJ02-05      TCRBJ02-07    TCRBJ01-01   \n",
       "           01              01            01              01            01   \n",
       "0         0.0        0.000000           0.0             0.0      0.000000   \n",
       "1         0.0        0.000000           0.0             0.0      0.000000   \n",
       "2         0.0        0.000004           0.0             0.0      0.000007   \n",
       "3         0.0        0.000000           0.0             0.0      0.000000   \n",
       "4         0.0        0.000000           0.0             0.0      0.000000   \n",
       "\n",
       "       ...            TCRBV05       TCRBV02       TCRBV11       TCRBV20  \\\n",
       "       ...         TCRBV05-06    TCRBV02-01    TCRBV11-01    unresolved   \n",
       "       ...                 01            01            01          null   \n",
       "       ...      CASSSGQVYGYTF CASSEEGIQPQHF CASSFPGGETQYF CSALGHSNQPQHF   \n",
       "       ...            TCRBJ01       TCRBJ01       TCRBJ02       TCRBJ01   \n",
       "       ...         TCRBJ01-02    TCRBJ01-05    TCRBJ02-05    TCRBJ01-05   \n",
       "       ...                 01            01            01            01   \n",
       "0      ...                0.0           0.0           0.0      0.000000   \n",
       "1      ...                0.0           0.0           0.0      0.000000   \n",
       "2      ...                0.0           0.0           0.0      0.000000   \n",
       "3      ...                0.0           0.0           0.0      0.000000   \n",
       "4      ...                0.0           0.0           0.0      0.000003   \n",
       "\n",
       "        TCRBV10      TCRBV05        TCRBV11       TCRBV05      TCRBV07  \\\n",
       "     TCRBV10-02   TCRBV05-06     TCRBV11-02    TCRBV05-05   TCRBV07-08   \n",
       "             01           01             02            01           01   \n",
       "  CASSEGARQPQHF CASSLETYGYTF CASSSGQVQETQYF CASSLLWDQPQHF CASSLVGDGYTF   \n",
       "        TCRBJ01      TCRBJ01        TCRBJ02       TCRBJ01      TCRBJ01   \n",
       "     TCRBJ01-05   TCRBJ01-02     TCRBJ02-05    TCRBJ01-05   TCRBJ01-02   \n",
       "             01           01             01            01           01   \n",
       "0      0.000000          0.0            0.0           0.0          0.0   \n",
       "1      0.000000          0.0            0.0           0.0          0.0   \n",
       "2      0.000000          0.0            0.0           0.0          0.0   \n",
       "3      0.000000          0.0            0.0           0.0          0.0   \n",
       "4      0.000003          0.0            0.0           0.0          0.0   \n",
       "\n",
       "        TCRBV28  \n",
       "     TCRBV28-01  \n",
       "             01  \n",
       "  CASSSRGTGELFF  \n",
       "        TCRBJ02  \n",
       "     TCRBJ02-02  \n",
       "             01  \n",
       "0           0.0  \n",
       "1           0.0  \n",
       "2           0.0  \n",
       "3           0.0  \n",
       "4           0.0  \n",
       "\n",
       "[5 rows x 109 columns]"
      ]
     },
     "execution_count": 8,
     "metadata": {},
     "output_type": "execute_result"
    }
   ],
   "source": [
    "multiindex=pd.MultiIndex.from_tuples(TCRs[ind].tolist())\n",
    "df2 = pd.DataFrame(train_X_sub,columns=multiindex)\n",
    "df2.head()"
   ]
  },
  {
   "cell_type": "code",
   "execution_count": 20,
   "metadata": {},
   "outputs": [],
   "source": [
    "df_test = pd.DataFrame(test_X_sub,columns=TCRs[ind])\n",
    "multiindex=pd.MultiIndex.from_tuples(TCRs[ind].tolist())\n",
    "df2_test = pd.DataFrame(test_X_sub,columns=multiindex)"
   ]
  },
  {
   "cell_type": "markdown",
   "metadata": {},
   "source": [
    "### Pearson"
   ]
  },
  {
   "cell_type": "code",
   "execution_count": 8,
   "metadata": {
    "scrolled": true
   },
   "outputs": [],
   "source": [
    "# f,ax = plt.subplots(figsize=(20, 20))\n",
    "corr = df.corr()\n",
    "# mask = np.zeros_like(corr, dtype=np.bool)\n",
    "# mask[np.triu_indices_from(mask)] = True\n",
    "# sns.heatmap(corr, annot=True, linewidths=.5, mask=mask,fmt= '.1f',ax=ax)\n",
    "# plt.show()"
   ]
  },
  {
   "cell_type": "code",
   "execution_count": 47,
   "metadata": {
    "scrolled": true
   },
   "outputs": [],
   "source": [
    "corr_ind_gt = np.argwhere(abs(corr.values) >= 0.7)"
   ]
  },
  {
   "cell_type": "code",
   "execution_count": 48,
   "metadata": {},
   "outputs": [
    {
     "name": "stdout",
     "output_type": "stream",
     "text": [
      "[array([22, 51]), array([34, 51]), array([42, 48]), array([42, 88]), array([48, 88]), array([51, 57]), array([51, 83]), array([ 51, 102]), array([57, 83])]\n"
     ]
    }
   ],
   "source": [
    "temp = []\n",
    "for i in range(corr_ind_gt.shape[0]):\n",
    "    if corr_ind_gt[i][0] == corr_ind_gt[i][1]:\n",
    "        continue\n",
    "    else:\n",
    "        if corr_ind_gt[i][0]<corr_ind_gt[i][1]:\n",
    "            temp.append(corr_ind_gt[i])\n",
    "print(temp)"
   ]
  },
  {
   "cell_type": "markdown",
   "metadata": {},
   "source": [
    "**Correlation>=0.7:[ 22,  51],[ 34,  51],[ 42,  48],[ 42,  88],[ 48,  88],[ 51,  57],[ 51,  83],[ 51, 102],[ 57,  83]**"
   ]
  },
  {
   "cell_type": "code",
   "execution_count": 22,
   "metadata": {},
   "outputs": [
    {
     "name": "stdout",
     "output_type": "stream",
     "text": [
      "22 51 :  0.7070200642637918\n",
      "34 51 :  0.7401674525085351\n",
      "42 48 :  0.8371214682226769\n",
      "42 88 :  0.8665376535849382\n",
      "48 88 :  0.8041029220943036\n",
      "51 57 :  0.7515509334257473\n",
      "51 83 :  0.7699200089402499\n",
      "51 102 :  0.702317679194976\n",
      "57 83 :  0.7077904282634359\n"
     ]
    }
   ],
   "source": [
    "for i in range(len(temp)):\n",
    "    print(temp[i][0],temp[i][1],': ',corr.values[temp[i][0]][temp[i][1]])"
   ]
  },
  {
   "cell_type": "markdown",
   "metadata": {},
   "source": [
    "### Spearman"
   ]
  },
  {
   "cell_type": "code",
   "execution_count": 43,
   "metadata": {},
   "outputs": [],
   "source": [
    "corr2 = df.corr(method= 'spearman')"
   ]
  },
  {
   "cell_type": "code",
   "execution_count": 56,
   "metadata": {},
   "outputs": [],
   "source": [
    "corr_ind_gt2 = np.argwhere(abs(corr.values) >= 0.5)"
   ]
  },
  {
   "cell_type": "code",
   "execution_count": 57,
   "metadata": {},
   "outputs": [
    {
     "name": "stdout",
     "output_type": "stream",
     "text": [
      "[]\n"
     ]
    }
   ],
   "source": [
    "temp2 = []\n",
    "for i in range(corr_ind_gt2.shape[0]):\n",
    "    if corr_ind_gt2[i][0] == corr_ind_gt2[i][1]:\n",
    "        continue\n",
    "    else:\n",
    "        if corr_ind_gt2[i][0]<corr_ind_gt2[i][1]:\n",
    "            temp.append(corr_ind_gt2[i])\n",
    "print(temp2)"
   ]
  },
  {
   "cell_type": "markdown",
   "metadata": {},
   "source": [
    "**There are no two features spearman corelated**"
   ]
  },
  {
   "cell_type": "markdown",
   "metadata": {},
   "source": [
    "###  Mutual Information"
   ]
  },
  {
   "cell_type": "code",
   "execution_count": 60,
   "metadata": {},
   "outputs": [],
   "source": [
    "from sklearn.feature_selection import mutual_info_classif\n",
    "mi = mutual_info_classif(train_X_sub,train_y)"
   ]
  },
  {
   "cell_type": "markdown",
   "metadata": {},
   "source": [
    "### Distance correlation"
   ]
  },
  {
   "cell_type": "code",
   "execution_count": 96,
   "metadata": {},
   "outputs": [],
   "source": [
    "from scipy.spatial.distance import pdist,correlation,squareform,euclidean"
   ]
  },
  {
   "cell_type": "code",
   "execution_count": 84,
   "metadata": {
    "scrolled": true
   },
   "outputs": [
    {
     "data": {
      "image/png": "[encoded data removed]",
      "text/plain": [
       "<matplotlib.figure.Figure at 0x2af190c5e2b0>"
      ]
     },
     "metadata": {},
     "output_type": "display_data"
    }
   ],
   "source": [
    "dist_mat = squareform(pdist(train_X_sub.T))\n",
    "\n",
    "N = train_X_sub.shape[1]\n",
    "plt.pcolormesh(dist_mat)\n",
    "plt.colorbar()\n",
    "# plt.xlim([0,N])\n",
    "# plt.ylim([0,N])\n",
    "plt.show()"
   ]
  },
  {
   "cell_type": "code",
   "execution_count": null,
   "metadata": {},
   "outputs": [],
   "source": [
    "# pd.DataFrame(squareform(pdist(df.T)), columns=df.columns.values, index=df.columns.values)"
   ]
  }
 ],
 "metadata": {
  "kernelspec": {
   "display_name": "anaconda3/5.1.0-gpu",
   "language": "python",
   "name": "anaconda3_5.1.0-gpu"
  },
  "language_info": {
   "codemirror_mode": {
    "name": "ipython",
    "version": 3
   },
   "file_extension": ".py",
   "mimetype": "text/x-python",
   "name": "python",
   "nbconvert_exporter": "python",
   "pygments_lexer": "ipython3",
   "version": "3.6.4"
  }
 },
 "nbformat": 4,
 "nbformat_minor": 2
}
