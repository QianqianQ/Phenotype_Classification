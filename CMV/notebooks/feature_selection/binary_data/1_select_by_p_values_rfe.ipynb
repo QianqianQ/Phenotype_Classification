{
 "cells": [
  {
   "cell_type": "code",
   "execution_count": 1,
   "metadata": {},
   "outputs": [],
   "source": [
    "import matplotlib\n",
    "matplotlib.use('Agg')\n",
    "\n",
    "# Handle table-like data and matrices\n",
    "import numpy as np\n",
    "import pandas as pd\n",
    "\n",
    "# Helpers\n",
    "import sys\n",
    "sys.path.insert(0,'../../')\n",
    "from utils import data_path,results_path,grid_search,estimator_result,cross_validate,rfecv\n",
    "from scipy.sparse import csr_matrix,save_npz,load_npz\n",
    "from sklearn.model_selection import cross_val_score,LeaveOneOut,StratifiedKFold\n",
    "from sklearn.metrics import accuracy_score,roc_auc_score,roc_curve\n",
    "from sklearn.metrics import make_scorer\n",
    "from sklearn.model_selection import GridSearchCV\n",
    "from sklearn.feature_selection import RFECV\n",
    "from sklearn.metrics import classification_report\n",
    "import pickle\n",
    "\n",
    "# Algorithms\n",
    "from sklearn.ensemble import ExtraTreesClassifier,RandomForestClassifier\n",
    "\n",
    "# Visualisation\n",
    "import matplotlib.pyplot as plt\n",
    "import seaborn as sns\n",
    "%matplotlib inline\n",
    "\n",
    "# Ignore warnings\n",
    "import warnings\n",
    "warnings.filterwarnings('ignore')"
   ]
  },
  {
   "cell_type": "markdown",
   "metadata": {},
   "source": [
    "## Load data"
   ]
  },
  {
   "cell_type": "code",
   "execution_count": 4,
   "metadata": {},
   "outputs": [
    {
     "name": "stdout",
     "output_type": "stream",
     "text": [
      "['/TCRs_stat', '/TCRs_stat_T']\n"
     ]
    }
   ],
   "source": [
    "with open('../' + data_path + 'sorted_TCRs_ind.pkl', 'rb') as f:\n",
    "    TCRs_ind = pickle.load(f)\n",
    "    \n",
    "with open('../' + data_path + 'TCRs_stat.pkl', 'rb') as f:\n",
    "    TCRs_stat_2 = pickle.load(f)\n",
    "\n",
    "store = pd.HDFStore('../'+data_path+'TCRs.h5')\n",
    "print(store.keys())\n",
    "\n",
    "TCRs_stat = store['TCRs_stat']"
   ]
  },
  {
   "cell_type": "code",
   "execution_count": 6,
   "metadata": {
    "scrolled": false
   },
   "outputs": [
    {
     "data": {
      "text/html": [
       "<div>\n",
       "<style scoped>\n",
       "    .dataframe tbody tr th:only-of-type {\n",
       "        vertical-align: middle;\n",
       "    }\n",
       "\n",
       "    .dataframe tbody tr th {\n",
       "        vertical-align: top;\n",
       "    }\n",
       "\n",
       "    .dataframe thead th {\n",
       "        text-align: right;\n",
       "    }\n",
       "</style>\n",
       "<table border=\"1\" class=\"dataframe\">\n",
       "  <thead>\n",
       "    <tr style=\"text-align: right;\">\n",
       "      <th></th>\n",
       "      <th></th>\n",
       "      <th></th>\n",
       "      <th></th>\n",
       "      <th></th>\n",
       "      <th></th>\n",
       "      <th></th>\n",
       "      <th>CMV+</th>\n",
       "      <th>CMV-</th>\n",
       "      <th>p_value</th>\n",
       "    </tr>\n",
       "  </thead>\n",
       "  <tbody>\n",
       "    <tr>\n",
       "      <th>TCRBV09</th>\n",
       "      <th>TCRBV09-01</th>\n",
       "      <th>null</th>\n",
       "      <th>CASSGQGAYEQYF</th>\n",
       "      <th>TCRBJ02</th>\n",
       "      <th>TCRBJ02-07</th>\n",
       "      <th>01</th>\n",
       "      <td>61</td>\n",
       "      <td>12</td>\n",
       "      <td>7.958014e-13</td>\n",
       "    </tr>\n",
       "    <tr>\n",
       "      <th>TCRBV19</th>\n",
       "      <th>TCRBV19-01</th>\n",
       "      <th>null</th>\n",
       "      <th>CASSIGPLEHNEQFF</th>\n",
       "      <th>TCRBJ02</th>\n",
       "      <th>TCRBJ02-01</th>\n",
       "      <th>01</th>\n",
       "      <td>30</td>\n",
       "      <td>0</td>\n",
       "      <td>1.751455e-11</td>\n",
       "    </tr>\n",
       "    <tr>\n",
       "      <th>TCRBV05</th>\n",
       "      <th>TCRBV05-01</th>\n",
       "      <th>01</th>\n",
       "      <th>CASSPDRVGQETQYF</th>\n",
       "      <th>TCRBJ02</th>\n",
       "      <th>TCRBJ02-05</th>\n",
       "      <th>01</th>\n",
       "      <td>33</td>\n",
       "      <td>1</td>\n",
       "      <td>2.664239e-11</td>\n",
       "    </tr>\n",
       "    <tr>\n",
       "      <th>TCRBV07</th>\n",
       "      <th>TCRBV07-02</th>\n",
       "      <th>01</th>\n",
       "      <th>CASSLEAEYEQYF</th>\n",
       "      <th>TCRBJ02</th>\n",
       "      <th>TCRBJ02-07</th>\n",
       "      <th>01</th>\n",
       "      <td>30</td>\n",
       "      <td>1</td>\n",
       "      <td>3.202211e-10</td>\n",
       "    </tr>\n",
       "    <tr>\n",
       "      <th>TCRBV28</th>\n",
       "      <th>TCRBV28-01</th>\n",
       "      <th>01</th>\n",
       "      <th>CASSIEGNQPQHF</th>\n",
       "      <th>TCRBJ01</th>\n",
       "      <th>TCRBJ01-05</th>\n",
       "      <th>01</th>\n",
       "      <td>26</td>\n",
       "      <td>0</td>\n",
       "      <td>5.306200e-10</td>\n",
       "    </tr>\n",
       "  </tbody>\n",
       "</table>\n",
       "</div>"
      ],
      "text/plain": [
       "                                                               CMV+  CMV-  \\\n",
       "TCRBV09 TCRBV09-01 null CASSGQGAYEQYF   TCRBJ02 TCRBJ02-07 01    61    12   \n",
       "TCRBV19 TCRBV19-01 null CASSIGPLEHNEQFF TCRBJ02 TCRBJ02-01 01    30     0   \n",
       "TCRBV05 TCRBV05-01 01   CASSPDRVGQETQYF TCRBJ02 TCRBJ02-05 01    33     1   \n",
       "TCRBV07 TCRBV07-02 01   CASSLEAEYEQYF   TCRBJ02 TCRBJ02-07 01    30     1   \n",
       "TCRBV28 TCRBV28-01 01   CASSIEGNQPQHF   TCRBJ01 TCRBJ01-05 01    26     0   \n",
       "\n",
       "                                                                    p_value  \n",
       "TCRBV09 TCRBV09-01 null CASSGQGAYEQYF   TCRBJ02 TCRBJ02-07 01  7.958014e-13  \n",
       "TCRBV19 TCRBV19-01 null CASSIGPLEHNEQFF TCRBJ02 TCRBJ02-01 01  1.751455e-11  \n",
       "TCRBV05 TCRBV05-01 01   CASSPDRVGQETQYF TCRBJ02 TCRBJ02-05 01  2.664239e-11  \n",
       "TCRBV07 TCRBV07-02 01   CASSLEAEYEQYF   TCRBJ02 TCRBJ02-07 01  3.202211e-10  \n",
       "TCRBV28 TCRBV28-01 01   CASSIEGNQPQHF   TCRBJ01 TCRBJ01-05 01  5.306200e-10  "
      ]
     },
     "execution_count": 6,
     "metadata": {},
     "output_type": "execute_result"
    }
   ],
   "source": [
    "TCRs_stat.head()"
   ]
  },
  {
   "cell_type": "code",
   "execution_count": 8,
   "metadata": {
    "scrolled": true
   },
   "outputs": [
    {
     "data": {
      "text/html": [
       "<div>\n",
       "<style scoped>\n",
       "    .dataframe tbody tr th:only-of-type {\n",
       "        vertical-align: middle;\n",
       "    }\n",
       "\n",
       "    .dataframe tbody tr th {\n",
       "        vertical-align: top;\n",
       "    }\n",
       "\n",
       "    .dataframe thead tr th {\n",
       "        text-align: left;\n",
       "    }\n",
       "</style>\n",
       "<table border=\"1\" class=\"dataframe\">\n",
       "  <thead>\n",
       "    <tr>\n",
       "      <th></th>\n",
       "      <th colspan=\"10\" halign=\"left\">TCRBV01</th>\n",
       "      <th>...</th>\n",
       "      <th colspan=\"10\" halign=\"left\">null</th>\n",
       "    </tr>\n",
       "    <tr>\n",
       "      <th></th>\n",
       "      <th colspan=\"10\" halign=\"left\">TCRBV01-01</th>\n",
       "      <th>...</th>\n",
       "      <th colspan=\"10\" halign=\"left\">unresolved</th>\n",
       "    </tr>\n",
       "    <tr>\n",
       "      <th></th>\n",
       "      <th colspan=\"10\" halign=\"left\">01</th>\n",
       "      <th>...</th>\n",
       "      <th colspan=\"10\" halign=\"left\">null</th>\n",
       "    </tr>\n",
       "    <tr>\n",
       "      <th></th>\n",
       "      <th>CTFQETQYF</th>\n",
       "      <th>CTHGGHSLPTPSNQPQHF</th>\n",
       "      <th>CTRGQGGTEAFF</th>\n",
       "      <th>CTSGEQYF</th>\n",
       "      <th>CTSGGLAESTDTQYF</th>\n",
       "      <th>CTSGPSNQPQHF</th>\n",
       "      <th>CTSGPYEQYF</th>\n",
       "      <th>CTSGYEQYF</th>\n",
       "      <th>CTSILTRYNSNQPQHF</th>\n",
       "      <th>CTSNPTEAFF</th>\n",
       "      <th>...</th>\n",
       "      <th>CASSSSGLAGGRSSYNEQFF</th>\n",
       "      <th>CASSSSPGLAGGSSYNEQFF</th>\n",
       "      <th>CASSSTGAGNQPQHF</th>\n",
       "      <th>CASSSYNLRGGGRGGRNEQFF</th>\n",
       "      <th>CASSTGLAGGLSSGANVLTF</th>\n",
       "      <th>CASSTPGLAGGSSSYNEQFF</th>\n",
       "      <th>CASSVGGRGKNTEAFF</th>\n",
       "      <th>CASSYPGLAGGSSSYNEQFF</th>\n",
       "      <th>CASTRTESSYNEQFF</th>\n",
       "      <th>CATGTGDSNQPQHF</th>\n",
       "    </tr>\n",
       "    <tr>\n",
       "      <th></th>\n",
       "      <th>TCRBJ02</th>\n",
       "      <th>TCRBJ01</th>\n",
       "      <th>TCRBJ01</th>\n",
       "      <th>TCRBJ02</th>\n",
       "      <th>TCRBJ02</th>\n",
       "      <th>TCRBJ01</th>\n",
       "      <th>TCRBJ02</th>\n",
       "      <th>TCRBJ02</th>\n",
       "      <th>TCRBJ01</th>\n",
       "      <th>TCRBJ01</th>\n",
       "      <th>...</th>\n",
       "      <th>TCRBJ02</th>\n",
       "      <th>TCRBJ02</th>\n",
       "      <th>TCRBJ01</th>\n",
       "      <th>TCRBJ02</th>\n",
       "      <th>TCRBJ02</th>\n",
       "      <th>TCRBJ02</th>\n",
       "      <th>TCRBJ01</th>\n",
       "      <th>TCRBJ02</th>\n",
       "      <th>TCRBJ02</th>\n",
       "      <th>TCRBJ01</th>\n",
       "    </tr>\n",
       "    <tr>\n",
       "      <th></th>\n",
       "      <th>TCRBJ02-05</th>\n",
       "      <th>TCRBJ01-05</th>\n",
       "      <th>TCRBJ01-01</th>\n",
       "      <th>TCRBJ02-07</th>\n",
       "      <th>TCRBJ02-03</th>\n",
       "      <th>TCRBJ01-05</th>\n",
       "      <th>TCRBJ02-07</th>\n",
       "      <th>TCRBJ02-07</th>\n",
       "      <th>TCRBJ01-05</th>\n",
       "      <th>TCRBJ01-01</th>\n",
       "      <th>...</th>\n",
       "      <th>TCRBJ02-01</th>\n",
       "      <th>TCRBJ02-01</th>\n",
       "      <th>TCRBJ01-05</th>\n",
       "      <th>TCRBJ02-01</th>\n",
       "      <th>TCRBJ02-06</th>\n",
       "      <th>TCRBJ02-01</th>\n",
       "      <th>TCRBJ01-01</th>\n",
       "      <th>TCRBJ02-01</th>\n",
       "      <th>TCRBJ02-01</th>\n",
       "      <th>TCRBJ01-05</th>\n",
       "    </tr>\n",
       "    <tr>\n",
       "      <th></th>\n",
       "      <th>01</th>\n",
       "      <th>01</th>\n",
       "      <th>01</th>\n",
       "      <th>01</th>\n",
       "      <th>01</th>\n",
       "      <th>01</th>\n",
       "      <th>01</th>\n",
       "      <th>01</th>\n",
       "      <th>01</th>\n",
       "      <th>01</th>\n",
       "      <th>...</th>\n",
       "      <th>01</th>\n",
       "      <th>01</th>\n",
       "      <th>01</th>\n",
       "      <th>01</th>\n",
       "      <th>01</th>\n",
       "      <th>01</th>\n",
       "      <th>01</th>\n",
       "      <th>01</th>\n",
       "      <th>01</th>\n",
       "      <th>01</th>\n",
       "    </tr>\n",
       "  </thead>\n",
       "  <tbody>\n",
       "    <tr>\n",
       "      <th>CMV+</th>\n",
       "      <td>2.000000</td>\n",
       "      <td>0.0</td>\n",
       "      <td>0.0</td>\n",
       "      <td>1.00000</td>\n",
       "      <td>1.00000</td>\n",
       "      <td>2.000000</td>\n",
       "      <td>1.00000</td>\n",
       "      <td>0.0</td>\n",
       "      <td>0.0</td>\n",
       "      <td>1.00000</td>\n",
       "      <td>...</td>\n",
       "      <td>1.00000</td>\n",
       "      <td>1.00000</td>\n",
       "      <td>2.000000</td>\n",
       "      <td>0.0</td>\n",
       "      <td>2.000000</td>\n",
       "      <td>1.00000</td>\n",
       "      <td>0.0</td>\n",
       "      <td>2.000000</td>\n",
       "      <td>0.0</td>\n",
       "      <td>1.00000</td>\n",
       "    </tr>\n",
       "    <tr>\n",
       "      <th>CMV-</th>\n",
       "      <td>0.000000</td>\n",
       "      <td>2.0</td>\n",
       "      <td>2.0</td>\n",
       "      <td>1.00000</td>\n",
       "      <td>1.00000</td>\n",
       "      <td>0.000000</td>\n",
       "      <td>1.00000</td>\n",
       "      <td>3.0</td>\n",
       "      <td>2.0</td>\n",
       "      <td>1.00000</td>\n",
       "      <td>...</td>\n",
       "      <td>1.00000</td>\n",
       "      <td>1.00000</td>\n",
       "      <td>0.000000</td>\n",
       "      <td>2.0</td>\n",
       "      <td>0.000000</td>\n",
       "      <td>1.00000</td>\n",
       "      <td>2.0</td>\n",
       "      <td>0.000000</td>\n",
       "      <td>2.0</td>\n",
       "      <td>1.00000</td>\n",
       "    </tr>\n",
       "    <tr>\n",
       "      <th>p_value</th>\n",
       "      <td>0.202886</td>\n",
       "      <td>1.0</td>\n",
       "      <td>1.0</td>\n",
       "      <td>0.69883</td>\n",
       "      <td>0.69883</td>\n",
       "      <td>0.202886</td>\n",
       "      <td>0.69883</td>\n",
       "      <td>1.0</td>\n",
       "      <td>1.0</td>\n",
       "      <td>0.69883</td>\n",
       "      <td>...</td>\n",
       "      <td>0.69883</td>\n",
       "      <td>0.69883</td>\n",
       "      <td>0.202886</td>\n",
       "      <td>1.0</td>\n",
       "      <td>0.202886</td>\n",
       "      <td>0.69883</td>\n",
       "      <td>1.0</td>\n",
       "      <td>0.202886</td>\n",
       "      <td>1.0</td>\n",
       "      <td>0.69883</td>\n",
       "    </tr>\n",
       "  </tbody>\n",
       "</table>\n",
       "<p>3 rows × 10781952 columns</p>\n",
       "</div>"
      ],
      "text/plain": [
       "           TCRBV01                                                             \\\n",
       "        TCRBV01-01                                                              \n",
       "                01                                                              \n",
       "         CTFQETQYF CTHGGHSLPTPSNQPQHF CTRGQGGTEAFF   CTSGEQYF CTSGGLAESTDTQYF   \n",
       "           TCRBJ02            TCRBJ01      TCRBJ01    TCRBJ02         TCRBJ02   \n",
       "        TCRBJ02-05         TCRBJ01-05   TCRBJ01-01 TCRBJ02-07      TCRBJ02-03   \n",
       "                01                 01           01         01              01   \n",
       "CMV+      2.000000                0.0          0.0    1.00000         1.00000   \n",
       "CMV-      0.000000                2.0          2.0    1.00000         1.00000   \n",
       "p_value   0.202886                1.0          1.0    0.69883         0.69883   \n",
       "\n",
       "                                                                        \\\n",
       "                                                                         \n",
       "                                                                         \n",
       "        CTSGPSNQPQHF CTSGPYEQYF  CTSGYEQYF CTSILTRYNSNQPQHF CTSNPTEAFF   \n",
       "             TCRBJ01    TCRBJ02    TCRBJ02          TCRBJ01    TCRBJ01   \n",
       "          TCRBJ01-05 TCRBJ02-07 TCRBJ02-07       TCRBJ01-05 TCRBJ01-01   \n",
       "                  01         01         01               01         01   \n",
       "CMV+        2.000000    1.00000        0.0              0.0    1.00000   \n",
       "CMV-        0.000000    1.00000        3.0              2.0    1.00000   \n",
       "p_value     0.202886    0.69883        1.0              1.0    0.69883   \n",
       "\n",
       "             ...                       null                       \\\n",
       "             ...                 unresolved                        \n",
       "             ...                       null                        \n",
       "             ...       CASSSSGLAGGRSSYNEQFF CASSSSPGLAGGSSYNEQFF   \n",
       "             ...                    TCRBJ02              TCRBJ02   \n",
       "             ...                 TCRBJ02-01           TCRBJ02-01   \n",
       "             ...                         01                   01   \n",
       "CMV+         ...                    1.00000              1.00000   \n",
       "CMV-         ...                    1.00000              1.00000   \n",
       "p_value      ...                    0.69883              0.69883   \n",
       "\n",
       "                                                                    \\\n",
       "                                                                     \n",
       "                                                                     \n",
       "        CASSSTGAGNQPQHF CASSSYNLRGGGRGGRNEQFF CASSTGLAGGLSSGANVLTF   \n",
       "                TCRBJ01               TCRBJ02              TCRBJ02   \n",
       "             TCRBJ01-05            TCRBJ02-01           TCRBJ02-06   \n",
       "                     01                    01                   01   \n",
       "CMV+           2.000000                   0.0             2.000000   \n",
       "CMV-           0.000000                   2.0             0.000000   \n",
       "p_value        0.202886                   1.0             0.202886   \n",
       "\n",
       "                                                                    \\\n",
       "                                                                     \n",
       "                                                                     \n",
       "        CASSTPGLAGGSSSYNEQFF CASSVGGRGKNTEAFF CASSYPGLAGGSSSYNEQFF   \n",
       "                     TCRBJ02          TCRBJ01              TCRBJ02   \n",
       "                  TCRBJ02-01       TCRBJ01-01           TCRBJ02-01   \n",
       "                          01               01                   01   \n",
       "CMV+                 1.00000              0.0             2.000000   \n",
       "CMV-                 1.00000              2.0             0.000000   \n",
       "p_value              0.69883              1.0             0.202886   \n",
       "\n",
       "                                        \n",
       "                                        \n",
       "                                        \n",
       "        CASTRTESSYNEQFF CATGTGDSNQPQHF  \n",
       "                TCRBJ02        TCRBJ01  \n",
       "             TCRBJ02-01     TCRBJ01-05  \n",
       "                     01             01  \n",
       "CMV+                0.0        1.00000  \n",
       "CMV-                2.0        1.00000  \n",
       "p_value             1.0        0.69883  \n",
       "\n",
       "[3 rows x 10781952 columns]"
      ]
     },
     "execution_count": 8,
     "metadata": {},
     "output_type": "execute_result"
    }
   ],
   "source": [
    "TCRs_stat_2"
   ]
  },
  {
   "cell_type": "code",
   "execution_count": 19,
   "metadata": {
    "scrolled": true
   },
   "outputs": [
    {
     "data": {
      "text/plain": [
       "array([('TCRBV09', 'TCRBV09-01', 'null', 'CASSGQGAYEQYF', 'TCRBJ02', 'TCRBJ02-07', '01'),\n",
       "       ('TCRBV19', 'TCRBV19-01', 'null', 'CASSIGPLEHNEQFF', 'TCRBJ02', 'TCRBJ02-01', '01'),\n",
       "       ('TCRBV05', 'TCRBV05-01', '01', 'CASSPDRVGQETQYF', 'TCRBJ02', 'TCRBJ02-05', '01'),\n",
       "       ('TCRBV07', 'TCRBV07-02', '01', 'CASSLEAEYEQYF', 'TCRBJ02', 'TCRBJ02-07', '01'),\n",
       "       ('TCRBV28', 'TCRBV28-01', '01', 'CASSIEGNQPQHF', 'TCRBJ01', 'TCRBJ01-05', '01')],\n",
       "      dtype=object)"
      ]
     },
     "execution_count": 19,
     "metadata": {},
     "output_type": "execute_result"
    }
   ],
   "source": [
    "TCRs = TCRs_stat_2.columns.values\n",
    "TCRs[TCRs_ind[0:5]]"
   ]
  },
  {
   "cell_type": "code",
   "execution_count": 20,
   "metadata": {},
   "outputs": [],
   "source": [
    "train_X = load_npz('../'+data_path + 'version_1/'+ 'train_bin.npz')\n",
    "test_X = load_npz('../'+data_path + 'version_1/'+ 'test_bin.npz')\n",
    "\n",
    "train_y = pd.read_csv('../'+data_path + 'train_Y.csv')['CMV_status']\n",
    "test_y = pd.read_csv('../'+data_path + 'test_Y.csv')['CMV_status']"
   ]
  },
  {
   "cell_type": "markdown",
   "metadata": {},
   "source": [
    "## RFE"
   ]
  },
  {
   "cell_type": "markdown",
   "metadata": {},
   "source": [
    "### Top 1000"
   ]
  },
  {
   "cell_type": "code",
   "execution_count": 66,
   "metadata": {},
   "outputs": [
    {
     "name": "stdout",
     "output_type": "stream",
     "text": [
      "RandomForestClassifier(bootstrap=True, class_weight=None, criterion='gini',\n",
      "            max_depth=31, max_features='auto', max_leaf_nodes=None,\n",
      "            min_impurity_decrease=0.0, min_impurity_split=None,\n",
      "            min_samples_leaf=1, min_samples_split=5,\n",
      "            min_weight_fraction_leaf=0.0, n_estimators=180, n_jobs=1,\n",
      "            oob_score=True, random_state=0, verbose=0, warm_start=False)\n",
      "Optimal number of features : 900\n",
      "AUROC: 0.9048025007104291 Accuracy:  0.7916666666666666\n"
     ]
    }
   ],
   "source": [
    "top_1000 = TCRs_ind[:1000]\n",
    "# Define a classifier\n",
    "rf = RandomForestClassifier(bootstrap=True, class_weight=None, criterion='gini',\n",
    "        max_depth=31, max_features='auto', max_leaf_nodes=None,\n",
    "        min_impurity_decrease=0.0, min_impurity_split=None,\n",
    "        min_samples_leaf=1, min_samples_split=5,\n",
    "        min_weight_fraction_leaf=0.0, n_estimators=180, n_jobs=1,\n",
    "        oob_score=True, random_state=0, verbose=0, warm_start=False)\n",
    "print(rf)\n",
    "\n",
    "rfecv = RFECV(rf,cv=StratifiedKFold(10),scoring='roc_auc',step = 0.1)\n",
    "rfecv.fit(train_X[:,top_1000],train_y)\n",
    "\n",
    "print(\"Optimal number of features : %d\" % rfecv.n_features_)\n",
    "\n",
    "print('AUROC:',roc_auc_score(test_y,rfecv.predict_proba(test_X[:,top_1000])[:,1]),'Accuracy: ',accuracy_score(test_y,\n",
    "        rfecv.predict(test_X[:,top_1000])))"
   ]
  },
  {
   "cell_type": "code",
   "execution_count": 59,
   "metadata": {
    "scrolled": true
   },
   "outputs": [
    {
     "data": {
      "text/plain": [
       "[<matplotlib.lines.Line2D at 0x2b663e1d8d68>]"
      ]
     },
     "execution_count": 59,
     "metadata": {},
     "output_type": "execute_result"
    },
    {
     "data": {
      "image/png": "[encoded data removed]",
      "text/plain": [
       "<matplotlib.figure.Figure at 0x2b663e1857b8>"
      ]
     },
     "metadata": {},
     "output_type": "display_data"
    }
   ],
   "source": [
    "# Plot number of features VS. cross-validation scores\n",
    "plt.figure()\n",
    "plt.xlabel(\"Number of features selected\")\n",
    "plt.ylabel(\"Cross validation score (nb of correct classifications)\")\n",
    "plt.plot(range(1,(len(rfecv.grid_scores_))*100,100), rfecv.grid_scores_)"
   ]
  },
  {
   "cell_type": "markdown",
   "metadata": {},
   "source": [
    "### Top 600"
   ]
  },
  {
   "cell_type": "code",
   "execution_count": 61,
   "metadata": {},
   "outputs": [
    {
     "name": "stdout",
     "output_type": "stream",
     "text": [
      "RandomForestClassifier(bootstrap=True, class_weight=None, criterion='gini',\n",
      "            max_depth=31, max_features='auto', max_leaf_nodes=None,\n",
      "            min_impurity_decrease=0.0, min_impurity_split=None,\n",
      "            min_samples_leaf=1, min_samples_split=5,\n",
      "            min_weight_fraction_leaf=0.0, n_estimators=180, n_jobs=1,\n",
      "            oob_score=True, random_state=0, verbose=0, warm_start=False)\n",
      "Optimal number of features : 600\n",
      "AUROC: 0.8914464336459221 Accuracy:  0.8\n"
     ]
    },
    {
     "data": {
      "text/plain": [
       "[<matplotlib.lines.Line2D at 0x2b6647ff89b0>]"
      ]
     },
     "execution_count": 61,
     "metadata": {},
     "output_type": "execute_result"
    },
    {
     "data": {
      "image/png": "[encoded data removed]",
      "text/plain": [
       "<matplotlib.figure.Figure at 0x2b6647fa95f8>"
      ]
     },
     "metadata": {},
     "output_type": "display_data"
    }
   ],
   "source": [
    "top_600 = TCRs_ind[:600]\n",
    "# Define a classifier\n",
    "rf = RandomForestClassifier(bootstrap=True, class_weight=None, criterion='gini',\n",
    "        max_depth=31, max_features='auto', max_leaf_nodes=None,\n",
    "        min_impurity_decrease=0.0, min_impurity_split=None,\n",
    "        min_samples_leaf=1, min_samples_split=5,\n",
    "        min_weight_fraction_leaf=0.0, n_estimators=180, n_jobs=1,\n",
    "        oob_score=True, random_state=0, verbose=0, warm_start=False)\n",
    "print(rf)\n",
    "\n",
    "rfecv = RFECV(rf,cv=StratifiedKFold(10),scoring='roc_auc',step = 50)\n",
    "rfecv.fit(train_X[:,top_600],train_y)\n",
    "\n",
    "print(\"Optimal number of features : %d\" % rfecv.n_features_)\n",
    "\n",
    "print('AUROC:',roc_auc_score(test_y,rfecv.predict_proba(test_X[:,top_600])[:,1]),'Accuracy: ',accuracy_score(test_y,\n",
    "        rfecv.predict(test_X[:,top_600])))\n",
    "\n",
    "# Plot number of features VS. cross-validation scores\n",
    "plt.figure()\n",
    "plt.xlabel(\"Number of features selected\")\n",
    "plt.ylabel(\"Cross validation score (nb of correct classifications)\")\n",
    "plt.plot(range(1,(len(rfecv.grid_scores_))*50,50), rfecv.grid_scores_)"
   ]
  },
  {
   "cell_type": "markdown",
   "metadata": {},
   "source": [
    "### Top 350"
   ]
  },
  {
   "cell_type": "code",
   "execution_count": 63,
   "metadata": {
    "scrolled": true
   },
   "outputs": [
    {
     "name": "stdout",
     "output_type": "stream",
     "text": [
      "RandomForestClassifier(bootstrap=True, class_weight=None, criterion='gini',\n",
      "            max_depth=31, max_features='auto', max_leaf_nodes=None,\n",
      "            min_impurity_decrease=0.0, min_impurity_split=None,\n",
      "            min_samples_leaf=1, min_samples_split=5,\n",
      "            min_weight_fraction_leaf=0.0, n_estimators=180, n_jobs=1,\n",
      "            oob_score=True, random_state=0, verbose=0, warm_start=False)\n",
      "Optimal number of features : 350\n",
      "AUROC: 0.9053708439897699 Accuracy:  0.8333333333333334\n"
     ]
    },
    {
     "data": {
      "text/plain": [
       "[<matplotlib.lines.Line2D at 0x2b664c5ada90>]"
      ]
     },
     "execution_count": 63,
     "metadata": {},
     "output_type": "execute_result"
    },
    {
     "data": {
      "image/png": "[encoded data removed]",
      "text/plain": [
       "<matplotlib.figure.Figure at 0x2b663da3bba8>"
      ]
     },
     "metadata": {},
     "output_type": "display_data"
    }
   ],
   "source": [
    "top_350 = TCRs_ind[:350]\n",
    "# Define a classifier\n",
    "rf = RandomForestClassifier(bootstrap=True, class_weight=None, criterion='gini',\n",
    "        max_depth=31, max_features='auto', max_leaf_nodes=None,\n",
    "        min_impurity_decrease=0.0, min_impurity_split=None,\n",
    "        min_samples_leaf=1, min_samples_split=5,\n",
    "        min_weight_fraction_leaf=0.0, n_estimators=180, n_jobs=1,\n",
    "        oob_score=True, random_state=0, verbose=0, warm_start=False)\n",
    "print(rf)\n",
    "\n",
    "rfecv = RFECV(rf,cv=StratifiedKFold(10),scoring='roc_auc',step = 50)\n",
    "rfecv.fit(train_X[:,top_350],train_y)\n",
    "\n",
    "print(\"Optimal number of features : %d\" % rfecv.n_features_)\n",
    "\n",
    "print('AUROC:',roc_auc_score(test_y,rfecv.predict_proba(test_X[:,top_350])[:,1]),'Accuracy: ',accuracy_score(test_y,\n",
    "        rfecv.predict(test_X[:,top_350])))\n",
    "\n",
    "# Plot number of features VS. cross-validation scores\n",
    "plt.figure()\n",
    "plt.xlabel(\"Number of features selected\")\n",
    "plt.ylabel(\"Cross validation score (nb of correct classifications)\")\n",
    "plt.plot(range(1,(len(rfecv.grid_scores_))*50,50), rfecv.grid_scores_)"
   ]
  },
  {
   "cell_type": "markdown",
   "metadata": {},
   "source": [
    "### Top 200"
   ]
  },
  {
   "cell_type": "code",
   "execution_count": 67,
   "metadata": {
    "scrolled": true
   },
   "outputs": [
    {
     "name": "stdout",
     "output_type": "stream",
     "text": [
      "RandomForestClassifier(bootstrap=True, class_weight=None, criterion='gini',\n",
      "            max_depth=31, max_features='auto', max_leaf_nodes=None,\n",
      "            min_impurity_decrease=0.0, min_impurity_split=None,\n",
      "            min_samples_leaf=1, min_samples_split=5,\n",
      "            min_weight_fraction_leaf=0.0, n_estimators=180, n_jobs=1,\n",
      "            oob_score=True, random_state=0, verbose=0, warm_start=False)\n",
      "Optimal number of features : 200\n",
      "AUROC: 0.9133276499005398 Accuracy:  0.8333333333333334\n"
     ]
    },
    {
     "data": {
      "text/plain": [
       "[<matplotlib.lines.Line2D at 0x2b6657e4aba8>]"
      ]
     },
     "execution_count": 67,
     "metadata": {},
     "output_type": "execute_result"
    },
    {
     "data": {
      "image/png": "[encoded data removed]",
      "text/plain": [
       "<matplotlib.figure.Figure at 0x2b6652ac8198>"
      ]
     },
     "metadata": {},
     "output_type": "display_data"
    }
   ],
   "source": [
    "top_200 = TCRs_ind[:200]\n",
    "# Define a classifier\n",
    "rf = RandomForestClassifier(bootstrap=True, class_weight=None, criterion='gini',\n",
    "        max_depth=31, max_features='auto', max_leaf_nodes=None,\n",
    "        min_impurity_decrease=0.0, min_impurity_split=None,\n",
    "        min_samples_leaf=1, min_samples_split=5,\n",
    "        min_weight_fraction_leaf=0.0, n_estimators=180, n_jobs=1,\n",
    "        oob_score=True, random_state=0, verbose=0, warm_start=False)\n",
    "print(rf)\n",
    "\n",
    "rfecv = RFECV(rf,cv=StratifiedKFold(10),scoring='roc_auc',step = 20)\n",
    "rfecv.fit(train_X[:,top_200],train_y)\n",
    "\n",
    "print(\"Optimal number of features : %d\" % rfecv.n_features_)\n",
    "\n",
    "print('AUROC:',roc_auc_score(test_y,rfecv.predict_proba(test_X[:,top_200])[:,1]),'Accuracy: ',accuracy_score(test_y,\n",
    "        rfecv.predict(test_X[:,top_200])))\n",
    "\n",
    "# Plot number of features VS. cross-validation scores\n",
    "plt.figure()\n",
    "plt.xlabel(\"Number of features selected\")\n",
    "plt.ylabel(\"Cross validation score (nb of correct classifications)\")\n",
    "plt.plot(range(1,(len(rfecv.grid_scores_))*20,20), rfecv.grid_scores_)"
   ]
  },
  {
   "cell_type": "markdown",
   "metadata": {},
   "source": [
    "### Top 165"
   ]
  },
  {
   "cell_type": "code",
   "execution_count": 65,
   "metadata": {
    "scrolled": true
   },
   "outputs": [
    {
     "name": "stdout",
     "output_type": "stream",
     "text": [
      "RandomForestClassifier(bootstrap=True, class_weight=None, criterion='gini',\n",
      "            max_depth=31, max_features='auto', max_leaf_nodes=None,\n",
      "            min_impurity_decrease=0.0, min_impurity_split=None,\n",
      "            min_samples_leaf=1, min_samples_split=5,\n",
      "            min_weight_fraction_leaf=0.0, n_estimators=180, n_jobs=1,\n",
      "            oob_score=True, random_state=0, verbose=0, warm_start=False)\n",
      "Optimal number of features : 165\n",
      "AUROC: 0.9116226200625178 Accuracy:  0.8583333333333333\n"
     ]
    },
    {
     "data": {
      "text/plain": [
       "[<matplotlib.lines.Line2D at 0x2b6652b03f28>]"
      ]
     },
     "execution_count": 65,
     "metadata": {},
     "output_type": "execute_result"
    },
    {
     "data": {
      "image/png": "[encoded data removed]",
      "text/plain": [
       "<matplotlib.figure.Figure at 0x2b664bef0828>"
      ]
     },
     "metadata": {},
     "output_type": "display_data"
    }
   ],
   "source": [
    "top_165 = TCRs_ind[:165]\n",
    "# Define a classifier\n",
    "rf = RandomForestClassifier(bootstrap=True, class_weight=None, criterion='gini',\n",
    "        max_depth=31, max_features='auto', max_leaf_nodes=None,\n",
    "        min_impurity_decrease=0.0, min_impurity_split=None,\n",
    "        min_samples_leaf=1, min_samples_split=5,\n",
    "        min_weight_fraction_leaf=0.0, n_estimators=180, n_jobs=1,\n",
    "        oob_score=True, random_state=0, verbose=0, warm_start=False)\n",
    "print(rf)\n",
    "\n",
    "rfecv = RFECV(rf,cv=StratifiedKFold(10),scoring='roc_auc',step = 10)\n",
    "rfecv.fit(train_X[:,top_165],train_y)\n",
    "\n",
    "print(\"Optimal number of features : %d\" % rfecv.n_features_)\n",
    "\n",
    "print('AUROC:',roc_auc_score(test_y,rfecv.predict_proba(test_X[:,top_165])[:,1]),'Accuracy: ',accuracy_score(test_y,\n",
    "        rfecv.predict(test_X[:,top_165])))\n",
    "\n",
    "# Plot number of features VS. cross-validation scores\n",
    "plt.figure()\n",
    "plt.xlabel(\"Number of features selected\")\n",
    "plt.ylabel(\"Cross validation score (nb of correct classifications)\")\n",
    "plt.plot(range(1,(len(rfecv.grid_scores_))*5,5), rfecv.grid_scores_)"
   ]
  },
  {
   "cell_type": "code",
   "execution_count": 78,
   "metadata": {
    "scrolled": true
   },
   "outputs": [
    {
     "data": {
      "image/png": "[encoded data removed]",
      "text/plain": [
       "<matplotlib.figure.Figure at 0x2b666a939518>"
      ]
     },
     "metadata": {},
     "output_type": "display_data"
    }
   ],
   "source": [
    "cv_acc = []\n",
    "cv_auroc = []\n",
    "test_acc = []\n",
    "test_auroc = []\n",
    "for i in range(50,200,10):\n",
    "    train_X_sub = train_X[:,TCRs_ind[:int(i)]]\n",
    "    test_X_sub = test_X[:,TCRs_ind[:int(i)]]\n",
    "    cv_results = cross_validate(rf,train_X_sub,train_y,scoring=('accuracy', 'roc_auc'),cv=StratifiedKFold(10))\n",
    "    cv_acc.append(np.mean(cv_results['test_accuracy']))\n",
    "    cv_auroc.append(np.mean(cv_results['test_roc_auc']))\n",
    "\n",
    "    # fit training set\n",
    "    clf.fit(X=train_X_sub, y=train_y)\n",
    "\n",
    "    # predict test_Y\n",
    "    predict_test = clf.predict(test_X_sub)\n",
    "    test_acc.append(accuracy_score(test_y, predict_test))\n",
    "\n",
    "    # AUROC of testing set\n",
    "    predict_test_prob = clf.predict_proba(test_X_sub)\n",
    "    pos_prob_test = predict_test_prob[:, 1]\n",
    "    test_auroc.append(roc_auc_score(test_y, pos_prob_test))\n",
    "    \n",
    "    \n",
    "fig = plt.figure(figsize=(12,8))\n",
    "ax = fig.add_subplot(111)\n",
    "line1 = ax.plot(range(50,200,10),cv_auroc,label='CV_AUROC',marker='o')\n",
    "line2 = ax.plot(range(50,200,10),cv_acc,label='CV_Accuracy',marker='o')\n",
    "line3 = ax.plot(range(50,200,10),test_auroc,label='Test_AUROC',marker='o')\n",
    "line4 = ax.plot(range(50,200,10),test_acc,label='Test_Accuracy',marker='o')\n",
    "\n",
    "ax.set_ylabel('Scores')\n",
    "ax.set_xlabel('number of features')\n",
    "ax.set_xticks(range(50,200,10))\n",
    "ax.set_yticks(np.arange(0.5,1.1,0.1))\n",
    "ax.legend(loc='best', bbox_to_anchor=(1,1))\n",
    "\n",
    "plt.show()"
   ]
  },
  {
   "cell_type": "code",
   "execution_count": 81,
   "metadata": {
    "scrolled": true
   },
   "outputs": [
    {
     "data": {
      "image/png": "[encoded data removed]",
      "text/plain": [
       "<matplotlib.figure.Figure at 0x2b6691ea4cc0>"
      ]
     },
     "metadata": {},
     "output_type": "display_data"
    }
   ],
   "source": [
    "cv_acc = []\n",
    "cv_auroc = []\n",
    "test_acc = []\n",
    "test_auroc = []\n",
    "for i in range(70,100,1):\n",
    "    train_X_sub = train_X[:,TCRs_ind[:int(i)]]\n",
    "    test_X_sub = test_X[:,TCRs_ind[:int(i)]]\n",
    "    cv_results = cross_validate(rf,train_X_sub,train_y,scoring=('accuracy', 'roc_auc'),cv=StratifiedKFold(10))\n",
    "    cv_acc.append(np.mean(cv_results['test_accuracy']))\n",
    "    cv_auroc.append(np.mean(cv_results['test_roc_auc']))\n",
    "\n",
    "    # fit training set\n",
    "    clf.fit(X=train_X_sub, y=train_y)\n",
    "\n",
    "    # predict test_Y\n",
    "    predict_test = clf.predict(test_X_sub)\n",
    "    test_acc.append(accuracy_score(test_y, predict_test))\n",
    "\n",
    "    # AUROC of testing set\n",
    "    predict_test_prob = clf.predict_proba(test_X_sub)\n",
    "    pos_prob_test = predict_test_prob[:, 1]\n",
    "    test_auroc.append(roc_auc_score(test_y, pos_prob_test))\n",
    "    \n",
    "    \n",
    "fig = plt.figure(figsize=(12,8))\n",
    "ax = fig.add_subplot(111)\n",
    "line1 = ax.plot(range(70,100,1),cv_auroc,label='CV_AUROC',marker='o')\n",
    "line2 = ax.plot(range(70,100,1),cv_acc,label='CV_Accuracy',marker='o')\n",
    "line3 = ax.plot(range(70,100,1),test_auroc,label='Test_AUROC',marker='o')\n",
    "line4 = ax.plot(range(70,100,1),test_acc,label='Test_Accuracy',marker='o')\n",
    "\n",
    "ax.set_ylabel('Scores')\n",
    "ax.set_xlabel('number of features')\n",
    "ax.set_xticks(range(70,100,1))\n",
    "ax.set_yticks(np.arange(0.5,1.1,0.1))\n",
    "ax.legend(loc='best', bbox_to_anchor=(1,1))\n",
    "\n",
    "plt.show()"
   ]
  },
  {
   "cell_type": "code",
   "execution_count": 93,
   "metadata": {
    "scrolled": true
   },
   "outputs": [
    {
     "name": "stdout",
     "output_type": "stream",
     "text": [
      "60 :\n",
      "cv_auroc: 0.9437680819454218 cv_acc: 0.8846588827838827 auroc: 0.9238420005683432 acc: 0.8916666666666667\n",
      "61 :\n",
      "cv_auroc: 0.9456896551724139 cv_acc: 0.890860805860806 auroc: 0.9272520602443876 acc: 0.925\n",
      "62 :\n",
      "cv_auroc: 0.942757447806709 cv_acc: 0.8815098443223442 auroc: 0.9249786871270247 acc: 0.9\n",
      "63 :\n",
      "cv_auroc: 0.9472253499100789 cv_acc: 0.8798992673992674 auroc: 0.9263995453253765 acc: 0.9083333333333333\n",
      "64 :\n",
      "cv_auroc: 0.9417174915943389 cv_acc: 0.8783848443223443 auroc: 0.9258312020460358 acc: 0.9\n",
      "65 :\n",
      "cv_auroc: 0.9435448432246462 cv_acc: 0.8830723443223443 auroc: 0.9246945154873544 acc: 0.9083333333333333\n",
      "66 :\n",
      "cv_auroc: 0.9439545703338806 cv_acc: 0.8877365689865689 auroc: 0.9281045751633986 acc: 0.925\n",
      "67 :\n",
      "cv_auroc: 0.9464586754241926 cv_acc: 0.8877846459096459 auroc: 0.9261153736857061 acc: 0.9166666666666666\n",
      "68 :\n",
      "cv_auroc: 0.9450390960982095 cv_acc: 0.8923992673992676 auroc: 0.9263995453253765 acc: 0.9166666666666666\n",
      "69 :\n",
      "cv_auroc: 0.9442419266557197 cv_acc: 0.8970867673992675 auroc: 0.9278204035237283 acc: 0.925\n",
      "70 :\n",
      "cv_auroc: 0.9426190476190476 cv_acc: 0.893937728937729 auroc: 0.9366297243535096 acc: 0.9083333333333333\n",
      "71 :\n",
      "cv_auroc: 0.9472996324966768 cv_acc: 0.8955009920634922 auroc: 0.9316567206592782 acc: 0.9\n",
      "72 :\n",
      "cv_auroc: 0.9501307764485105 cv_acc: 0.9033127289377291 auroc: 0.9262574595055413 acc: 0.8916666666666667\n",
      "73 :\n",
      "cv_auroc: 0.9492980295566502 cv_acc: 0.8986011904761906 auroc: 0.9290991759022449 acc: 0.8916666666666667\n",
      "74 :\n",
      "cv_auroc: 0.9513239893658613 cv_acc: 0.9079529151404152 auroc: 0.9302358624609263 acc: 0.9\n",
      "75 :\n",
      "cv_auroc: 0.9496803893971382 cv_acc: 0.9001396520146521 auroc: 0.9282466609832337 acc: 0.9\n",
      "76 :\n",
      "cv_auroc: 0.9522787160841348 cv_acc: 0.9032646520146521 auroc: 0.9255470304063654 acc: 0.9\n",
      "77 :\n",
      "cv_auroc: 0.954887598717648 cv_acc: 0.9001396520146521 auroc: 0.9269678886047172 acc: 0.8833333333333333\n",
      "78 :\n",
      "cv_auroc: 0.9551878567518962 cv_acc: 0.9033142551892552 auroc: 0.924410343847684 acc: 0.8833333333333333\n",
      "79 :\n",
      "cv_auroc: 0.9552756274923764 cv_acc: 0.9079521520146521 auroc: 0.9254049445865303 acc: 0.875\n",
      "80 :\n",
      "cv_auroc: 0.9566911017280475 cv_acc: 0.9095146520146521 auroc: 0.9214265416311452 acc: 0.8833333333333333\n",
      "81 :\n",
      "cv_auroc: 0.955054539057002 cv_acc: 0.9095146520146521 auroc: 0.9136118215402101 acc: 0.875\n",
      "82 :\n",
      "cv_auroc: 0.9544723981546641 cv_acc: 0.9110531135531137 auroc: 0.9153168513782325 acc: 0.8916666666666667\n",
      "83 :\n",
      "cv_auroc: 0.9561138478379856 cv_acc: 0.9095146520146521 auroc: 0.9156010230179028 acc: 0.8833333333333333\n",
      "84 :\n",
      "cv_auroc: 0.9531855500821018 cv_acc: 0.9110771520146521 auroc: 0.9164535379369139 acc: 0.875\n",
      "85 :\n",
      "cv_auroc: 0.9550183751661585 cv_acc: 0.9111267551892552 auroc: 0.9150326797385621 acc: 0.875\n",
      "86 :\n",
      "cv_auroc: 0.9581687387598719 cv_acc: 0.9188904151404153 auroc: 0.9121909633418585 acc: 0.875\n",
      "87 :\n",
      "cv_auroc: 0.9551745640785049 cv_acc: 0.9064136904761906 auroc: 0.9150326797385621 acc: 0.8833333333333333\n",
      "88 :\n",
      "cv_auroc: 0.9575707639377591 cv_acc: 0.9157646520146521 auroc: 0.9104859335038363 acc: 0.875\n",
      "89 :\n",
      "cv_auroc: 0.9554044491359763 cv_acc: 0.9079769536019537 auroc: 0.9133276499005398 acc: 0.8666666666666667\n",
      "90 :\n",
      "cv_auroc: 0.956892055672844 cv_acc: 0.9126636904761906 auroc: 0.9215686274509803 acc: 0.8666666666666667\n",
      "91 :\n",
      "cv_auroc: 0.9566793728985846 cv_acc: 0.9142021520146522 auroc: 0.9232736572890026 acc: 0.875\n",
      "92 :\n",
      "cv_auroc: 0.9568044804128549 cv_acc: 0.9142021520146522 auroc: 0.9130434782608695 acc: 0.8833333333333333\n",
      "93 :\n",
      "cv_auroc: 0.9570715067636251 cv_acc: 0.9126884920634921 auroc: 0.9133276499005399 acc: 0.8916666666666667\n",
      "94 :\n",
      "cv_auroc: 0.9566668621471577 cv_acc: 0.9158134920634922 auroc: 0.9221369707303212 acc: 0.8666666666666667\n",
      "95 :\n",
      "cv_auroc: 0.9577584252091642 cv_acc: 0.909465048840049 auroc: 0.9130434782608696 acc: 0.875\n",
      "96 :\n",
      "cv_auroc: 0.9568834545312377 cv_acc: 0.9126884920634921 auroc: 0.9164535379369139 acc: 0.8833333333333333\n",
      "97 :\n",
      "cv_auroc: 0.9576008679333803 cv_acc: 0.9157894536019537 auroc: 0.9170218812162545 acc: 0.8833333333333333\n",
      "98 :\n",
      "cv_auroc: 0.9587534209085933 cv_acc: 0.9188896520146521 auroc: 0.9175902244955954 acc: 0.8833333333333333\n",
      "99 :\n",
      "cv_auroc: 0.9572791070451169 cv_acc: 0.9173031135531137 auroc: 0.9144643364592213 acc: 0.8916666666666667\n",
      "100 :\n",
      "cv_auroc: 0.9577842286339824 cv_acc: 0.9158134920634922 auroc: 0.9167377095765842 acc: 0.8916666666666667\n"
     ]
    }
   ],
   "source": [
    "cv_acc = []\n",
    "cv_auroc = []\n",
    "test_acc = []\n",
    "test_auroc = []\n",
    "for i in range(60,101,1):\n",
    "    train_X_sub = train_X[:,TCRs_ind[:int(i)]]\n",
    "    test_X_sub = test_X[:,TCRs_ind[:int(i)]]\n",
    "    cv_results = cross_validate(rf,train_X_sub,train_y,scoring=('accuracy', 'roc_auc'),cv=StratifiedKFold(10))\n",
    "    cv_acc = np.mean(cv_results['test_accuracy'])\n",
    "    cv_auroc = np.mean(cv_results['test_roc_auc'])\n",
    "\n",
    "    # fit training set\n",
    "    clf.fit(X=train_X_sub, y=train_y)\n",
    "\n",
    "    # predict test_Y\n",
    "    predict_test = clf.predict(test_X_sub)\n",
    "    acc = accuracy_score(test_y, predict_test)\n",
    "\n",
    "    # AUROC of testing set\n",
    "    predict_test_prob = clf.predict_proba(test_X_sub)\n",
    "    pos_prob_test = predict_test_prob[:, 1]\n",
    "    auroc = roc_auc_score(test_y, pos_prob_test)\n",
    "    \n",
    "    print(i,':')\n",
    "    print('cv_auroc:',cv_auroc, 'cv_acc:',cv_acc,'auroc:',auroc, 'acc:',acc)"
   ]
  },
  {
   "cell_type": "code",
   "execution_count": 96,
   "metadata": {
    "scrolled": true
   },
   "outputs": [
    {
     "name": "stdout",
     "output_type": "stream",
     "text": [
      "********************************************************************************\n",
      "RandomForestClassifier(bootstrap=True, class_weight=None, criterion='gini',\n",
      "            max_depth=31, max_features='auto', max_leaf_nodes=None,\n",
      "            min_impurity_decrease=0.0, min_impurity_split=None,\n",
      "            min_samples_leaf=1, min_samples_split=5,\n",
      "            min_weight_fraction_leaf=0.0, n_estimators=180, n_jobs=1,\n",
      "            oob_score=True, random_state=0, verbose=0, warm_start=False)\n",
      "\n",
      "Cross validation:\n",
      "accuracy score 0.8846588827838827\n",
      "AUROC 0.9437680819454218\n",
      "________________________________________________________________________________\n",
      "Training set:\n",
      "accuracy score 0.9500780031201248\n",
      "AUROC 0.9706865366467442\n",
      "log-loss: 0.2078254189872519\n",
      "________________________________________________________________________________\n",
      "Testing set;\n",
      "accuracy score: 0.8916666666666667\n",
      "AUROC 0.9238420005683432\n",
      "log-loss: 0.33740821337011256\n",
      "classification_report\n",
      "             precision    recall  f1-score   support\n",
      "\n",
      "          0       0.87      0.96      0.91        69\n",
      "          1       0.93      0.80      0.86        51\n",
      "\n",
      "avg / total       0.90      0.89      0.89       120\n",
      "\n",
      "Confusion matrix:\n",
      "      CMV-  CMV+\n",
      "CMV-    66     3\n",
      "CMV+    10    41\n",
      "********************************************************************************\n"
     ]
    }
   ],
   "source": [
    "train_X_sub = train_X[:,TCRs_ind[:60]]\n",
    "test_X_sub = test_X[:,TCRs_ind[:60]]\n",
    "estimator_result(rf,train_X_sub,train_y,test_X_sub,test_y)"
   ]
  },
  {
   "cell_type": "code",
   "execution_count": 95,
   "metadata": {
    "scrolled": true
   },
   "outputs": [
    {
     "name": "stdout",
     "output_type": "stream",
     "text": [
      "********************************************************************************\n",
      "RandomForestClassifier(bootstrap=True, class_weight=None, criterion='gini',\n",
      "            max_depth=31, max_features='auto', max_leaf_nodes=None,\n",
      "            min_impurity_decrease=0.0, min_impurity_split=None,\n",
      "            min_samples_leaf=1, min_samples_split=5,\n",
      "            min_weight_fraction_leaf=0.0, n_estimators=180, n_jobs=1,\n",
      "            oob_score=True, random_state=0, verbose=0, warm_start=False)\n",
      "\n",
      "Cross validation:\n",
      "accuracy score 0.890860805860806\n",
      "AUROC 0.9456896551724139\n",
      "________________________________________________________________________________\n",
      "Training set:\n",
      "accuracy score 0.9547581903276131\n",
      "AUROC 0.9722052925448255\n",
      "log-loss: 0.20520231486722498\n",
      "________________________________________________________________________________\n",
      "Testing set;\n",
      "accuracy score: 0.925\n",
      "AUROC 0.9272520602443876\n",
      "log-loss: 0.3326559762813858\n",
      "classification_report\n",
      "             precision    recall  f1-score   support\n",
      "\n",
      "          0       0.91      0.97      0.94        69\n",
      "          1       0.96      0.86      0.91        51\n",
      "\n",
      "avg / total       0.93      0.93      0.92       120\n",
      "\n",
      "Confusion matrix:\n",
      "      CMV-  CMV+\n",
      "CMV-    67     2\n",
      "CMV+     7    44\n",
      "********************************************************************************\n"
     ]
    }
   ],
   "source": [
    "train_X_sub = train_X[:,TCRs_ind[:61]]\n",
    "test_X_sub = test_X[:,TCRs_ind[:61]]\n",
    "estimator_result(rf,train_X_sub,train_y,test_X_sub,test_y)"
   ]
  },
  {
   "cell_type": "code",
   "execution_count": 84,
   "metadata": {
    "scrolled": true
   },
   "outputs": [
    {
     "name": "stdout",
     "output_type": "stream",
     "text": [
      "********************************************************************************\n",
      "RandomForestClassifier(bootstrap=True, class_weight=None, criterion='gini',\n",
      "            max_depth=31, max_features='auto', max_leaf_nodes=None,\n",
      "            min_impurity_decrease=0.0, min_impurity_split=None,\n",
      "            min_samples_leaf=1, min_samples_split=5,\n",
      "            min_weight_fraction_leaf=0.0, n_estimators=180, n_jobs=1,\n",
      "            oob_score=True, random_state=0, verbose=0, warm_start=False)\n",
      "\n",
      "Cross validation:\n",
      "accuracy score 0.893937728937729\n",
      "AUROC 0.9426190476190476\n",
      "________________________________________________________________________________\n",
      "Training set:\n",
      "accuracy score 0.9563182527301092\n",
      "AUROC 0.9751690783265179\n",
      "log-loss: 0.2012110703803166\n",
      "________________________________________________________________________________\n",
      "Testing set;\n",
      "accuracy score: 0.9083333333333333\n",
      "AUROC 0.9366297243535096\n",
      "log-loss: 0.3230386044397289\n",
      "classification_report\n",
      "             precision    recall  f1-score   support\n",
      "\n",
      "          0       0.88      0.97      0.92        69\n",
      "          1       0.95      0.82      0.88        51\n",
      "\n",
      "avg / total       0.91      0.91      0.91       120\n",
      "\n",
      "Confusion matrix:\n",
      "      CMV-  CMV+\n",
      "CMV-    67     2\n",
      "CMV+     9    42\n",
      "********************************************************************************\n"
     ]
    }
   ],
   "source": [
    "train_X_sub = train_X[:,TCRs_ind[:70]]\n",
    "test_X_sub = test_X[:,TCRs_ind[:70]]\n",
    "estimator_result(rf,train_X_sub,train_y,test_X_sub,test_y)"
   ]
  },
  {
   "cell_type": "code",
   "execution_count": 94,
   "metadata": {
    "scrolled": true
   },
   "outputs": [
    {
     "name": "stdout",
     "output_type": "stream",
     "text": [
      "********************************************************************************\n",
      "RandomForestClassifier(bootstrap=True, class_weight=None, criterion='gini',\n",
      "            max_depth=31, max_features='auto', max_leaf_nodes=None,\n",
      "            min_impurity_decrease=0.0, min_impurity_split=None,\n",
      "            min_samples_leaf=1, min_samples_split=5,\n",
      "            min_weight_fraction_leaf=0.0, n_estimators=180, n_jobs=1,\n",
      "            oob_score=True, random_state=0, verbose=0, warm_start=False)\n",
      "\n",
      "Cross validation:\n",
      "accuracy score 0.9001396520146521\n",
      "AUROC 0.9496803893971382\n",
      "________________________________________________________________________________\n",
      "Training set:\n",
      "accuracy score 0.9563182527301092\n",
      "AUROC 0.9777642340358602\n",
      "log-loss: 0.19306311586515598\n",
      "________________________________________________________________________________\n",
      "Testing set;\n",
      "accuracy score: 0.9\n",
      "AUROC 0.9282466609832337\n",
      "log-loss: 0.3369141663254706\n",
      "classification_report\n",
      "             precision    recall  f1-score   support\n",
      "\n",
      "          0       0.89      0.94      0.92        69\n",
      "          1       0.91      0.84      0.88        51\n",
      "\n",
      "avg / total       0.90      0.90      0.90       120\n",
      "\n",
      "Confusion matrix:\n",
      "      CMV-  CMV+\n",
      "CMV-    65     4\n",
      "CMV+     8    43\n",
      "********************************************************************************\n"
     ]
    }
   ],
   "source": [
    "train_X_sub = train_X[:,TCRs_ind[:75]]\n",
    "test_X_sub = test_X[:,TCRs_ind[:75]]\n",
    "estimator_result(rf,train_X_sub,train_y,test_X_sub,test_y)"
   ]
  },
  {
   "cell_type": "markdown",
   "metadata": {},
   "source": [
    "**Top 61,70,75 is optional**"
   ]
  }
 ],
 "metadata": {
  "kernelspec": {
   "display_name": "anaconda3/5.1.0-gpu",
   "language": "python",
   "name": "anaconda3_5.1.0-gpu"
  },
  "language_info": {
   "codemirror_mode": {
    "name": "ipython",
    "version": 3
   },
   "file_extension": ".py",
   "mimetype": "text/x-python",
   "name": "python",
   "nbconvert_exporter": "python",
   "pygments_lexer": "ipython3",
   "version": "3.6.4"
  },
  "varInspector": {
   "cols": {
    "lenName": 16,
    "lenType": 16,
    "lenVar": 40
   },
   "kernels_config": {
    "python": {
     "delete_cmd_postfix": "",
     "delete_cmd_prefix": "del ",
     "library": "var_list.py",
     "varRefreshCmd": "print(var_dic_list())"
    },
    "r": {
     "delete_cmd_postfix": ") ",
     "delete_cmd_prefix": "rm(",
     "library": "var_list.r",
     "varRefreshCmd": "cat(var_dic_list()) "
    }
   },
   "types_to_exclude": [
    "module",
    "function",
    "builtin_function_or_method",
    "instance",
    "_Feature"
   ],
   "window_display": false
  }
 },
 "nbformat": 4,
 "nbformat_minor": 2
}
