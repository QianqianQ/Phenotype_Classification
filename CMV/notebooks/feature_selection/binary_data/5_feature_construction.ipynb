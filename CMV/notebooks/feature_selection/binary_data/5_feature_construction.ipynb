{
 "cells": [
  {
   "cell_type": "code",
   "execution_count": 1,
   "metadata": {},
   "outputs": [],
   "source": [
    "import matplotlib\n",
    "matplotlib.use('Agg')\n",
    "\n",
    "# Handle table-like data and matrices\n",
    "import numpy as np\n",
    "import pandas as pd\n",
    "\n",
    "# Helpers\n",
    "import sys\n",
    "sys.path.insert(0,'../../')\n",
    "from utils import data_path,results_path,grid_search,estimator_result,cross_validate,evaluate_param\n",
    "from scipy.sparse import csr_matrix,save_npz,load_npz\n",
    "from sklearn.model_selection import cross_val_score,LeaveOneOut,StratifiedKFold\n",
    "from sklearn.metrics import accuracy_score,roc_auc_score,roc_curve\n",
    "from sklearn.metrics import make_scorer\n",
    "from sklearn.model_selection import GridSearchCV\n",
    "from sklearn.metrics import classification_report\n",
    "from sklearn.preprocessing import MinMaxScaler,StandardScaler\n",
    "import pickle\n",
    "\n",
    "# Feature selection\n",
    "from sklearn.feature_selection import SelectFromModel\n",
    "from sklearn.feature_selection import RFECV,VarianceThreshold\n",
    "\n",
    "# Algorithm\n",
    "from sklearn.linear_model import LogisticRegression,LogisticRegressionCV\n",
    "from sklearn.svm import LinearSVC\n",
    "from sklearn.ensemble import RandomForestClassifier\n",
    "\n",
    "# Visualisation\n",
    "import matplotlib.pyplot as plt\n",
    "import seaborn as sns\n",
    "%matplotlib inline\n",
    "\n",
    "# Ignore warnings\n",
    "import warnings\n",
    "warnings.filterwarnings('ignore')"
   ]
  },
  {
   "cell_type": "markdown",
   "metadata": {},
   "source": [
    "## Load data"
   ]
  },
  {
   "cell_type": "code",
   "execution_count": 2,
   "metadata": {
    "scrolled": true
   },
   "outputs": [
    {
     "name": "stdout",
     "output_type": "stream",
     "text": [
      "['/test', '/train']\n"
     ]
    }
   ],
   "source": [
    "store = pd.HDFStore(data_path+'version_1/'+'data.h5')\n",
    "print(store.keys())\n",
    "train = store['train']\n",
    "store.close()"
   ]
  },
  {
   "cell_type": "code",
   "execution_count": 3,
   "metadata": {},
   "outputs": [],
   "source": [
    "train.drop(['sample_name','CMV_status'],axis=1,inplace=True)\n",
    "TCRs=train.columns.values"
   ]
  },
  {
   "cell_type": "code",
   "execution_count": 4,
   "metadata": {},
   "outputs": [],
   "source": [
    "# train_X, train_y, test_X ,test_y = load_data('v1','freq')\n",
    "with open(data_path + 'sorted_TCRs_ind.pkl', 'rb') as f:\n",
    "    TCRs_ind = pickle.load(f)\n",
    "\n",
    "p = 70\n",
    "ind = TCRs_ind[:p]\n",
    "# train_X_sub = train_X[:,ind].toarray()\n",
    "# test_X_sub = test_X[:,ind].toarray()"
   ]
  },
  {
   "cell_type": "code",
   "execution_count": 5,
   "metadata": {},
   "outputs": [],
   "source": [
    "train_X = load_npz(data_path + 'version_1/'+ 'train_bin.npz')\n",
    "test_X = load_npz(data_path + 'version_1/'+ 'test_bin.npz')"
   ]
  },
  {
   "cell_type": "code",
   "execution_count": 6,
   "metadata": {},
   "outputs": [],
   "source": [
    "train_X_sub = train_X[:,ind].toarray()\n",
    "test_X_sub = test_X[:,ind].toarray()"
   ]
  },
  {
   "cell_type": "code",
   "execution_count": 7,
   "metadata": {
    "scrolled": false
   },
   "outputs": [],
   "source": [
    "df = pd.DataFrame(train_X_sub,columns = np.array(TCRs)[list(ind)])"
   ]
  },
  {
   "cell_type": "code",
   "execution_count": 8,
   "metadata": {
    "scrolled": true
   },
   "outputs": [
    {
     "data": {
      "text/html": [
       "<div>\n",
       "<style scoped>\n",
       "    .dataframe tbody tr th:only-of-type {\n",
       "        vertical-align: middle;\n",
       "    }\n",
       "\n",
       "    .dataframe tbody tr th {\n",
       "        vertical-align: top;\n",
       "    }\n",
       "\n",
       "    .dataframe thead th {\n",
       "        text-align: right;\n",
       "    }\n",
       "</style>\n",
       "<table border=\"1\" class=\"dataframe\">\n",
       "  <thead>\n",
       "    <tr style=\"text-align: right;\">\n",
       "      <th></th>\n",
       "      <th>(TCRBV09, TCRBV09-01, null, CASSGQGAYEQYF, TCRBJ02, TCRBJ02-07, 01)</th>\n",
       "      <th>(TCRBV19, TCRBV19-01, null, CASSIGPLEHNEQFF, TCRBJ02, TCRBJ02-01, 01)</th>\n",
       "      <th>(TCRBV05, TCRBV05-01, 01, CASSPDRVGQETQYF, TCRBJ02, TCRBJ02-05, 01)</th>\n",
       "      <th>(TCRBV07, TCRBV07-02, 01, CASSLEAEYEQYF, TCRBJ02, TCRBJ02-07, 01)</th>\n",
       "      <th>(TCRBV28, TCRBV28-01, 01, CASSIEGNQPQHF, TCRBJ01, TCRBJ01-05, 01)</th>\n",
       "      <th>(TCRBV24, unresolved, null, CATSDGDEQFF, TCRBJ02, TCRBJ02-01, 01)</th>\n",
       "      <th>(TCRBV05, TCRBV05-06, 01, CASSLVAGGRETQYF, TCRBJ02, TCRBJ02-05, 01)</th>\n",
       "      <th>(TCRBV07, TCRBV07-06, 01, CASSRGRQETQYF, TCRBJ02, TCRBJ02-05, 01)</th>\n",
       "      <th>(TCRBV09, TCRBV09-01, null, CASSAGQGVTYEQYF, TCRBJ02, TCRBJ02-07, 01)</th>\n",
       "      <th>(TCRBV04, TCRBV04-03, 01, CASSPQRNTEAFF, TCRBJ01, TCRBJ01-01, 01)</th>\n",
       "      <th>...</th>\n",
       "      <th>(TCRBV12, unresolved, null, CASSLTGGRNQPQHF, TCRBJ01, TCRBJ01-05, 01)</th>\n",
       "      <th>(TCRBV05, TCRBV05-08, 01, CASSIQGYSNQPQHF, TCRBJ01, TCRBJ01-05, 01)</th>\n",
       "      <th>(TCRBV19, TCRBV19-01, null, CASSTTGGDGYTF, TCRBJ01, TCRBJ01-02, 01)</th>\n",
       "      <th>(TCRBV09, TCRBV09-01, null, CASSVTGGTDTQYF, TCRBJ02, TCRBJ02-03, 01)</th>\n",
       "      <th>(TCRBV09, TCRBV09-01, null, CASSVLAGPTDTQYF, TCRBJ02, TCRBJ02-03, 01)</th>\n",
       "      <th>(TCRBV07, TCRBV07-09, null, CASSHRDRNYEQYF, TCRBJ02, TCRBJ02-07, 01)</th>\n",
       "      <th>(TCRBV04, TCRBV04-03, 01, CASSPSRNTEAFF, TCRBJ01, TCRBJ01-01, 01)</th>\n",
       "      <th>(TCRBV12, unresolved, null, CASSLGGPGDTQYF, TCRBJ02, TCRBJ02-03, 01)</th>\n",
       "      <th>(TCRBV06, TCRBV06-01, 01, CASSEARGGVEKLFF, TCRBJ01, TCRBJ01-04, 01)</th>\n",
       "      <th>(TCRBV06, TCRBV06-04, null, CASRSDSGANVLTF, TCRBJ02, TCRBJ02-06, 01)</th>\n",
       "    </tr>\n",
       "  </thead>\n",
       "  <tbody>\n",
       "    <tr>\n",
       "      <th>0</th>\n",
       "      <td>568</td>\n",
       "      <td>611</td>\n",
       "      <td>607</td>\n",
       "      <td>610</td>\n",
       "      <td>615</td>\n",
       "      <td>594</td>\n",
       "      <td>580</td>\n",
       "      <td>599</td>\n",
       "      <td>617</td>\n",
       "      <td>610</td>\n",
       "      <td>...</td>\n",
       "      <td>594</td>\n",
       "      <td>626</td>\n",
       "      <td>607</td>\n",
       "      <td>525</td>\n",
       "      <td>610</td>\n",
       "      <td>619</td>\n",
       "      <td>619</td>\n",
       "      <td>613</td>\n",
       "      <td>616</td>\n",
       "      <td>623</td>\n",
       "    </tr>\n",
       "    <tr>\n",
       "      <th>1</th>\n",
       "      <td>73</td>\n",
       "      <td>30</td>\n",
       "      <td>34</td>\n",
       "      <td>31</td>\n",
       "      <td>26</td>\n",
       "      <td>47</td>\n",
       "      <td>61</td>\n",
       "      <td>42</td>\n",
       "      <td>24</td>\n",
       "      <td>31</td>\n",
       "      <td>...</td>\n",
       "      <td>47</td>\n",
       "      <td>15</td>\n",
       "      <td>34</td>\n",
       "      <td>116</td>\n",
       "      <td>31</td>\n",
       "      <td>22</td>\n",
       "      <td>22</td>\n",
       "      <td>28</td>\n",
       "      <td>25</td>\n",
       "      <td>18</td>\n",
       "    </tr>\n",
       "  </tbody>\n",
       "</table>\n",
       "<p>2 rows × 70 columns</p>\n",
       "</div>"
      ],
      "text/plain": [
       "   (TCRBV09, TCRBV09-01, null, CASSGQGAYEQYF, TCRBJ02, TCRBJ02-07, 01)  \\\n",
       "0                                                568                     \n",
       "1                                                 73                     \n",
       "\n",
       "   (TCRBV19, TCRBV19-01, null, CASSIGPLEHNEQFF, TCRBJ02, TCRBJ02-01, 01)  \\\n",
       "0                                                611                       \n",
       "1                                                 30                       \n",
       "\n",
       "   (TCRBV05, TCRBV05-01, 01, CASSPDRVGQETQYF, TCRBJ02, TCRBJ02-05, 01)  \\\n",
       "0                                                607                     \n",
       "1                                                 34                     \n",
       "\n",
       "   (TCRBV07, TCRBV07-02, 01, CASSLEAEYEQYF, TCRBJ02, TCRBJ02-07, 01)  \\\n",
       "0                                                610                   \n",
       "1                                                 31                   \n",
       "\n",
       "   (TCRBV28, TCRBV28-01, 01, CASSIEGNQPQHF, TCRBJ01, TCRBJ01-05, 01)  \\\n",
       "0                                                615                   \n",
       "1                                                 26                   \n",
       "\n",
       "   (TCRBV24, unresolved, null, CATSDGDEQFF, TCRBJ02, TCRBJ02-01, 01)  \\\n",
       "0                                                594                   \n",
       "1                                                 47                   \n",
       "\n",
       "   (TCRBV05, TCRBV05-06, 01, CASSLVAGGRETQYF, TCRBJ02, TCRBJ02-05, 01)  \\\n",
       "0                                                580                     \n",
       "1                                                 61                     \n",
       "\n",
       "   (TCRBV07, TCRBV07-06, 01, CASSRGRQETQYF, TCRBJ02, TCRBJ02-05, 01)  \\\n",
       "0                                                599                   \n",
       "1                                                 42                   \n",
       "\n",
       "   (TCRBV09, TCRBV09-01, null, CASSAGQGVTYEQYF, TCRBJ02, TCRBJ02-07, 01)  \\\n",
       "0                                                617                       \n",
       "1                                                 24                       \n",
       "\n",
       "   (TCRBV04, TCRBV04-03, 01, CASSPQRNTEAFF, TCRBJ01, TCRBJ01-01, 01)  \\\n",
       "0                                                610                   \n",
       "1                                                 31                   \n",
       "\n",
       "                                   ...                                   \\\n",
       "0                                  ...                                    \n",
       "1                                  ...                                    \n",
       "\n",
       "   (TCRBV12, unresolved, null, CASSLTGGRNQPQHF, TCRBJ01, TCRBJ01-05, 01)  \\\n",
       "0                                                594                       \n",
       "1                                                 47                       \n",
       "\n",
       "   (TCRBV05, TCRBV05-08, 01, CASSIQGYSNQPQHF, TCRBJ01, TCRBJ01-05, 01)  \\\n",
       "0                                                626                     \n",
       "1                                                 15                     \n",
       "\n",
       "   (TCRBV19, TCRBV19-01, null, CASSTTGGDGYTF, TCRBJ01, TCRBJ01-02, 01)  \\\n",
       "0                                                607                     \n",
       "1                                                 34                     \n",
       "\n",
       "   (TCRBV09, TCRBV09-01, null, CASSVTGGTDTQYF, TCRBJ02, TCRBJ02-03, 01)  \\\n",
       "0                                                525                      \n",
       "1                                                116                      \n",
       "\n",
       "   (TCRBV09, TCRBV09-01, null, CASSVLAGPTDTQYF, TCRBJ02, TCRBJ02-03, 01)  \\\n",
       "0                                                610                       \n",
       "1                                                 31                       \n",
       "\n",
       "   (TCRBV07, TCRBV07-09, null, CASSHRDRNYEQYF, TCRBJ02, TCRBJ02-07, 01)  \\\n",
       "0                                                619                      \n",
       "1                                                 22                      \n",
       "\n",
       "   (TCRBV04, TCRBV04-03, 01, CASSPSRNTEAFF, TCRBJ01, TCRBJ01-01, 01)  \\\n",
       "0                                                619                   \n",
       "1                                                 22                   \n",
       "\n",
       "   (TCRBV12, unresolved, null, CASSLGGPGDTQYF, TCRBJ02, TCRBJ02-03, 01)  \\\n",
       "0                                                613                      \n",
       "1                                                 28                      \n",
       "\n",
       "   (TCRBV06, TCRBV06-01, 01, CASSEARGGVEKLFF, TCRBJ01, TCRBJ01-04, 01)  \\\n",
       "0                                                616                     \n",
       "1                                                 25                     \n",
       "\n",
       "   (TCRBV06, TCRBV06-04, null, CASRSDSGANVLTF, TCRBJ02, TCRBJ02-06, 01)  \n",
       "0                                                623                     \n",
       "1                                                 18                     \n",
       "\n",
       "[2 rows x 70 columns]"
      ]
     },
     "execution_count": 8,
     "metadata": {},
     "output_type": "execute_result"
    }
   ],
   "source": [
    "df.apply(pd.Series.value_counts)"
   ]
  },
  {
   "cell_type": "code",
   "execution_count": 9,
   "metadata": {},
   "outputs": [],
   "source": [
    "train_y = pd.read_csv(data_path + 'train_Y.csv')['CMV_status']\n",
    "test_y = pd.read_csv(data_path + 'test_Y.csv')['CMV_status']"
   ]
  },
  {
   "cell_type": "code",
   "execution_count": 10,
   "metadata": {},
   "outputs": [],
   "source": [
    "store = pd.HDFStore(data_path+'version_1/'+'data.h5')\n",
    "test = store['test']\n",
    "store.close()"
   ]
  },
  {
   "cell_type": "code",
   "execution_count": 11,
   "metadata": {
    "scrolled": true
   },
   "outputs": [],
   "source": [
    "test.drop(['sample_name','CMV_status'],axis=1,inplace=True)\n",
    "TCRs = test.columns.values\n",
    "df_test = pd.DataFrame(test_X_sub,columns = TCRs[list(ind)])"
   ]
  },
  {
   "cell_type": "code",
   "execution_count": 12,
   "metadata": {},
   "outputs": [
    {
     "data": {
      "text/html": [
       "<div>\n",
       "<style scoped>\n",
       "    .dataframe tbody tr th:only-of-type {\n",
       "        vertical-align: middle;\n",
       "    }\n",
       "\n",
       "    .dataframe tbody tr th {\n",
       "        vertical-align: top;\n",
       "    }\n",
       "\n",
       "    .dataframe thead th {\n",
       "        text-align: right;\n",
       "    }\n",
       "</style>\n",
       "<table border=\"1\" class=\"dataframe\">\n",
       "  <thead>\n",
       "    <tr style=\"text-align: right;\">\n",
       "      <th></th>\n",
       "      <th>(TCRBV09, TCRBV09-01, null, CASSGQGAYEQYF, TCRBJ02, TCRBJ02-07, 01)</th>\n",
       "      <th>(TCRBV19, TCRBV19-01, null, CASSIGPLEHNEQFF, TCRBJ02, TCRBJ02-01, 01)</th>\n",
       "      <th>(TCRBV05, TCRBV05-01, 01, CASSPDRVGQETQYF, TCRBJ02, TCRBJ02-05, 01)</th>\n",
       "      <th>(TCRBV07, TCRBV07-02, 01, CASSLEAEYEQYF, TCRBJ02, TCRBJ02-07, 01)</th>\n",
       "      <th>(TCRBV28, TCRBV28-01, 01, CASSIEGNQPQHF, TCRBJ01, TCRBJ01-05, 01)</th>\n",
       "      <th>(TCRBV24, unresolved, null, CATSDGDEQFF, TCRBJ02, TCRBJ02-01, 01)</th>\n",
       "      <th>(TCRBV05, TCRBV05-06, 01, CASSLVAGGRETQYF, TCRBJ02, TCRBJ02-05, 01)</th>\n",
       "      <th>(TCRBV07, TCRBV07-06, 01, CASSRGRQETQYF, TCRBJ02, TCRBJ02-05, 01)</th>\n",
       "      <th>(TCRBV09, TCRBV09-01, null, CASSAGQGVTYEQYF, TCRBJ02, TCRBJ02-07, 01)</th>\n",
       "      <th>(TCRBV04, TCRBV04-03, 01, CASSPQRNTEAFF, TCRBJ01, TCRBJ01-01, 01)</th>\n",
       "      <th>...</th>\n",
       "      <th>(TCRBV12, unresolved, null, CASSLTGGRNQPQHF, TCRBJ01, TCRBJ01-05, 01)</th>\n",
       "      <th>(TCRBV05, TCRBV05-08, 01, CASSIQGYSNQPQHF, TCRBJ01, TCRBJ01-05, 01)</th>\n",
       "      <th>(TCRBV19, TCRBV19-01, null, CASSTTGGDGYTF, TCRBJ01, TCRBJ01-02, 01)</th>\n",
       "      <th>(TCRBV09, TCRBV09-01, null, CASSVTGGTDTQYF, TCRBJ02, TCRBJ02-03, 01)</th>\n",
       "      <th>(TCRBV09, TCRBV09-01, null, CASSVLAGPTDTQYF, TCRBJ02, TCRBJ02-03, 01)</th>\n",
       "      <th>(TCRBV07, TCRBV07-09, null, CASSHRDRNYEQYF, TCRBJ02, TCRBJ02-07, 01)</th>\n",
       "      <th>(TCRBV04, TCRBV04-03, 01, CASSPSRNTEAFF, TCRBJ01, TCRBJ01-01, 01)</th>\n",
       "      <th>(TCRBV12, unresolved, null, CASSLGGPGDTQYF, TCRBJ02, TCRBJ02-03, 01)</th>\n",
       "      <th>(TCRBV06, TCRBV06-01, 01, CASSEARGGVEKLFF, TCRBJ01, TCRBJ01-04, 01)</th>\n",
       "      <th>(TCRBV06, TCRBV06-04, null, CASRSDSGANVLTF, TCRBJ02, TCRBJ02-06, 01)</th>\n",
       "    </tr>\n",
       "  </thead>\n",
       "  <tbody>\n",
       "    <tr>\n",
       "      <th>0</th>\n",
       "      <td>107</td>\n",
       "      <td>119</td>\n",
       "      <td>114</td>\n",
       "      <td>114</td>\n",
       "      <td>116</td>\n",
       "      <td>116</td>\n",
       "      <td>115</td>\n",
       "      <td>110</td>\n",
       "      <td>115</td>\n",
       "      <td>115</td>\n",
       "      <td>...</td>\n",
       "      <td>112</td>\n",
       "      <td>117</td>\n",
       "      <td>115</td>\n",
       "      <td>100</td>\n",
       "      <td>115</td>\n",
       "      <td>114</td>\n",
       "      <td>117</td>\n",
       "      <td>120.0</td>\n",
       "      <td>117</td>\n",
       "      <td>118</td>\n",
       "    </tr>\n",
       "    <tr>\n",
       "      <th>1</th>\n",
       "      <td>13</td>\n",
       "      <td>1</td>\n",
       "      <td>6</td>\n",
       "      <td>6</td>\n",
       "      <td>4</td>\n",
       "      <td>4</td>\n",
       "      <td>5</td>\n",
       "      <td>10</td>\n",
       "      <td>5</td>\n",
       "      <td>5</td>\n",
       "      <td>...</td>\n",
       "      <td>8</td>\n",
       "      <td>3</td>\n",
       "      <td>5</td>\n",
       "      <td>20</td>\n",
       "      <td>5</td>\n",
       "      <td>6</td>\n",
       "      <td>3</td>\n",
       "      <td>NaN</td>\n",
       "      <td>3</td>\n",
       "      <td>2</td>\n",
       "    </tr>\n",
       "  </tbody>\n",
       "</table>\n",
       "<p>2 rows × 70 columns</p>\n",
       "</div>"
      ],
      "text/plain": [
       "   (TCRBV09, TCRBV09-01, null, CASSGQGAYEQYF, TCRBJ02, TCRBJ02-07, 01)  \\\n",
       "0                                                107                     \n",
       "1                                                 13                     \n",
       "\n",
       "   (TCRBV19, TCRBV19-01, null, CASSIGPLEHNEQFF, TCRBJ02, TCRBJ02-01, 01)  \\\n",
       "0                                                119                       \n",
       "1                                                  1                       \n",
       "\n",
       "   (TCRBV05, TCRBV05-01, 01, CASSPDRVGQETQYF, TCRBJ02, TCRBJ02-05, 01)  \\\n",
       "0                                                114                     \n",
       "1                                                  6                     \n",
       "\n",
       "   (TCRBV07, TCRBV07-02, 01, CASSLEAEYEQYF, TCRBJ02, TCRBJ02-07, 01)  \\\n",
       "0                                                114                   \n",
       "1                                                  6                   \n",
       "\n",
       "   (TCRBV28, TCRBV28-01, 01, CASSIEGNQPQHF, TCRBJ01, TCRBJ01-05, 01)  \\\n",
       "0                                                116                   \n",
       "1                                                  4                   \n",
       "\n",
       "   (TCRBV24, unresolved, null, CATSDGDEQFF, TCRBJ02, TCRBJ02-01, 01)  \\\n",
       "0                                                116                   \n",
       "1                                                  4                   \n",
       "\n",
       "   (TCRBV05, TCRBV05-06, 01, CASSLVAGGRETQYF, TCRBJ02, TCRBJ02-05, 01)  \\\n",
       "0                                                115                     \n",
       "1                                                  5                     \n",
       "\n",
       "   (TCRBV07, TCRBV07-06, 01, CASSRGRQETQYF, TCRBJ02, TCRBJ02-05, 01)  \\\n",
       "0                                                110                   \n",
       "1                                                 10                   \n",
       "\n",
       "   (TCRBV09, TCRBV09-01, null, CASSAGQGVTYEQYF, TCRBJ02, TCRBJ02-07, 01)  \\\n",
       "0                                                115                       \n",
       "1                                                  5                       \n",
       "\n",
       "   (TCRBV04, TCRBV04-03, 01, CASSPQRNTEAFF, TCRBJ01, TCRBJ01-01, 01)  \\\n",
       "0                                                115                   \n",
       "1                                                  5                   \n",
       "\n",
       "                                   ...                                   \\\n",
       "0                                  ...                                    \n",
       "1                                  ...                                    \n",
       "\n",
       "   (TCRBV12, unresolved, null, CASSLTGGRNQPQHF, TCRBJ01, TCRBJ01-05, 01)  \\\n",
       "0                                                112                       \n",
       "1                                                  8                       \n",
       "\n",
       "   (TCRBV05, TCRBV05-08, 01, CASSIQGYSNQPQHF, TCRBJ01, TCRBJ01-05, 01)  \\\n",
       "0                                                117                     \n",
       "1                                                  3                     \n",
       "\n",
       "   (TCRBV19, TCRBV19-01, null, CASSTTGGDGYTF, TCRBJ01, TCRBJ01-02, 01)  \\\n",
       "0                                                115                     \n",
       "1                                                  5                     \n",
       "\n",
       "   (TCRBV09, TCRBV09-01, null, CASSVTGGTDTQYF, TCRBJ02, TCRBJ02-03, 01)  \\\n",
       "0                                                100                      \n",
       "1                                                 20                      \n",
       "\n",
       "   (TCRBV09, TCRBV09-01, null, CASSVLAGPTDTQYF, TCRBJ02, TCRBJ02-03, 01)  \\\n",
       "0                                                115                       \n",
       "1                                                  5                       \n",
       "\n",
       "   (TCRBV07, TCRBV07-09, null, CASSHRDRNYEQYF, TCRBJ02, TCRBJ02-07, 01)  \\\n",
       "0                                                114                      \n",
       "1                                                  6                      \n",
       "\n",
       "   (TCRBV04, TCRBV04-03, 01, CASSPSRNTEAFF, TCRBJ01, TCRBJ01-01, 01)  \\\n",
       "0                                                117                   \n",
       "1                                                  3                   \n",
       "\n",
       "   (TCRBV12, unresolved, null, CASSLGGPGDTQYF, TCRBJ02, TCRBJ02-03, 01)  \\\n",
       "0                                              120.0                      \n",
       "1                                                NaN                      \n",
       "\n",
       "   (TCRBV06, TCRBV06-01, 01, CASSEARGGVEKLFF, TCRBJ01, TCRBJ01-04, 01)  \\\n",
       "0                                                117                     \n",
       "1                                                  3                     \n",
       "\n",
       "   (TCRBV06, TCRBV06-04, null, CASRSDSGANVLTF, TCRBJ02, TCRBJ02-06, 01)  \n",
       "0                                                118                     \n",
       "1                                                  2                     \n",
       "\n",
       "[2 rows x 70 columns]"
      ]
     },
     "execution_count": 12,
     "metadata": {},
     "output_type": "execute_result"
    }
   ],
   "source": [
    "df_test.apply(pd.Series.value_counts)"
   ]
  },
  {
   "cell_type": "markdown",
   "metadata": {},
   "source": [
    "## Clustering"
   ]
  },
  {
   "cell_type": "code",
   "execution_count": 13,
   "metadata": {},
   "outputs": [],
   "source": [
    "from sklearn.cluster import KMeans"
   ]
  },
  {
   "cell_type": "code",
   "execution_count": 14,
   "metadata": {
    "scrolled": true
   },
   "outputs": [],
   "source": [
    "kmeans = KMeans(n_clusters=69, random_state=0).fit(df.T)"
   ]
  },
  {
   "cell_type": "code",
   "execution_count": 15,
   "metadata": {},
   "outputs": [],
   "source": [
    "y_pred = kmeans.fit_predict(df.T)\n",
    "unique_elements, counts_elements = np.unique(y_pred, return_counts=True)"
   ]
  },
  {
   "cell_type": "code",
   "execution_count": 18,
   "metadata": {},
   "outputs": [
    {
     "name": "stdout",
     "output_type": "stream",
     "text": [
      "18 2\n"
     ]
    }
   ],
   "source": [
    "for e,c in zip(unique_elements,counts_elements):\n",
    "    if c >1 :\n",
    "        print(e,c)"
   ]
  },
  {
   "cell_type": "code",
   "execution_count": 19,
   "metadata": {
    "scrolled": true
   },
   "outputs": [
    {
     "data": {
      "text/plain": [
       "(array([18, 26]),)"
      ]
     },
     "execution_count": 19,
     "metadata": {},
     "output_type": "execute_result"
    }
   ],
   "source": [
    "np.where(y_pred==18)"
   ]
  },
  {
   "cell_type": "code",
   "execution_count": 32,
   "metadata": {},
   "outputs": [
    {
     "name": "stdout",
     "output_type": "stream",
     "text": [
      "2 2\n",
      "18 2\n"
     ]
    }
   ],
   "source": [
    "kmeans = KMeans(n_clusters=68, random_state=0).fit(train_X_sub.T)\n",
    "y_pred = kmeans.fit_predict(train_X_sub.T)\n",
    "unique_elements, counts_elements = np.unique(y_pred, return_counts=True)\n",
    "for e,c in zip(unique_elements,counts_elements):\n",
    "    if c >1 :\n",
    "        print(e,c)"
   ]
  },
  {
   "cell_type": "code",
   "execution_count": 34,
   "metadata": {},
   "outputs": [
    {
     "data": {
      "text/plain": [
       "(array([17, 28]),)"
      ]
     },
     "execution_count": 34,
     "metadata": {},
     "output_type": "execute_result"
    }
   ],
   "source": [
    "np.where(y_pred==2)"
   ]
  },
  {
   "cell_type": "code",
   "execution_count": 35,
   "metadata": {
    "scrolled": true
   },
   "outputs": [
    {
     "data": {
      "text/plain": [
       "(array([18, 26]),)"
      ]
     },
     "execution_count": 35,
     "metadata": {},
     "output_type": "execute_result"
    }
   ],
   "source": [
    "np.where(y_pred==18)"
   ]
  },
  {
   "cell_type": "markdown",
   "metadata": {},
   "source": [
    "### Feature construction"
   ]
  },
  {
   "cell_type": "code",
   "execution_count": 20,
   "metadata": {},
   "outputs": [],
   "source": [
    "TCRs = df.columns.values"
   ]
  },
  {
   "cell_type": "code",
   "execution_count": 21,
   "metadata": {},
   "outputs": [],
   "source": [
    "df['18_26'] = df[TCRs[18]]+df[TCRs[26]]\n",
    "df_test['18_26'] = df_test[TCRs[18]]+df_test[TCRs[26]]"
   ]
  },
  {
   "cell_type": "code",
   "execution_count": 41,
   "metadata": {},
   "outputs": [],
   "source": [
    "df['17_28'] = df[TCRs[17]]+df[TCRs[28]]\n",
    "df_test['17_28'] = df_test[TCRs[17]]+df_test[TCRs[28]]"
   ]
  },
  {
   "cell_type": "code",
   "execution_count": 58,
   "metadata": {},
   "outputs": [],
   "source": [
    "df.drop(['18_26'],axis=1,inplace=True)\n",
    "df_test.drop(['18_26'],axis=1,inplace=True)"
   ]
  },
  {
   "cell_type": "code",
   "execution_count": 59,
   "metadata": {
    "scrolled": true
   },
   "outputs": [
    {
     "name": "stdout",
     "output_type": "stream",
     "text": [
      "LogisticRegression(C=1.0, class_weight=None, dual=False, fit_intercept=True,\n",
      "          intercept_scaling=0.5, max_iter=100, multi_class='ovr', n_jobs=1,\n",
      "          penalty='l1', random_state=0, solver='liblinear', tol=0.0001,\n",
      "          verbose=0, warm_start=False)\n",
      "\n",
      "Cross validation:\n",
      "accuracy score 0.8891277472527473\n",
      "AUROC 0.9445980921104074\n",
      "________________________________________________________________________________\n",
      "Training set:\n",
      "accuracy score 0.9297971918876755\n",
      "AUROC 0.9661892497640767\n",
      "log-loss: 0.2313099088455185\n",
      "________________________________________________________________________________\n",
      "Testing set;\n",
      "accuracy score: 0.8916666666666667\n",
      "AUROC 0.9136118215402101\n",
      "log-loss: 0.3729052318933802\n",
      "classification_report\n",
      "             precision    recall  f1-score   support\n",
      "\n",
      "          0       0.87      0.96      0.91        69\n",
      "          1       0.93      0.80      0.86        51\n",
      "\n",
      "avg / total       0.90      0.89      0.89       120\n",
      "\n",
      "Confusion matrix:\n",
      "      CMV-  CMV+\n",
      "CMV-    66     3\n",
      "CMV+    10    41\n",
      "********************************************************************************\n"
     ]
    }
   ],
   "source": [
    "lr = LogisticRegression(random_state=0,penalty='l1',intercept_scaling=0.5)\n",
    "estimator_result(lr,df.values,train_y,df_test.values,test_y)"
   ]
  },
  {
   "cell_type": "code",
   "execution_count": 60,
   "metadata": {
    "scrolled": true
   },
   "outputs": [
    {
     "name": "stdout",
     "output_type": "stream",
     "text": [
      "LogisticRegression(C=1.0, class_weight=None, dual=False, fit_intercept=True,\n",
      "          intercept_scaling=0.5, max_iter=100, multi_class='ovr', n_jobs=1,\n",
      "          penalty='l2', random_state=0, solver='liblinear', tol=0.0001,\n",
      "          verbose=0, warm_start=False)\n",
      "\n",
      "Cross validation:\n",
      "accuracy score 0.900090048840049\n",
      "AUROC 0.9529681757760574\n",
      "________________________________________________________________________________\n",
      "Training set:\n",
      "accuracy score 0.9297971918876755\n",
      "AUROC 0.9666070305127399\n",
      "log-loss: 0.24513092352395663\n",
      "________________________________________________________________________________\n",
      "Testing set;\n",
      "accuracy score: 0.8916666666666667\n",
      "AUROC 0.9241261722080136\n",
      "log-loss: 0.3560160187941102\n",
      "classification_report\n",
      "             precision    recall  f1-score   support\n",
      "\n",
      "          0       0.87      0.96      0.91        69\n",
      "          1       0.93      0.80      0.86        51\n",
      "\n",
      "avg / total       0.90      0.89      0.89       120\n",
      "\n",
      "Confusion matrix:\n",
      "      CMV-  CMV+\n",
      "CMV-    66     3\n",
      "CMV+    10    41\n",
      "********************************************************************************\n",
      "\n",
      "LogisticRegression(C=1.0, class_weight=None, dual=False, fit_intercept=True,\n",
      "          intercept_scaling=0.5, max_iter=100, multi_class='ovr', n_jobs=1,\n",
      "          penalty='l2', random_state=0, solver='liblinear', tol=0.0001,\n",
      "          verbose=0, warm_start=False)\n",
      "\n",
      "Cross validation:\n",
      "accuracy score 0.8969890873015874\n",
      "AUROC 0.9500547345374931\n",
      "________________________________________________________________________________\n",
      "Training set:\n",
      "accuracy score 0.9297971918876755\n",
      "AUROC 0.9659385813148789\n",
      "log-loss: 0.24744689787741425\n",
      "________________________________________________________________________________\n",
      "Testing set;\n",
      "accuracy score: 0.9\n",
      "AUROC 0.9246945154873544\n",
      "log-loss: 0.358531624174321\n",
      "classification_report\n",
      "             precision    recall  f1-score   support\n",
      "\n",
      "          0       0.88      0.96      0.92        69\n",
      "          1       0.93      0.82      0.87        51\n",
      "\n",
      "avg / total       0.90      0.90      0.90       120\n",
      "\n",
      "Confusion matrix:\n",
      "      CMV-  CMV+\n",
      "CMV-    66     3\n",
      "CMV+     9    42\n",
      "********************************************************************************\n"
     ]
    }
   ],
   "source": [
    "lr2 = LogisticRegression(random_state=0,intercept_scaling=0.5)\n",
    "estimator_result(lr2,df.values,train_y,df_test.values,test_y)\n",
    "print()\n",
    "estimator_result(lr2,train_X_sub,train_y,test_X_sub,test_y)"
   ]
  }
 ],
 "metadata": {
  "kernelspec": {
   "display_name": "anaconda3/5.1.0-gpu",
   "language": "python",
   "name": "anaconda3_5.1.0-gpu"
  },
  "language_info": {
   "codemirror_mode": {
    "name": "ipython",
    "version": 3
   },
   "file_extension": ".py",
   "mimetype": "text/x-python",
   "name": "python",
   "nbconvert_exporter": "python",
   "pygments_lexer": "ipython3",
   "version": "3.6.4"
  }
 },
 "nbformat": 4,
 "nbformat_minor": 2
}
