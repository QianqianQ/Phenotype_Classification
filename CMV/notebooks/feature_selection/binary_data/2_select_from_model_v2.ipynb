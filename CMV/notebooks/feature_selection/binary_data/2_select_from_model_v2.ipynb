{
 "cells": [
  {
   "cell_type": "code",
   "execution_count": 7,
   "metadata": {},
   "outputs": [],
   "source": [
    "import matplotlib\n",
    "matplotlib.use('Agg')\n",
    "\n",
    "# Handle table-like data and matrices\n",
    "import numpy as np\n",
    "import pandas as pd\n",
    "\n",
    "# Helpers\n",
    "import sys\n",
    "sys.path.insert(0,'../../')\n",
    "from utils import data_path,results_path,grid_search,estimator_result,cross_validate,evaluate_param\n",
    "from scipy.sparse import csr_matrix,save_npz,load_npz\n",
    "from sklearn.model_selection import cross_val_score,LeaveOneOut,StratifiedKFold\n",
    "from sklearn.metrics import accuracy_score,roc_auc_score,roc_curve\n",
    "from sklearn.metrics import make_scorer\n",
    "from sklearn.model_selection import GridSearchCV\n",
    "from sklearn.metrics import classification_report\n",
    "import pickle\n",
    "\n",
    "# Feature selection\n",
    "from sklearn.feature_selection import SelectFromModel\n",
    "from sklearn.feature_selection import RFECV,VarianceThreshold\n",
    "\n",
    "# Algorithm\n",
    "from sklearn.linear_model import LogisticRegression,LogisticRegressionCV\n",
    "from sklearn.svm import LinearSVC,SVC\n",
    "from sklearn.ensemble import RandomForestClassifier\n",
    "\n",
    "# Visualisation\n",
    "import matplotlib.pyplot as plt\n",
    "import seaborn as sns\n",
    "%matplotlib inline\n",
    "\n",
    "# Ignore warnings\n",
    "import warnings\n",
    "warnings.filterwarnings('ignore')"
   ]
  },
  {
   "cell_type": "markdown",
   "metadata": {},
   "source": [
    "## Load data"
   ]
  },
  {
   "cell_type": "code",
   "execution_count": 2,
   "metadata": {},
   "outputs": [],
   "source": [
    "train_X = load_npz(data_path + 'version_1/'+ 'train_bin.npz')\n",
    "test_X = load_npz(data_path + 'version_1/'+ 'test_bin.npz')\n",
    "\n",
    "train_y = pd.read_csv(data_path + 'train_Y.csv')['CMV_status']\n",
    "test_y = pd.read_csv(data_path + 'test_Y.csv')['CMV_status']\n",
    "\n",
    "with open(data_path + 'sorted_TCRs_ind.pkl', 'rb') as f:\n",
    "    TCRs_ind = pickle.load(f)\n",
    "    \n",
    "p = 1000\n",
    "ind = TCRs_ind[:p]\n",
    "train_X_sub = train_X[:,ind].toarray()\n",
    "test_X_sub = test_X[:,ind].toarray()"
   ]
  },
  {
   "cell_type": "markdown",
   "metadata": {},
   "source": [
    "## Feature selection using SelectFromModel"
   ]
  },
  {
   "cell_type": "markdown",
   "metadata": {},
   "source": [
    "### L1-based"
   ]
  },
  {
   "cell_type": "code",
   "execution_count": 17,
   "metadata": {},
   "outputs": [
    {
     "name": "stdout",
     "output_type": "stream",
     "text": [
      "277 236\n"
     ]
    }
   ],
   "source": [
    "# Logistic Regression\n",
    "lr = LogisticRegressionCV([0.001,0.01,0.1,1,10,100],penalty='l1',solver='liblinear',random_state=0,refit=True).fit(train_X_sub,train_y)\n",
    "\n",
    "# Linear SVC\n",
    "lsvc = LinearSVC(penalty=\"l1\", dual=False,random_state=0).fit(train_X_sub, train_y)\n",
    "\n",
    "lr_coef_ind = np.argsort(np.abs(lr.coef_.flatten()))[::-1]\n",
    "lsvc_coef_ind = np.argsort(np.abs(lsvc.coef_.flatten()))[::-1]\n",
    "\n",
    "print(len(np.nonzero(lr.coef_.flatten())[0]),len(np.nonzero(lsvc.coef_.flatten())[0]))"
   ]
  },
  {
   "cell_type": "code",
   "execution_count": 18,
   "metadata": {},
   "outputs": [
    {
     "data": {
      "text/plain": [
       "(641, 277)"
      ]
     },
     "execution_count": 18,
     "metadata": {},
     "output_type": "execute_result"
    }
   ],
   "source": [
    "# Select from LR\n",
    "model = SelectFromModel(lr,prefit=True)\n",
    "train_new = model.transform(train_X_sub)\n",
    "test_new = model.transform(test_X_sub)\n",
    "train_new.shape"
   ]
  },
  {
   "cell_type": "code",
   "execution_count": 19,
   "metadata": {},
   "outputs": [
    {
     "name": "stdout",
     "output_type": "stream",
     "text": [
      "acc: 0.7416666666666667\n",
      "auroc: 0.7911338448422848\n"
     ]
    }
   ],
   "source": [
    "lr2 = LogisticRegression(random_state=0)\n",
    "lr2.fit(train_new,train_y)\n",
    "print('acc:',accuracy_score(test_y,lr2.predict(test_new)))\n",
    "print('auroc:',roc_auc_score(test_y,lr2.predict_proba(test_new)[:,1]))"
   ]
  },
  {
   "cell_type": "code",
   "execution_count": 20,
   "metadata": {
    "scrolled": true
   },
   "outputs": [
    {
     "data": {
      "text/plain": [
       "(641, 236)"
      ]
     },
     "execution_count": 20,
     "metadata": {},
     "output_type": "execute_result"
    }
   ],
   "source": [
    "# Select from LinearSVC\n",
    "model2 = SelectFromModel(lsvc, prefit=True)\n",
    "train_new2 = model2.transform(train_X_sub)\n",
    "test_new2 = model2.transform(test_X_sub)\n",
    "train_new2.shape"
   ]
  },
  {
   "cell_type": "code",
   "execution_count": 21,
   "metadata": {},
   "outputs": [
    {
     "name": "stdout",
     "output_type": "stream",
     "text": [
      "acc: 0.6916666666666667\n",
      "auroc: 0.7675475987496448\n"
     ]
    }
   ],
   "source": [
    "svc = SVC(kernel='linear',probability=True,random_state=0).fit(train_new2, train_y)\n",
    "svc.fit(train_new2,train_y)\n",
    "print('acc:',accuracy_score(test_y,svc.predict(test_new2)))\n",
    "print('auroc:',roc_auc_score(test_y,svc.predict_proba(test_new2)[:,1]))"
   ]
  },
  {
   "cell_type": "code",
   "execution_count": 22,
   "metadata": {},
   "outputs": [],
   "source": [
    "# Get indices of selected features\n",
    "ind = model.get_support(indices=True)\n",
    "ind2 = model2.get_support(indices=True)"
   ]
  },
  {
   "cell_type": "code",
   "execution_count": 40,
   "metadata": {},
   "outputs": [],
   "source": [
    "with open(data_path + 'feature_selection/'+'bin/'+'lr', 'wb') as f:\n",
    "    pickle.dump(ind, f, pickle.HIGHEST_PROTOCOL)\n",
    "with open(data_path + 'feature_selection/'+'bin/'+'lsvc', 'wb') as f:\n",
    "    pickle.dump(ind2, f, pickle.HIGHEST_PROTOCOL)"
   ]
  },
  {
   "cell_type": "markdown",
   "metadata": {},
   "source": [
    "### Tree-based"
   ]
  },
  {
   "cell_type": "markdown",
   "metadata": {},
   "source": [
    "### RandomForest"
   ]
  },
  {
   "cell_type": "code",
   "execution_count": 25,
   "metadata": {
    "scrolled": true
   },
   "outputs": [],
   "source": [
    "rf = RandomForestClassifier(n_estimators=100,random_state=0)\n",
    "rf.fit(train_X_sub,train_y)\n",
    "rf_im = np.argsort(rf.feature_importances_)[::-1]"
   ]
  },
  {
   "cell_type": "code",
   "execution_count": 29,
   "metadata": {},
   "outputs": [
    {
     "data": {
      "image/png": "[encoded data removed]",
      "text/plain": [
       "<matplotlib.figure.Figure at 0x2af7b7e832b0>"
      ]
     },
     "metadata": {},
     "output_type": "display_data"
    }
   ],
   "source": [
    "# Plot the feature importances\n",
    "imp_feat_rf = pd.Series(rf.feature_importances_).sort_values(ascending=False)\n",
    "imp_feat_rf[:300].plot(kind='bar', title='Feature Importance with Random Forest', figsize=(16,12))\n",
    "plt.ylabel('Feature Importance values')\n",
    "plt.subplots_adjust(bottom=0.25)\n",
    "# plt.savefig('FeatImportance.png')\n",
    "plt.show()"
   ]
  },
  {
   "cell_type": "code",
   "execution_count": 42,
   "metadata": {},
   "outputs": [
    {
     "name": "stdout",
     "output_type": "stream",
     "text": [
      "(641, 304)\n"
     ]
    }
   ],
   "source": [
    "model3 = SelectFromModel(rf,prefit=True,threshold=1e-3)\n",
    "train_new3 = model3.transform(train_X_sub)\n",
    "test_new3 = model3.transform(test_X_sub)\n",
    "print(train_new4.shape)"
   ]
  },
  {
   "cell_type": "code",
   "execution_count": 49,
   "metadata": {
    "scrolled": true
   },
   "outputs": [
    {
     "name": "stdout",
     "output_type": "stream",
     "text": [
      "acc: 0.825\n",
      "auroc: 0.8836317135549873\n"
     ]
    }
   ],
   "source": [
    "rf2 = RandomForestClassifier(n_estimators=100,random_state=0)\n",
    "rf2.fit(train_new3,train_y)\n",
    "print('acc:',accuracy_score(test_y,rf2.predict(test_new3)))\n",
    "print('auroc:',roc_auc_score(test_y,rf2.predict_proba(test_new3)[:,1]))"
   ]
  },
  {
   "cell_type": "code",
   "execution_count": 44,
   "metadata": {},
   "outputs": [],
   "source": [
    "ind3 = model3.get_support(indices=True)"
   ]
  },
  {
   "cell_type": "code",
   "execution_count": 46,
   "metadata": {},
   "outputs": [],
   "source": [
    "with open(data_path + 'feature_selection/'+'bin/'+'rf', 'wb') as f:\n",
    "    pickle.dump(ind4, f, pickle.HIGHEST_PROTOCOL)"
   ]
  },
  {
   "cell_type": "markdown",
   "metadata": {},
   "source": [
    "### Intersection"
   ]
  },
  {
   "cell_type": "code",
   "execution_count": 56,
   "metadata": {
    "scrolled": true
   },
   "outputs": [
    {
     "name": "stdout",
     "output_type": "stream",
     "text": [
      "217 165 141 136\n"
     ]
    }
   ],
   "source": [
    "inter = list(set(ind).intersection(ind2))\n",
    "inter2 = list(set(ind).intersection(ind3))\n",
    "inter3 = list(set(ind2).intersection(ind3))\n",
    "\n",
    "inter_all = list(set(ind).intersection(ind2).intersection(ind3))\n",
    "print(len(inter),len(inter2),len(inter3),len(inter_all))"
   ]
  },
  {
   "cell_type": "markdown",
   "metadata": {},
   "source": [
    "## Test Performance"
   ]
  },
  {
   "cell_type": "code",
   "execution_count": 58,
   "metadata": {},
   "outputs": [],
   "source": [
    "inds = {'lr':ind,'lsvc':ind2,'rf':ind3,'inter_lr_lsvc':inter,'inter_lr_rf':inter2,'inter_lsvc_rf':inter3,\n",
    "       'inter_all':inter_all}"
   ]
  },
  {
   "cell_type": "code",
   "execution_count": 67,
   "metadata": {},
   "outputs": [],
   "source": [
    "def test_sub_features(clf,dict_inds):\n",
    "    for name in dict_inds:\n",
    "        print('Features selected by {}'.format(name))\n",
    "        print('Len: ',len(dict_inds[name]))\n",
    "        ind = dict_inds[name]\n",
    "        clf.fit(train_X_sub[:,ind],train_y)\n",
    "        print('acc:',accuracy_score(test_y,clf.predict(test_X_sub[:,ind])))\n",
    "        print('auroc:',roc_auc_score(test_y,clf.predict_proba(test_X_sub[:,ind])[:,1]))\n",
    "        print()"
   ]
  },
  {
   "cell_type": "code",
   "execution_count": 68,
   "metadata": {
    "scrolled": true
   },
   "outputs": [
    {
     "name": "stdout",
     "output_type": "stream",
     "text": [
      "Features selected by lr\n",
      "Len:  277\n",
      "acc: 0.7416666666666667\n",
      "auroc: 0.7911338448422848\n",
      "\n",
      "Features selected by lsvc\n",
      "Len:  236\n",
      "acc: 0.75\n",
      "auroc: 0.7971014492753623\n",
      "\n",
      "Features selected by rf\n",
      "Len:  304\n",
      "acc: 0.7583333333333333\n",
      "auroc: 0.8300653594771241\n",
      "\n",
      "Features selected by inter_lr_lsvc\n",
      "Len:  217\n",
      "acc: 0.725\n",
      "auroc: 0.7934072179596476\n",
      "\n",
      "Features selected by inter_lr_rf\n",
      "Len:  165\n",
      "acc: 0.75\n",
      "auroc: 0.8098891730605285\n",
      "\n",
      "Features selected by inter_lsvc_rf\n",
      "Len:  141\n",
      "acc: 0.7333333333333333\n",
      "auroc: 0.8036373969877806\n",
      "\n",
      "Features selected by inter_all\n",
      "Len:  136\n",
      "acc: 0.7583333333333333\n",
      "auroc: 0.7990906507530549\n",
      "\n"
     ]
    }
   ],
   "source": [
    "test_sub_features(lr2,inds)"
   ]
  },
  {
   "cell_type": "code",
   "execution_count": 70,
   "metadata": {},
   "outputs": [
    {
     "name": "stdout",
     "output_type": "stream",
     "text": [
      "Features selected by lr\n",
      "Len:  277\n",
      "acc: 0.75\n",
      "auroc: 0.8277919863597613\n",
      "\n",
      "Features selected by lsvc\n",
      "Len:  236\n",
      "acc: 0.725\n",
      "auroc: 0.8110258596192099\n",
      "\n",
      "Features selected by rf\n",
      "Len:  304\n",
      "acc: 0.825\n",
      "auroc: 0.8836317135549873\n",
      "\n",
      "Features selected by inter_lr_lsvc\n",
      "Len:  217\n",
      "acc: 0.7166666666666667\n",
      "auroc: 0.807899971582836\n",
      "\n",
      "Features selected by inter_lr_rf\n",
      "Len:  165\n",
      "acc: 0.7666666666666667\n",
      "auroc: 0.8319124751349817\n",
      "\n",
      "Features selected by inter_lsvc_rf\n",
      "Len:  141\n",
      "acc: 0.7583333333333333\n",
      "auroc: 0.8131571469167378\n",
      "\n",
      "Features selected by inter_all\n",
      "Len:  136\n",
      "acc: 0.7583333333333333\n",
      "auroc: 0.8208297811878376\n",
      "\n"
     ]
    }
   ],
   "source": [
    "test_sub_features(rf,inds)"
   ]
  }
 ],
 "metadata": {
  "kernelspec": {
   "display_name": "anaconda3/5.1.0-gpu",
   "language": "python",
   "name": "anaconda3_5.1.0-gpu"
  },
  "language_info": {
   "codemirror_mode": {
    "name": "ipython",
    "version": 3
   },
   "file_extension": ".py",
   "mimetype": "text/x-python",
   "name": "python",
   "nbconvert_exporter": "python",
   "pygments_lexer": "ipython3",
   "version": "3.6.4"
  },
  "varInspector": {
   "cols": {
    "lenName": 16,
    "lenType": 16,
    "lenVar": 40
   },
   "kernels_config": {
    "python": {
     "delete_cmd_postfix": "",
     "delete_cmd_prefix": "del ",
     "library": "var_list.py",
     "varRefreshCmd": "print(var_dic_list())"
    },
    "r": {
     "delete_cmd_postfix": ") ",
     "delete_cmd_prefix": "rm(",
     "library": "var_list.r",
     "varRefreshCmd": "cat(var_dic_list()) "
    }
   },
   "types_to_exclude": [
    "module",
    "function",
    "builtin_function_or_method",
    "instance",
    "_Feature"
   ],
   "window_display": false
  }
 },
 "nbformat": 4,
 "nbformat_minor": 2
}
