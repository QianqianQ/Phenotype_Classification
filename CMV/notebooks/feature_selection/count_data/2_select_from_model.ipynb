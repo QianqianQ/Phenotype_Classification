{
 "cells": [
  {
   "cell_type": "code",
   "execution_count": 1,
   "metadata": {},
   "outputs": [],
   "source": [
    "import matplotlib\n",
    "matplotlib.use('Agg')\n",
    "\n",
    "# Handle table-like data and matrices\n",
    "import numpy as np\n",
    "import pandas as pd\n",
    "\n",
    "# Helpers\n",
    "import sys\n",
    "sys.path.insert(0,'../../')\n",
    "from utils import data_path,results_path,grid_search,estimator_result,cross_validate,evaluate_param\n",
    "from scipy.sparse import csr_matrix,save_npz,load_npz\n",
    "from sklearn.model_selection import cross_val_score,LeaveOneOut,StratifiedKFold\n",
    "from sklearn.metrics import accuracy_score,roc_auc_score,roc_curve\n",
    "from sklearn.metrics import make_scorer\n",
    "from sklearn.model_selection import GridSearchCV\n",
    "from sklearn.metrics import classification_report\n",
    "import pickle\n",
    "\n",
    "# Feature selection\n",
    "from sklearn.feature_selection import SelectFromModel\n",
    "from sklearn.feature_selection import RFECV,VarianceThreshold\n",
    "\n",
    "# Algorithm\n",
    "from sklearn.linear_model import LogisticRegression,LogisticRegressionCV\n",
    "from sklearn.svm import LinearSVC\n",
    "from sklearn.ensemble import RandomForestClassifier\n",
    "\n",
    "# Visualisation\n",
    "import matplotlib.pyplot as plt\n",
    "import seaborn as sns\n",
    "%matplotlib inline\n",
    "\n",
    "# Ignore warnings\n",
    "import warnings\n",
    "warnings.filterwarnings('ignore')"
   ]
  },
  {
   "cell_type": "markdown",
   "metadata": {},
   "source": [
    "## Load data"
   ]
  },
  {
   "cell_type": "code",
   "execution_count": 2,
   "metadata": {},
   "outputs": [],
   "source": [
    "train_X = load_npz(data_path + 'version_1/'+ 'train_freq.npz')\n",
    "test_X = load_npz(data_path + 'version_1/'+ 'test_freq.npz')\n",
    "\n",
    "train_y = pd.read_csv(data_path + 'train_Y.csv')['CMV_status']\n",
    "test_y = pd.read_csv(data_path + 'test_Y.csv')['CMV_status']"
   ]
  },
  {
   "cell_type": "markdown",
   "metadata": {},
   "source": [
    "## Feature selection using SelectFromModel"
   ]
  },
  {
   "cell_type": "markdown",
   "metadata": {},
   "source": [
    "### L1-based"
   ]
  },
  {
   "cell_type": "code",
   "execution_count": 3,
   "metadata": {
    "scrolled": true
   },
   "outputs": [],
   "source": [
    "# Logistic Regression\n",
    "lr = LogisticRegressionCV([0.001,0.01,0.1,1,10,100],penalty='l1',solver='liblinear',random_state=0).fit(train_X,train_y)\n",
    "# Linear SVC\n",
    "lsvc = LinearSVC(C=10, penalty=\"l1\", dual=False,random_state=0).fit(train_X, train_y)\n",
    "\n",
    "lr_coef = np.argsort(lr.coef_.flatten())[::-1]\n",
    "lsvc_coef = np.argsort(lsvc.coef_.flatten())[::-1]"
   ]
  },
  {
   "cell_type": "code",
   "execution_count": 4,
   "metadata": {
    "scrolled": true
   },
   "outputs": [
    {
     "data": {
      "text/plain": [
       "(641, 283)"
      ]
     },
     "execution_count": 4,
     "metadata": {},
     "output_type": "execute_result"
    }
   ],
   "source": [
    "# Select from LR\n",
    "model = SelectFromModel(lr,prefit=True,threshold='7000*mean')\n",
    "train_new = model.transform(train_X)\n",
    "test_new = model.transform(test_X)\n",
    "train_new.shape"
   ]
  },
  {
   "cell_type": "code",
   "execution_count": 5,
   "metadata": {},
   "outputs": [
    {
     "data": {
      "text/plain": [
       "0.7833333333333333"
      ]
     },
     "execution_count": 5,
     "metadata": {},
     "output_type": "execute_result"
    }
   ],
   "source": [
    "lr2 = LogisticRegression(random_state=0,C=0.1)\n",
    "lr2.fit(train_new,train_y)\n",
    "accuracy_score(test_y,lr2.predict(test_new))"
   ]
  },
  {
   "cell_type": "code",
   "execution_count": 6,
   "metadata": {},
   "outputs": [
    {
     "data": {
      "text/plain": [
       "(641, 184)"
      ]
     },
     "execution_count": 6,
     "metadata": {},
     "output_type": "execute_result"
    }
   ],
   "source": [
    "# Select from LinearSVC\n",
    "model2 = SelectFromModel(lsvc, prefit=True,threshold='20000*mean')\n",
    "train_new2 = model2.transform(train_X)\n",
    "test_new2 = model2.transform(test_X)\n",
    "train_new2.shape"
   ]
  },
  {
   "cell_type": "code",
   "execution_count": 7,
   "metadata": {},
   "outputs": [
    {
     "data": {
      "text/plain": [
       "0.7416666666666667"
      ]
     },
     "execution_count": 7,
     "metadata": {},
     "output_type": "execute_result"
    }
   ],
   "source": [
    "lsvc2 = LinearSVC(C=10, penalty=\"l1\", dual=False,random_state=0).fit(train_new2, train_y)\n",
    "lsvc2.fit(train_new2,train_y)\n",
    "accuracy_score(test_y,lsvc2.predict(test_new2))"
   ]
  },
  {
   "cell_type": "code",
   "execution_count": 8,
   "metadata": {},
   "outputs": [],
   "source": [
    "# Get indices of selected features\n",
    "ind = model.get_support(indices=True)\n",
    "ind2 = model2.get_support(indices=True)"
   ]
  },
  {
   "cell_type": "code",
   "execution_count": 9,
   "metadata": {},
   "outputs": [],
   "source": [
    "with open(data_path + 'feature_selection/'+'freq/'+'lr', 'wb') as f:\n",
    "    pickle.dump(ind, f, pickle.HIGHEST_PROTOCOL)\n",
    "with open(data_path + 'feature_selection/'+'freq/'+'lsvc', 'wb') as f:\n",
    "    pickle.dump(ind2, f, pickle.HIGHEST_PROTOCOL)\n",
    "with open(data_path + 'feature_selection/'+'freq/'+'lr_coef', 'wb') as f:\n",
    "    pickle.dump(lr_coef, f, pickle.HIGHEST_PROTOCOL)\n",
    "with open(data_path + 'feature_selection/'+'freq/'+'lsvc_coef', 'wb') as f:\n",
    "    pickle.dump(lsvc_coef, f, pickle.HIGHEST_PROTOCOL)"
   ]
  },
  {
   "cell_type": "markdown",
   "metadata": {},
   "source": [
    "### Tree-based"
   ]
  },
  {
   "cell_type": "markdown",
   "metadata": {},
   "source": [
    "### ExtraTrees"
   ]
  },
  {
   "cell_type": "code",
   "execution_count": 10,
   "metadata": {
    "scrolled": true
   },
   "outputs": [],
   "source": [
    "from sklearn.ensemble import ExtraTreesClassifier\n",
    "et = ExtraTreesClassifier(n_estimators=200,random_state=0)\n",
    "et.fit(train_X,train_y)\n",
    "et_im = np.argsort(et.feature_importances_)[::-1]"
   ]
  },
  {
   "cell_type": "code",
   "execution_count": 11,
   "metadata": {},
   "outputs": [
    {
     "name": "stdout",
     "output_type": "stream",
     "text": [
      "(641, 111)\n"
     ]
    }
   ],
   "source": [
    "model3 = SelectFromModel(et,prefit=True,threshold='2000*mean')\n",
    "train_new3 = model3.transform(train_X)\n",
    "test_new3 = model3.transform(test_X)\n",
    "print(train_new3.shape)"
   ]
  },
  {
   "cell_type": "code",
   "execution_count": 12,
   "metadata": {
    "scrolled": true
   },
   "outputs": [
    {
     "data": {
      "text/plain": [
       "0.625"
      ]
     },
     "execution_count": 12,
     "metadata": {},
     "output_type": "execute_result"
    }
   ],
   "source": [
    "et2 = ExtraTreesClassifier(n_estimators=200,random_state=0)\n",
    "et2.fit(train_new3,train_y)\n",
    "accuracy_score(test_y,et2.predict(test_new3))"
   ]
  },
  {
   "cell_type": "code",
   "execution_count": 13,
   "metadata": {},
   "outputs": [],
   "source": [
    "ind3 = model3.get_support(indices=True)"
   ]
  },
  {
   "cell_type": "code",
   "execution_count": 14,
   "metadata": {},
   "outputs": [],
   "source": [
    "with open(data_path + 'feature_selection/'+'freq/'+'et', 'wb') as f:\n",
    "    pickle.dump(ind3, f, pickle.HIGHEST_PROTOCOL)\n",
    "    \n",
    "with open(data_path + 'feature_selection/'+'freq/'+'et_im', 'wb') as f:\n",
    "    pickle.dump(et_im, f, pickle.HIGHEST_PROTOCOL)"
   ]
  },
  {
   "cell_type": "markdown",
   "metadata": {},
   "source": [
    "### RandomForest"
   ]
  },
  {
   "cell_type": "code",
   "execution_count": 15,
   "metadata": {
    "scrolled": true
   },
   "outputs": [],
   "source": [
    "rf = RandomForestClassifier(n_estimators=250,random_state=0)\n",
    "rf.fit(train_X,train_y)\n",
    "rf_im = np.argsort(rf.feature_importances_)[::-1]"
   ]
  },
  {
   "cell_type": "code",
   "execution_count": 16,
   "metadata": {},
   "outputs": [
    {
     "name": "stdout",
     "output_type": "stream",
     "text": [
      "(641, 85)\n"
     ]
    }
   ],
   "source": [
    "model4 = SelectFromModel(rf,prefit=True,threshold='2000*mean')\n",
    "train_new4 = model4.transform(train_X)\n",
    "test_new4 = model4.transform(test_X)\n",
    "print(train_new4.shape)"
   ]
  },
  {
   "cell_type": "code",
   "execution_count": 17,
   "metadata": {},
   "outputs": [
    {
     "data": {
      "text/plain": [
       "0.75"
      ]
     },
     "execution_count": 17,
     "metadata": {},
     "output_type": "execute_result"
    }
   ],
   "source": [
    "rf2 = RandomForestClassifier(n_estimators=250,random_state=0)\n",
    "rf2.fit(train_new4,train_y)\n",
    "accuracy_score(test_y,rf2.predict(test_new4))"
   ]
  },
  {
   "cell_type": "code",
   "execution_count": 18,
   "metadata": {},
   "outputs": [],
   "source": [
    "ind4 = model4.get_support(indices=True)"
   ]
  },
  {
   "cell_type": "code",
   "execution_count": 19,
   "metadata": {},
   "outputs": [],
   "source": [
    "with open(data_path + 'feature_selection/'+'freq/'+'rf', 'wb') as f:\n",
    "    pickle.dump(ind4, f, pickle.HIGHEST_PROTOCOL)\n",
    "\n",
    "with open(data_path + 'feature_selection/'+'freq/'+'rf_im', 'wb') as f:\n",
    "    pickle.dump(rf_im, f, pickle.HIGHEST_PROTOCOL)"
   ]
  },
  {
   "cell_type": "markdown",
   "metadata": {},
   "source": [
    "### Intersection"
   ]
  },
  {
   "cell_type": "code",
   "execution_count": 20,
   "metadata": {
    "scrolled": true
   },
   "outputs": [],
   "source": [
    "inter = list(set(ind).intersection(ind2))\n",
    "inter2 = list(set(ind).intersection(ind3))\n",
    "inter3 = list(set(ind).intersection(ind4))\n",
    "inter4 = list(set(ind2).intersection(ind3))\n",
    "inter5 = list(set(ind2).intersection(ind4))\n",
    "inter6 = list(set(ind3).intersection(ind4))"
   ]
  },
  {
   "cell_type": "markdown",
   "metadata": {},
   "source": [
    "## Test Performance"
   ]
  },
  {
   "cell_type": "code",
   "execution_count": 21,
   "metadata": {},
   "outputs": [],
   "source": [
    "inds = {'lr':ind,'lsvc':ind2,'et':ind3,'rf':ind4,'inter_lr_lsvc':inter,'inter_lr_et':inter2,'inter_lr_rf':inter3,\n",
    "       'inter_lsvc_et':inter4,'inter_lsvc_rf':inter5,'inter_et_rf':inter6}"
   ]
  },
  {
   "cell_type": "code",
   "execution_count": 22,
   "metadata": {},
   "outputs": [],
   "source": [
    "def test_sub_features(clf,dict_inds):\n",
    "    for name in dict_inds:\n",
    "        print('Features selected by {}'.format(name))\n",
    "        print('Len: ',len(dict_inds[name]))\n",
    "        ind = dict_inds[name]\n",
    "        clf.fit(train_X[:,ind],train_y)\n",
    "        print(accuracy_score(test_y,clf.predict(test_X[:,ind])))\n",
    "        print(roc_auc_score(test_y,clf.predict_proba(test_X[:,ind])[:,1]))\n",
    "        print()"
   ]
  },
  {
   "cell_type": "code",
   "execution_count": 23,
   "metadata": {
    "scrolled": true
   },
   "outputs": [
    {
     "name": "stdout",
     "output_type": "stream",
     "text": [
      "Features selected by lr\n",
      "Len:  283\n",
      "0.7\n",
      "0.7507814720090935\n",
      "\n",
      "Features selected by lsvc\n",
      "Len:  184\n",
      "0.7333333333333333\n",
      "0.8076157999431656\n",
      "\n",
      "Features selected by et\n",
      "Len:  111\n",
      "0.6333333333333333\n",
      "0.6760443307757886\n",
      "\n",
      "Features selected by rf\n",
      "Len:  85\n",
      "0.725\n",
      "0.7956805910770106\n",
      "\n",
      "Features selected by inter_lr_lsvc\n",
      "Len:  50\n",
      "0.7333333333333333\n",
      "0.7647058823529412\n",
      "\n",
      "Features selected by inter_lr_et\n",
      "Len:  13\n",
      "0.675\n",
      "0.6864165956237569\n",
      "\n",
      "Features selected by inter_lr_rf\n",
      "Len:  19\n",
      "0.7333333333333333\n",
      "0.7450980392156863\n",
      "\n",
      "Features selected by inter_lsvc_et\n",
      "Len:  2\n",
      "0.6083333333333333\n",
      "0.548877522023302\n",
      "\n",
      "Features selected by inter_lsvc_rf\n",
      "Len:  8\n",
      "0.725\n",
      "0.7939755612389884\n",
      "\n",
      "Features selected by inter_et_rf\n",
      "Len:  6\n",
      "0.7083333333333334\n",
      "0.6705029838022165\n",
      "\n"
     ]
    }
   ],
   "source": [
    "test_sub_features(lr,inds)"
   ]
  },
  {
   "cell_type": "code",
   "execution_count": 24,
   "metadata": {
    "scrolled": true
   },
   "outputs": [
    {
     "name": "stdout",
     "output_type": "stream",
     "text": [
      "Features selected by lr\n",
      "Len:  283\n",
      "0.875\n",
      "0.9288150042625746\n",
      "\n",
      "Features selected by lsvc\n",
      "Len:  184\n",
      "0.7833333333333333\n",
      "0.881074168797954\n",
      "\n",
      "Features selected by et\n",
      "Len:  111\n",
      "0.625\n",
      "0.6408070474566638\n",
      "\n",
      "Features selected by rf\n",
      "Len:  85\n",
      "0.7416666666666667\n",
      "0.783461210571185\n",
      "\n",
      "Features selected by inter_lr_lsvc\n",
      "Len:  50\n",
      "0.7583333333333333\n",
      "0.8492469451548735\n",
      "\n",
      "Features selected by inter_lr_et\n",
      "Len:  13\n",
      "0.675\n",
      "0.6872691105427678\n",
      "\n",
      "Features selected by inter_lr_rf\n",
      "Len:  19\n",
      "0.675\n",
      "0.6486217675475988\n",
      "\n",
      "Features selected by inter_lsvc_et\n",
      "Len:  2\n",
      "0.6083333333333333\n",
      "0.548877522023302\n",
      "\n",
      "Features selected by inter_lsvc_rf\n",
      "Len:  8\n",
      "0.6666666666666666\n",
      "0.6764705882352942\n",
      "\n",
      "Features selected by inter_et_rf\n",
      "Len:  6\n",
      "0.7083333333333334\n",
      "0.6686558681443592\n",
      "\n"
     ]
    }
   ],
   "source": [
    "test_sub_features(et,inds)"
   ]
  },
  {
   "cell_type": "code",
   "execution_count": 25,
   "metadata": {
    "scrolled": true
   },
   "outputs": [
    {
     "name": "stdout",
     "output_type": "stream",
     "text": [
      "Features selected by lr\n",
      "Len:  283\n",
      "0.875\n",
      "0.9440181869849389\n",
      "\n",
      "Features selected by lsvc\n",
      "Len:  184\n",
      "0.7833333333333333\n",
      "0.9009661835748792\n",
      "\n",
      "Features selected by et\n",
      "Len:  111\n",
      "0.675\n",
      "0.6761864165956237\n",
      "\n",
      "Features selected by rf\n",
      "Len:  85\n",
      "0.75\n",
      "0.8022165387894289\n",
      "\n",
      "Features selected by inter_lr_lsvc\n",
      "Len:  50\n",
      "0.825\n",
      "0.8653026427962489\n",
      "\n",
      "Features selected by inter_lr_et\n",
      "Len:  13\n",
      "0.675\n",
      "0.6872691105427678\n",
      "\n",
      "Features selected by inter_lr_rf\n",
      "Len:  19\n",
      "0.6833333333333333\n",
      "0.6592782040352372\n",
      "\n",
      "Features selected by inter_lsvc_et\n",
      "Len:  2\n",
      "0.6083333333333333\n",
      "0.548877522023302\n",
      "\n",
      "Features selected by inter_lsvc_rf\n",
      "Len:  8\n",
      "0.6666666666666666\n",
      "0.6868428530832623\n",
      "\n",
      "Features selected by inter_et_rf\n",
      "Len:  6\n",
      "0.7083333333333334\n",
      "0.6678033532253481\n",
      "\n"
     ]
    }
   ],
   "source": [
    "test_sub_features(rf,inds)"
   ]
  }
 ],
 "metadata": {
  "kernelspec": {
   "display_name": "anaconda3/5.1.0-gpu",
   "language": "python",
   "name": "anaconda3_5.1.0-gpu"
  },
  "language_info": {
   "codemirror_mode": {
    "name": "ipython",
    "version": 3
   },
   "file_extension": ".py",
   "mimetype": "text/x-python",
   "name": "python",
   "nbconvert_exporter": "python",
   "pygments_lexer": "ipython3",
   "version": "3.6.4"
  },
  "varInspector": {
   "cols": {
    "lenName": 16,
    "lenType": 16,
    "lenVar": 40
   },
   "kernels_config": {
    "python": {
     "delete_cmd_postfix": "",
     "delete_cmd_prefix": "del ",
     "library": "var_list.py",
     "varRefreshCmd": "print(var_dic_list())"
    },
    "r": {
     "delete_cmd_postfix": ") ",
     "delete_cmd_prefix": "rm(",
     "library": "var_list.r",
     "varRefreshCmd": "cat(var_dic_list()) "
    }
   },
   "types_to_exclude": [
    "module",
    "function",
    "builtin_function_or_method",
    "instance",
    "_Feature"
   ],
   "window_display": false
  }
 },
 "nbformat": 4,
 "nbformat_minor": 2
}
