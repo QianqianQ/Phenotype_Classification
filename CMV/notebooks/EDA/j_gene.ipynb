{
 "cells": [
  {
   "cell_type": "code",
   "execution_count": 1,
   "metadata": {},
   "outputs": [],
   "source": [
    "# Handle table-like data and matrices\n",
    "import numpy as np\n",
    "import pandas as pd\n",
    "\n",
    "# Helpers\n",
    "import sys\n",
    "from datetime import datetime\n",
    "import pickle\n",
    "\n",
    "from sklearn.model_selection import cross_val_score,StratifiedKFold\n",
    "from sklearn.metrics import accuracy_score,roc_auc_score,roc_curve,log_loss\n",
    "from sklearn.metrics import make_scorer\n",
    "from sklearn.model_selection import GridSearchCV,RandomizedSearchCV,cross_validate\n",
    "from sklearn.metrics import classification_report\n",
    "from sklearn.model_selection import LeaveOneOut,KFold,StratifiedKFold\n",
    "from sklearn.decomposition import PCA,KernelPCA\n",
    "import lightgbm as lgb\n",
    "\n",
    "import sys\n",
    "sys.path.insert(0,'../../') \n",
    "from helpers import *\n",
    "from MAP_estimator import MAP_estimator\n",
    "\n",
    "# Algorithm\n",
    "from sklearn.pipeline import Pipeline\n",
    "from sklearn.ensemble import RandomForestClassifier\n",
    "\n",
    "# Visualisation\n",
    "import matplotlib.pyplot as plt\n",
    "import seaborn as sns\n",
    "\n",
    "# Ignore warnings\n",
    "import warnings\n",
    "warnings.filterwarnings('ignore')\n",
    "\n",
    "data_path = '../data/'"
   ]
  },
  {
   "cell_type": "code",
   "execution_count": 2,
   "metadata": {},
   "outputs": [],
   "source": [
    "j_family = pd.read_pickle(data_path+'j_family.pkl')\n",
    "train_y = pd.read_csv(data_path+'train_Y.csv')"
   ]
  },
  {
   "cell_type": "code",
   "execution_count": 4,
   "metadata": {},
   "outputs": [],
   "source": [
    "j_family = pd.merge(train_y,j_family,on='sample_name')"
   ]
  },
  {
   "cell_type": "code",
   "execution_count": 5,
   "metadata": {},
   "outputs": [
    {
     "data": {
      "text/html": [
       "<div>\n",
       "<style scoped>\n",
       "    .dataframe tbody tr th:only-of-type {\n",
       "        vertical-align: middle;\n",
       "    }\n",
       "\n",
       "    .dataframe tbody tr th {\n",
       "        vertical-align: top;\n",
       "    }\n",
       "\n",
       "    .dataframe thead th {\n",
       "        text-align: right;\n",
       "    }\n",
       "</style>\n",
       "<table border=\"1\" class=\"dataframe\">\n",
       "  <thead>\n",
       "    <tr style=\"text-align: right;\">\n",
       "      <th></th>\n",
       "      <th>sample_name</th>\n",
       "      <th>phenotype_status</th>\n",
       "      <th>TCRBJ01</th>\n",
       "      <th>TCRBJ02</th>\n",
       "    </tr>\n",
       "  </thead>\n",
       "  <tbody>\n",
       "    <tr>\n",
       "      <th>0</th>\n",
       "      <td>HIP09097</td>\n",
       "      <td>0</td>\n",
       "      <td>48308</td>\n",
       "      <td>79018</td>\n",
       "    </tr>\n",
       "    <tr>\n",
       "      <th>1</th>\n",
       "      <td>HIP05561</td>\n",
       "      <td>0</td>\n",
       "      <td>70251</td>\n",
       "      <td>87405</td>\n",
       "    </tr>\n",
       "    <tr>\n",
       "      <th>2</th>\n",
       "      <td>HIP13856</td>\n",
       "      <td>1</td>\n",
       "      <td>119381</td>\n",
       "      <td>167131</td>\n",
       "    </tr>\n",
       "    <tr>\n",
       "      <th>3</th>\n",
       "      <td>HIP05398</td>\n",
       "      <td>0</td>\n",
       "      <td>119695</td>\n",
       "      <td>104020</td>\n",
       "    </tr>\n",
       "    <tr>\n",
       "      <th>4</th>\n",
       "      <td>HIP13975</td>\n",
       "      <td>1</td>\n",
       "      <td>128562</td>\n",
       "      <td>167598</td>\n",
       "    </tr>\n",
       "  </tbody>\n",
       "</table>\n",
       "</div>"
      ],
      "text/plain": [
       "  sample_name  phenotype_status  TCRBJ01  TCRBJ02\n",
       "0    HIP09097                 0    48308    79018\n",
       "1    HIP05561                 0    70251    87405\n",
       "2    HIP13856                 1   119381   167131\n",
       "3    HIP05398                 0   119695   104020\n",
       "4    HIP13975                 1   128562   167598"
      ]
     },
     "execution_count": 5,
     "metadata": {},
     "output_type": "execute_result"
    }
   ],
   "source": [
    "j_family.head()"
   ]
  },
  {
   "cell_type": "code",
   "execution_count": 8,
   "metadata": {},
   "outputs": [],
   "source": [
    "jFamilyName = j_family.drop(['sample_name','phenotype_status'],axis=1).columns.values\n",
    "jF = [i.replace('TCRBJ','') for i in jFamilyName]"
   ]
  },
  {
   "cell_type": "code",
   "execution_count": 10,
   "metadata": {},
   "outputs": [],
   "source": [
    "count_l = dict()\n",
    "pos_count = []\n",
    "neg_count = []\n",
    "for j in jFamilyName:\n",
    "    count_l[j] = j_family[j].mean()\n",
    "    neg_count.append(j_family[j_family['phenotype_status']==0][j].mean())\n",
    "    pos_count.append(j_family[j_family['phenotype_status']==1][j].mean())\n",
    "   "
   ]
  },
  {
   "cell_type": "code",
   "execution_count": 13,
   "metadata": {},
   "outputs": [
    {
     "data": {
      "image/png": "[encoded data removed]",
      "text/plain": [
       "<matplotlib.figure.Figure at 0x2ad184b02a90>"
      ]
     },
     "metadata": {},
     "output_type": "display_data"
    }
   ],
   "source": [
    "N = len(jFamilyName)\n",
    "\n",
    "ind = np.arange(N)    # the x locations for the groups\n",
    "width = 0.4    # the width of the bars: can also be len(x) sequence\n",
    "\n",
    "plt.style.use('classic')\n",
    "plt.figure(figsize=(8,6))\n",
    "p1 = plt.bar(ind, neg_count, width,color='b')\n",
    "p2 = plt.bar(ind+width, pos_count, width,color='r')\n",
    "\n",
    "plt.ylabel('frequency')\n",
    "plt.title('Frequency by v_family and phenotype')\n",
    "plt.xticks(ind+width, jF)\n",
    "plt.legend((p1[0], p2[0]), ('phenotype-', 'phenotype+'), loc='best')\n",
    "\n",
    "plt.show()"
   ]
  }
 ],
 "metadata": {
  "kernelspec": {
   "display_name": "anaconda3/5.1.0-gpu",
   "language": "python",
   "name": "anaconda3_5.1.0-gpu"
  },
  "language_info": {
   "codemirror_mode": {
    "name": "ipython",
    "version": 3
   },
   "file_extension": ".py",
   "mimetype": "text/x-python",
   "name": "python",
   "nbconvert_exporter": "python",
   "pygments_lexer": "ipython3",
   "version": "3.6.4"
  }
 },
 "nbformat": 4,
 "nbformat_minor": 2
}
