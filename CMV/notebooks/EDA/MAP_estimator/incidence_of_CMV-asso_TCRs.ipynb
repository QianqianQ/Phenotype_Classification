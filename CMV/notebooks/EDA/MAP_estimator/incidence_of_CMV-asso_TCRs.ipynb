{
 "cells": [
  {
   "cell_type": "markdown",
   "metadata": {},
   "source": [
    "# Incidence of CMV-associated TCRs\n",
    "\n",
    "**This notebook gets data about the incidence of the CMV-associated TCRs in two classes seperately, to check whether the TCRs are defined correctly** "
   ]
  },
  {
   "cell_type": "code",
   "execution_count": 2,
   "metadata": {},
   "outputs": [],
   "source": [
    "# data analysis and wrangling\n",
    "import pandas as pd\n",
    "import numpy as np\n",
    "import random as rnd\n",
    "import csv\n",
    "\n",
    "\n",
    "# visualization\n",
    "import seaborn as sns\n",
    "import matplotlib.pyplot as plt\n",
    "plt.rcParams['figure.figsize'] = 10,8\n",
    "plt.style.use('ggplot')\n",
    "%matplotlib inline\n",
    "\n",
    "import os\n",
    "import sys\n",
    "# print(sys.path)\n",
    "sys.path.insert(0,'../../')\n",
    "from utils import data_path,raw_data_path,raw_train_data_path,raw_test_data_path\n",
    "\n",
    "# from tqdm import tqdm\n",
    "import warnings\n",
    "warnings.filterwarnings(\"ignore\")"
   ]
  },
  {
   "cell_type": "markdown",
   "metadata": {},
   "source": [
    "## Processing CMV-associated TCRs"
   ]
  },
  {
   "cell_type": "markdown",
   "metadata": {},
   "source": [
    "### Load raw data"
   ]
  },
  {
   "cell_type": "code",
   "execution_count": 4,
   "metadata": {
    "scrolled": false
   },
   "outputs": [
    {
     "data": {
      "text/html": [
       "<div>\n",
       "<style scoped>\n",
       "    .dataframe tbody tr th:only-of-type {\n",
       "        vertical-align: middle;\n",
       "    }\n",
       "\n",
       "    .dataframe tbody tr th {\n",
       "        vertical-align: top;\n",
       "    }\n",
       "\n",
       "    .dataframe thead th {\n",
       "        text-align: right;\n",
       "    }\n",
       "</style>\n",
       "<table border=\"1\" class=\"dataframe\">\n",
       "  <thead>\n",
       "    <tr style=\"text-align: right;\">\n",
       "      <th></th>\n",
       "      <th>V gene</th>\n",
       "      <th>CDR3</th>\n",
       "      <th>J gene</th>\n",
       "      <th>Incidence in CMV+ subjects</th>\n",
       "      <th>Incidence in CMV- subjects</th>\n",
       "      <th>P-value</th>\n",
       "      <th>HLA restriction</th>\n",
       "    </tr>\n",
       "  </thead>\n",
       "  <tbody>\n",
       "    <tr>\n",
       "      <th>0</th>\n",
       "      <td>TCRBV09-01</td>\n",
       "      <td>CASSGQGAYEQYF</td>\n",
       "      <td>TCRBJ02-07*01</td>\n",
       "      <td>61</td>\n",
       "      <td>11</td>\n",
       "      <td>2.160000e-13</td>\n",
       "      <td>NaN</td>\n",
       "    </tr>\n",
       "    <tr>\n",
       "      <th>1</th>\n",
       "      <td>TCRBV19-01</td>\n",
       "      <td>CASSIGPLEHNEQFF</td>\n",
       "      <td>TCRBJ02-01*01</td>\n",
       "      <td>30</td>\n",
       "      <td>0</td>\n",
       "      <td>1.750000e-11</td>\n",
       "      <td>A1</td>\n",
       "    </tr>\n",
       "    <tr>\n",
       "      <th>2</th>\n",
       "      <td>TCRBV05-01*01</td>\n",
       "      <td>CASSPDRVGQETQYF</td>\n",
       "      <td>TCRBJ02-05*01</td>\n",
       "      <td>33</td>\n",
       "      <td>1</td>\n",
       "      <td>2.660000e-11</td>\n",
       "      <td>NaN</td>\n",
       "    </tr>\n",
       "    <tr>\n",
       "      <th>3</th>\n",
       "      <td>TCRBV07-02*01</td>\n",
       "      <td>CASSLEAEYEQYF</td>\n",
       "      <td>TCRBJ02-07*01</td>\n",
       "      <td>30</td>\n",
       "      <td>1</td>\n",
       "      <td>3.200000e-10</td>\n",
       "      <td>B8</td>\n",
       "    </tr>\n",
       "    <tr>\n",
       "      <th>4</th>\n",
       "      <td>TCRBV28-01*01</td>\n",
       "      <td>CASSIEGNQPQHF</td>\n",
       "      <td>TCRBJ01-05*01</td>\n",
       "      <td>26</td>\n",
       "      <td>0</td>\n",
       "      <td>5.310000e-10</td>\n",
       "      <td>NaN</td>\n",
       "    </tr>\n",
       "  </tbody>\n",
       "</table>\n",
       "</div>"
      ],
      "text/plain": [
       "          V gene             CDR3         J gene  Incidence in CMV+ subjects  \\\n",
       "0     TCRBV09-01    CASSGQGAYEQYF  TCRBJ02-07*01                          61   \n",
       "1     TCRBV19-01  CASSIGPLEHNEQFF  TCRBJ02-01*01                          30   \n",
       "2  TCRBV05-01*01  CASSPDRVGQETQYF  TCRBJ02-05*01                          33   \n",
       "3  TCRBV07-02*01    CASSLEAEYEQYF  TCRBJ02-07*01                          30   \n",
       "4  TCRBV28-01*01    CASSIEGNQPQHF  TCRBJ01-05*01                          26   \n",
       "\n",
       "   Incidence in CMV- subjects       P-value HLA restriction  \n",
       "0                          11  2.160000e-13             NaN  \n",
       "1                           0  1.750000e-11              A1  \n",
       "2                           1  2.660000e-11             NaN  \n",
       "3                           1  3.200000e-10              B8  \n",
       "4                           0  5.310000e-10             NaN  "
      ]
     },
     "execution_count": 4,
     "metadata": {},
     "output_type": "execute_result"
    }
   ],
   "source": [
    "CMV_associated = pd.read_excel('../'+raw_data_path+'CMV-associated.xlsx')\n",
    "\n",
    "CMV_associated.head()"
   ]
  },
  {
   "cell_type": "markdown",
   "metadata": {},
   "source": [
    "**The 'V gene' / 'J gene' containing '\\*' symbol means that it contains information about allele. The string before '-' is the family of the gene, while the number following '\\*' represents the allele.**\n",
    "\n",
    "**To match with the representation of the dataset, allelies should be extracted as a new column, and deleted from genes**"
   ]
  },
  {
   "cell_type": "markdown",
   "metadata": {},
   "source": [
    "### Get V family, J family"
   ]
  },
  {
   "cell_type": "code",
   "execution_count": 3,
   "metadata": {},
   "outputs": [],
   "source": [
    "def get_family(row,gene_col):\n",
    "    if row[gene_col].find('-')!=-1:\n",
    "        family, gene_num = row[gene_col].split('-')\n",
    "    else:\n",
    "        family = row[gene_col]\n",
    "    return family"
   ]
  },
  {
   "cell_type": "code",
   "execution_count": 4,
   "metadata": {},
   "outputs": [],
   "source": [
    "V_family = CMV_associated.apply(lambda row: get_family(row,'V gene'), axis=1)\n",
    "J_family = CMV_associated.apply(lambda row: get_family(row,'J gene'), axis=1)"
   ]
  },
  {
   "cell_type": "code",
   "execution_count": 5,
   "metadata": {},
   "outputs": [],
   "source": [
    "CMV_associated.insert(0,'V family',V_family)\n",
    "CMV_associated.insert(3,'J family',J_family)"
   ]
  },
  {
   "cell_type": "markdown",
   "metadata": {},
   "source": [
    "### Get V allele, J allele"
   ]
  },
  {
   "cell_type": "code",
   "execution_count": 6,
   "metadata": {},
   "outputs": [],
   "source": [
    "def get_allele(row,gene_col):\n",
    "    \n",
    "    if row[gene_col].find('*')!=-1: # if gene contains '*',meaning that it contains allele\n",
    "        gene,allele = row[gene_col].split('*') # get allele\n",
    "        \n",
    "        # To match the format of allele in the  dataset\n",
    "        if len(allele)>1 and allele[0]=='0':  \n",
    "            allele = np.float64(allele[1:]) # Drop the beginning '0' and then convert to float data type\n",
    "        else:\n",
    "            allele = np.float64(allele)\n",
    "    else:\n",
    "        allele = np.nan\n",
    "        \n",
    "    return allele"
   ]
  },
  {
   "cell_type": "code",
   "execution_count": 7,
   "metadata": {},
   "outputs": [],
   "source": [
    "V_allele = CMV_associated.apply(lambda row: get_allele(row,'V gene'), axis=1)\n",
    "J_allele = CMV_associated.apply(lambda row: get_allele(row,'J gene'), axis=1)"
   ]
  },
  {
   "cell_type": "code",
   "execution_count": 8,
   "metadata": {},
   "outputs": [],
   "source": [
    "CMV_associated.insert(2,'V allele',V_allele)\n",
    "CMV_associated.insert(6,'J allele',J_allele)"
   ]
  },
  {
   "cell_type": "markdown",
   "metadata": {},
   "source": [
    "### Modify V gene, J gene\n",
    "\n",
    "Deleting the information about allele in the raw data of V gene, J gene. And notice that the gene is 'unresolved' if the gene_num is not provided(No '-' symbol in the raw gene)"
   ]
  },
  {
   "cell_type": "code",
   "execution_count": 9,
   "metadata": {},
   "outputs": [],
   "source": [
    "def modify_gene(row,gene_col):\n",
    "    \n",
    "    # Deleting allele\n",
    "    if row[gene_col].find('*')!=-1: # if gene contains '*',meaning that it contains allele\n",
    "        gene,allele = row[gene_col].split('*') # delete allele\n",
    "    else: # if gene does not contain '*'\n",
    "        gene = row[gene_col] # keep original gene\n",
    "        \n",
    "    # if gene_num is not provided, set gene 'unresolved'\n",
    "    if gene.find('-')==-1:\n",
    "        gene = 'unresolved'\n",
    "    \n",
    "    return gene"
   ]
  },
  {
   "cell_type": "code",
   "execution_count": 10,
   "metadata": {},
   "outputs": [],
   "source": [
    "V_gene = CMV_associated.apply(lambda row: modify_gene(row,'V gene'), axis=1)\n",
    "J_gene = CMV_associated.apply(lambda row: modify_gene(row,'J gene'), axis=1)"
   ]
  },
  {
   "cell_type": "code",
   "execution_count": 11,
   "metadata": {},
   "outputs": [],
   "source": [
    "CMV_associated['V gene'] = V_gene\n",
    "CMV_associated['J gene'] = J_gene"
   ]
  },
  {
   "cell_type": "markdown",
   "metadata": {},
   "source": [
    "### Get TCRs"
   ]
  },
  {
   "cell_type": "code",
   "execution_count": 53,
   "metadata": {},
   "outputs": [],
   "source": [
    "CMV_associated.fillna(-1,inplace=True)\n",
    "\n",
    "CMV_associated['TCR'] = [ tuple(row[col] for col in ['V family','V gene','J family' ,\n",
    "                                'J gene','CDR3',]) for _, row in CMV_associated.iterrows()]\n",
    "\n",
    "# grouped = CMV_associated.fillna(-1).groupby(['V family','V gene','V allele',\n",
    "#                         'CDR3','V family','V gene','V allele'])\n",
    "\n",
    "# TCRs = np.array(list(grouped.groups.keys()))"
   ]
  },
  {
   "cell_type": "markdown",
   "metadata": {},
   "source": [
    "**Save the new table**"
   ]
  },
  {
   "cell_type": "code",
   "execution_count": 7,
   "metadata": {},
   "outputs": [],
   "source": [
    "# CMV_associated.to_csv(data_path+'CMV-associated_TCRs.csv',index=False)\n",
    "\n",
    "with open(data_path+'MAP_estimator/'+'inc_paper.pkl','wb') as f:\n",
    "        pickle.dump(CMV_associateds, f, pickle.HIGHEST_PROTOCOL)"
   ]
  },
  {
   "cell_type": "markdown",
   "metadata": {},
   "source": [
    "## Glimpse raw data\n",
    "\n",
    "**Have a look at a training file**"
   ]
  },
  {
   "cell_type": "markdown",
   "metadata": {},
   "source": [
    "### Preprocessing data"
   ]
  },
  {
   "cell_type": "code",
   "execution_count": 3,
   "metadata": {
    "scrolled": false
   },
   "outputs": [
    {
     "name": "stdout",
     "output_type": "stream",
     "text": [
      "666\n"
     ]
    }
   ],
   "source": [
    "# Get list of the names of the training files\n",
    "train_files = []\n",
    "for file in os.listdir(raw_train_data_path):\n",
    "    if ('.tsv' in file) and ('.tsv#' not in file):\n",
    "        train_files.append(file)\n",
    "print(len(train_files))"
   ]
  },
  {
   "cell_type": "code",
   "execution_count": 16,
   "metadata": {
    "scrolled": true
   },
   "outputs": [
    {
     "data": {
      "text/html": [
       "<div>\n",
       "<style scoped>\n",
       "    .dataframe tbody tr th:only-of-type {\n",
       "        vertical-align: middle;\n",
       "    }\n",
       "\n",
       "    .dataframe tbody tr th {\n",
       "        vertical-align: top;\n",
       "    }\n",
       "\n",
       "    .dataframe thead th {\n",
       "        text-align: right;\n",
       "    }\n",
       "</style>\n",
       "<table border=\"1\" class=\"dataframe\">\n",
       "  <thead>\n",
       "    <tr style=\"text-align: right;\">\n",
       "      <th></th>\n",
       "      <th>rearrangement</th>\n",
       "      <th>amino_acid</th>\n",
       "      <th>frame_type</th>\n",
       "      <th>rearrangement_type</th>\n",
       "      <th>templates</th>\n",
       "      <th>reads</th>\n",
       "      <th>frequency</th>\n",
       "      <th>productive_frequency</th>\n",
       "      <th>cdr3_length</th>\n",
       "      <th>v_family</th>\n",
       "      <th>...</th>\n",
       "      <th>max_productive_frequency</th>\n",
       "      <th>max_frequency</th>\n",
       "      <th>counting_method</th>\n",
       "      <th>primer_set</th>\n",
       "      <th>release_date</th>\n",
       "      <th>sample_tags</th>\n",
       "      <th>fraction_productive</th>\n",
       "      <th>order_name</th>\n",
       "      <th>kit_id</th>\n",
       "      <th>total_t_cells</th>\n",
       "    </tr>\n",
       "  </thead>\n",
       "  <tbody>\n",
       "    <tr>\n",
       "      <th>0</th>\n",
       "      <td>ATCCAGCCCTCAGAACCCAGGGACTCAGCTGTGTACTTCTGTGCCA...</td>\n",
       "      <td>CASSPGDSNQPQHF</td>\n",
       "      <td>In</td>\n",
       "      <td>VDJ</td>\n",
       "      <td>6</td>\n",
       "      <td>406</td>\n",
       "      <td>0.000052</td>\n",
       "      <td>0.000062</td>\n",
       "      <td>42</td>\n",
       "      <td>TCRBV12</td>\n",
       "      <td>...</td>\n",
       "      <td>0.002984</td>\n",
       "      <td>0.018284</td>\n",
       "      <td>v2</td>\n",
       "      <td>Human-TCRB-PD1x</td>\n",
       "      <td>2013-12-13 22:22:21.367</td>\n",
       "      <td>Age:46 Years,Biological Sex:Male,Cohort:Cohort...</td>\n",
       "      <td>0.835373</td>\n",
       "      <td>NaN</td>\n",
       "      <td>NaN</td>\n",
       "      <td>0</td>\n",
       "    </tr>\n",
       "    <tr>\n",
       "      <th>1</th>\n",
       "      <td>GAGTCGGCTGCTCCCTCCCAGACATCTGTGTACTTCTGTGCCAGCA...</td>\n",
       "      <td>CASNEDSFSGNTIYF</td>\n",
       "      <td>In</td>\n",
       "      <td>VDJ</td>\n",
       "      <td>5</td>\n",
       "      <td>404</td>\n",
       "      <td>0.000052</td>\n",
       "      <td>0.000062</td>\n",
       "      <td>45</td>\n",
       "      <td>TCRBV06</td>\n",
       "      <td>...</td>\n",
       "      <td>0.002984</td>\n",
       "      <td>0.018284</td>\n",
       "      <td>v2</td>\n",
       "      <td>Human-TCRB-PD1x</td>\n",
       "      <td>2013-12-13 22:22:21.367</td>\n",
       "      <td>Age:46 Years,Biological Sex:Male,Cohort:Cohort...</td>\n",
       "      <td>0.835373</td>\n",
       "      <td>NaN</td>\n",
       "      <td>NaN</td>\n",
       "      <td>0</td>\n",
       "    </tr>\n",
       "    <tr>\n",
       "      <th>2</th>\n",
       "      <td>CCGCTCAGGCTGGAGTTGGCTGCTCCCTCCCAGACATCTGTGTACT...</td>\n",
       "      <td>CASSYNSEQFF</td>\n",
       "      <td>In</td>\n",
       "      <td>VDJ</td>\n",
       "      <td>5</td>\n",
       "      <td>404</td>\n",
       "      <td>0.000052</td>\n",
       "      <td>0.000062</td>\n",
       "      <td>33</td>\n",
       "      <td>TCRBV06</td>\n",
       "      <td>...</td>\n",
       "      <td>0.002984</td>\n",
       "      <td>0.018284</td>\n",
       "      <td>v2</td>\n",
       "      <td>Human-TCRB-PD1x</td>\n",
       "      <td>2013-12-13 22:22:21.367</td>\n",
       "      <td>Age:46 Years,Biological Sex:Male,Cohort:Cohort...</td>\n",
       "      <td>0.835373</td>\n",
       "      <td>NaN</td>\n",
       "      <td>NaN</td>\n",
       "      <td>0</td>\n",
       "    </tr>\n",
       "    <tr>\n",
       "      <th>3</th>\n",
       "      <td>ACCAGTGCCCATCCTGAAGACAGCAGCTTCTACATCTGCAGTGCTA...</td>\n",
       "      <td>CSARDPVGGVNTIYF</td>\n",
       "      <td>In</td>\n",
       "      <td>VDJ</td>\n",
       "      <td>5</td>\n",
       "      <td>404</td>\n",
       "      <td>0.000052</td>\n",
       "      <td>0.000062</td>\n",
       "      <td>45</td>\n",
       "      <td>TCRBV20</td>\n",
       "      <td>...</td>\n",
       "      <td>0.002984</td>\n",
       "      <td>0.018284</td>\n",
       "      <td>v2</td>\n",
       "      <td>Human-TCRB-PD1x</td>\n",
       "      <td>2013-12-13 22:22:21.367</td>\n",
       "      <td>Age:46 Years,Biological Sex:Male,Cohort:Cohort...</td>\n",
       "      <td>0.835373</td>\n",
       "      <td>NaN</td>\n",
       "      <td>NaN</td>\n",
       "      <td>0</td>\n",
       "    </tr>\n",
       "    <tr>\n",
       "      <th>4</th>\n",
       "      <td>AAGATCCAGCCCTCAGAACCCAGGGACTCAGCTGTGTACTTCTGTG...</td>\n",
       "      <td>CASSLSLSYEQYF</td>\n",
       "      <td>In</td>\n",
       "      <td>VDJ</td>\n",
       "      <td>5</td>\n",
       "      <td>404</td>\n",
       "      <td>0.000052</td>\n",
       "      <td>0.000062</td>\n",
       "      <td>39</td>\n",
       "      <td>TCRBV12</td>\n",
       "      <td>...</td>\n",
       "      <td>0.002984</td>\n",
       "      <td>0.018284</td>\n",
       "      <td>v2</td>\n",
       "      <td>Human-TCRB-PD1x</td>\n",
       "      <td>2013-12-13 22:22:21.367</td>\n",
       "      <td>Age:46 Years,Biological Sex:Male,Cohort:Cohort...</td>\n",
       "      <td>0.835373</td>\n",
       "      <td>NaN</td>\n",
       "      <td>NaN</td>\n",
       "      <td>0</td>\n",
       "    </tr>\n",
       "  </tbody>\n",
       "</table>\n",
       "<p>5 rows × 81 columns</p>\n",
       "</div>"
      ],
      "text/plain": [
       "                                       rearrangement       amino_acid  \\\n",
       "0  ATCCAGCCCTCAGAACCCAGGGACTCAGCTGTGTACTTCTGTGCCA...   CASSPGDSNQPQHF   \n",
       "1  GAGTCGGCTGCTCCCTCCCAGACATCTGTGTACTTCTGTGCCAGCA...  CASNEDSFSGNTIYF   \n",
       "2  CCGCTCAGGCTGGAGTTGGCTGCTCCCTCCCAGACATCTGTGTACT...      CASSYNSEQFF   \n",
       "3  ACCAGTGCCCATCCTGAAGACAGCAGCTTCTACATCTGCAGTGCTA...  CSARDPVGGVNTIYF   \n",
       "4  AAGATCCAGCCCTCAGAACCCAGGGACTCAGCTGTGTACTTCTGTG...    CASSLSLSYEQYF   \n",
       "\n",
       "  frame_type rearrangement_type  templates  reads  frequency  \\\n",
       "0         In                VDJ          6    406   0.000052   \n",
       "1         In                VDJ          5    404   0.000052   \n",
       "2         In                VDJ          5    404   0.000052   \n",
       "3         In                VDJ          5    404   0.000052   \n",
       "4         In                VDJ          5    404   0.000052   \n",
       "\n",
       "   productive_frequency  cdr3_length v_family      ...        \\\n",
       "0              0.000062           42  TCRBV12      ...         \n",
       "1              0.000062           45  TCRBV06      ...         \n",
       "2              0.000062           33  TCRBV06      ...         \n",
       "3              0.000062           45  TCRBV20      ...         \n",
       "4              0.000062           39  TCRBV12      ...         \n",
       "\n",
       "  max_productive_frequency  max_frequency counting_method       primer_set  \\\n",
       "0                 0.002984       0.018284              v2  Human-TCRB-PD1x   \n",
       "1                 0.002984       0.018284              v2  Human-TCRB-PD1x   \n",
       "2                 0.002984       0.018284              v2  Human-TCRB-PD1x   \n",
       "3                 0.002984       0.018284              v2  Human-TCRB-PD1x   \n",
       "4                 0.002984       0.018284              v2  Human-TCRB-PD1x   \n",
       "\n",
       "              release_date                                        sample_tags  \\\n",
       "0  2013-12-13 22:22:21.367  Age:46 Years,Biological Sex:Male,Cohort:Cohort...   \n",
       "1  2013-12-13 22:22:21.367  Age:46 Years,Biological Sex:Male,Cohort:Cohort...   \n",
       "2  2013-12-13 22:22:21.367  Age:46 Years,Biological Sex:Male,Cohort:Cohort...   \n",
       "3  2013-12-13 22:22:21.367  Age:46 Years,Biological Sex:Male,Cohort:Cohort...   \n",
       "4  2013-12-13 22:22:21.367  Age:46 Years,Biological Sex:Male,Cohort:Cohort...   \n",
       "\n",
       "  fraction_productive  order_name  kit_id  total_t_cells  \n",
       "0            0.835373         NaN     NaN              0  \n",
       "1            0.835373         NaN     NaN              0  \n",
       "2            0.835373         NaN     NaN              0  \n",
       "3            0.835373         NaN     NaN              0  \n",
       "4            0.835373         NaN     NaN              0  \n",
       "\n",
       "[5 rows x 81 columns]"
      ]
     },
     "execution_count": 16,
     "metadata": {},
     "output_type": "execute_result"
    }
   ],
   "source": [
    "# The first file in the data path\n",
    "train_0 = pd.read_csv(raw_train_data_path+train_files[0], delimiter='\\t')\n",
    "\n",
    "# Look at the original data\n",
    "train_0.head()"
   ]
  },
  {
   "cell_type": "markdown",
   "metadata": {},
   "source": [
    "There are 81 columns in a sample, we only need some of them"
   ]
  },
  {
   "cell_type": "code",
   "execution_count": 17,
   "metadata": {},
   "outputs": [
    {
     "name": "stdout",
     "output_type": "stream",
     "text": [
      "amino_acid:          index: 1 data type: object\n",
      "frame_type:          index: 2 data type: object\n",
      "v_family:          index: 9 data type: object\n",
      "v_gene:          index: 10 data type: object\n",
      "v_allele:          index: 11 data type: float64\n",
      "j_family:          index: 15 data type: object\n",
      "j_gene:          index: 16 data type: object\n",
      "j_allele:          index: 17 data type: float64\n",
      "sample_name:          index: 42 data type: object\n",
      "productive_rearrangements:          index: 53 data type: int64\n"
     ]
    }
   ],
   "source": [
    "# Get index and data types of needed columns\n",
    "cols = train_0.columns.values.tolist()\n",
    "\n",
    "needed_cols = ['amino_acid','frame_type','v_family','v_gene','v_allele','j_family',\n",
    "               'j_gene','j_allele','sample_name','productive_rearrangements']\n",
    "\n",
    "for col in needed_cols:    \n",
    "    print(col+':'.ljust(10),'index:',cols.index(col),'data type:',train_0.dtypes[col])"
   ]
  },
  {
   "cell_type": "code",
   "execution_count": 19,
   "metadata": {},
   "outputs": [
    {
     "data": {
      "text/html": [
       "<div>\n",
       "<style scoped>\n",
       "    .dataframe tbody tr th:only-of-type {\n",
       "        vertical-align: middle;\n",
       "    }\n",
       "\n",
       "    .dataframe tbody tr th {\n",
       "        vertical-align: top;\n",
       "    }\n",
       "\n",
       "    .dataframe thead th {\n",
       "        text-align: right;\n",
       "    }\n",
       "</style>\n",
       "<table border=\"1\" class=\"dataframe\">\n",
       "  <thead>\n",
       "    <tr style=\"text-align: right;\">\n",
       "      <th></th>\n",
       "      <th>amino_acid</th>\n",
       "      <th>v_family</th>\n",
       "      <th>v_gene</th>\n",
       "      <th>v_allele</th>\n",
       "      <th>j_family</th>\n",
       "      <th>j_gene</th>\n",
       "      <th>j_allele</th>\n",
       "    </tr>\n",
       "  </thead>\n",
       "  <tbody>\n",
       "    <tr>\n",
       "      <th>0</th>\n",
       "      <td>CASSPGDSNQPQHF</td>\n",
       "      <td>TCRBV12</td>\n",
       "      <td>unresolved</td>\n",
       "      <td>-1.0</td>\n",
       "      <td>TCRBJ01</td>\n",
       "      <td>TCRBJ01-05</td>\n",
       "      <td>1.0</td>\n",
       "    </tr>\n",
       "    <tr>\n",
       "      <th>1</th>\n",
       "      <td>CASNEDSFSGNTIYF</td>\n",
       "      <td>TCRBV06</td>\n",
       "      <td>TCRBV06-01</td>\n",
       "      <td>1.0</td>\n",
       "      <td>TCRBJ01</td>\n",
       "      <td>TCRBJ01-03</td>\n",
       "      <td>1.0</td>\n",
       "    </tr>\n",
       "    <tr>\n",
       "      <th>2</th>\n",
       "      <td>CASSYNSEQFF</td>\n",
       "      <td>TCRBV06</td>\n",
       "      <td>TCRBV06-06</td>\n",
       "      <td>-1.0</td>\n",
       "      <td>TCRBJ02</td>\n",
       "      <td>TCRBJ02-01</td>\n",
       "      <td>1.0</td>\n",
       "    </tr>\n",
       "    <tr>\n",
       "      <th>3</th>\n",
       "      <td>CSARDPVGGVNTIYF</td>\n",
       "      <td>TCRBV20</td>\n",
       "      <td>unresolved</td>\n",
       "      <td>-1.0</td>\n",
       "      <td>TCRBJ01</td>\n",
       "      <td>TCRBJ01-03</td>\n",
       "      <td>1.0</td>\n",
       "    </tr>\n",
       "    <tr>\n",
       "      <th>4</th>\n",
       "      <td>CASSLSLSYEQYF</td>\n",
       "      <td>TCRBV12</td>\n",
       "      <td>unresolved</td>\n",
       "      <td>-1.0</td>\n",
       "      <td>TCRBJ02</td>\n",
       "      <td>TCRBJ02-07</td>\n",
       "      <td>1.0</td>\n",
       "    </tr>\n",
       "  </tbody>\n",
       "</table>\n",
       "</div>"
      ],
      "text/plain": [
       "        amino_acid v_family      v_gene  v_allele j_family      j_gene  \\\n",
       "0   CASSPGDSNQPQHF  TCRBV12  unresolved      -1.0  TCRBJ01  TCRBJ01-05   \n",
       "1  CASNEDSFSGNTIYF  TCRBV06  TCRBV06-01       1.0  TCRBJ01  TCRBJ01-03   \n",
       "2      CASSYNSEQFF  TCRBV06  TCRBV06-06      -1.0  TCRBJ02  TCRBJ02-01   \n",
       "3  CSARDPVGGVNTIYF  TCRBV20  unresolved      -1.0  TCRBJ01  TCRBJ01-03   \n",
       "4    CASSLSLSYEQYF  TCRBV12  unresolved      -1.0  TCRBJ02  TCRBJ02-07   \n",
       "\n",
       "   j_allele  \n",
       "0       1.0  \n",
       "1       1.0  \n",
       "2       1.0  \n",
       "3       1.0  \n",
       "4       1.0  "
      ]
     },
     "execution_count": 19,
     "metadata": {},
     "output_type": "execute_result"
    }
   ],
   "source": [
    "train_0 = train_0[needed_cols] # Only keep needed columns\n",
    "train_0 = train_0[train_0.frame_type=='In'] # Only frame_type==In are kept\n",
    "\n",
    "sample_name = train_0['sample_name'][0] \n",
    "producitve_rearrangements = train_0['productive_rearrangements'][0]\n",
    "\n",
    "# only keep the five columns realated to TCRs\n",
    "train_0.drop(['frame_type','sample_name','productive_rearrangements'],axis=1,inplace=True)\n",
    "train_0.fillna(-1,inplace=True)\n",
    "train_0.reset_index(drop=True,inplace=True)\n",
    "\n",
    "train_0.head()"
   ]
  },
  {
   "cell_type": "markdown",
   "metadata": {},
   "source": [
    "### Counting by groups"
   ]
  },
  {
   "cell_type": "markdown",
   "metadata": {},
   "source": [
    "#### by family"
   ]
  },
  {
   "cell_type": "code",
   "execution_count": 20,
   "metadata": {
    "scrolled": true
   },
   "outputs": [
    {
     "data": {
      "text/plain": [
       "TCRBV06    16102\n",
       "TCRBV05    14835\n",
       "TCRBV07    14725\n",
       "TCRBV20     9573\n",
       "TCRBV28     8783\n",
       "TCRBV12     8070\n",
       "TCRBV19     7664\n",
       "TCRBV02     5739\n",
       "TCRBV03     5149\n",
       "TCRBV04     4788\n",
       "TCRBV18     4286\n",
       "TCRBV09     3874\n",
       "TCRBV11     3851\n",
       "TCRBV27     3705\n",
       "TCRBV10     3451\n",
       "TCRBV29     3348\n",
       "TCRBV30     2008\n",
       "TCRBV24     1735\n",
       "TCRBV15     1441\n",
       "TCRBV14     1400\n",
       "TCRBV25     1182\n",
       "TCRBV13      634\n",
       "TCRBV21      516\n",
       "TCRBV23      164\n",
       "TCRBV16      127\n",
       "-1           117\n",
       "TCRBV01       58\n",
       "TCRBVA         1\n",
       "Name: v_family, dtype: int64"
      ]
     },
     "execution_count": 20,
     "metadata": {},
     "output_type": "execute_result"
    }
   ],
   "source": [
    "train_0['v_family'].value_counts()"
   ]
  },
  {
   "cell_type": "code",
   "execution_count": 21,
   "metadata": {
    "scrolled": true
   },
   "outputs": [
    {
     "data": {
      "text/plain": [
       "TCRBJ02    79018\n",
       "TCRBJ01    48308\n",
       "Name: j_family, dtype: int64"
      ]
     },
     "execution_count": 21,
     "metadata": {},
     "output_type": "execute_result"
    }
   ],
   "source": [
    "train_0['j_family'].value_counts()"
   ]
  },
  {
   "cell_type": "markdown",
   "metadata": {},
   "source": [
    "#### by gene"
   ]
  },
  {
   "cell_type": "code",
   "execution_count": 22,
   "metadata": {
    "scrolled": true
   },
   "outputs": [
    {
     "data": {
      "text/plain": [
       "unresolved        26262\n",
       "TCRBV28-01         8783\n",
       "TCRBV05-01         8774\n",
       "TCRBV19-01         7664\n",
       "TCRBV07-09         6025\n",
       "TCRBV02-01         5739\n",
       "TCRBV06-01         5141\n",
       "TCRBV06-05         4884\n",
       "TCRBV18-01         4286\n",
       "TCRBV09-01         3874\n",
       "TCRBV27-01         3705\n",
       "TCRBV29-01         3348\n",
       "TCRBV07-02         3012\n",
       "TCRBV04-01         2671\n",
       "TCRBV11-02         2567\n",
       "TCRBV10-03         2397\n",
       "TCRBV07-03         2202\n",
       "TCRBV05-04         2180\n",
       "TCRBV06-06         2137\n",
       "TCRBV04-02         2099\n",
       "TCRBV30-01         2008\n",
       "TCRBV05-06         1965\n",
       "TCRBV07-08         1912\n",
       "TCRBV15-01         1441\n",
       "TCRBV14-01         1400\n",
       "TCRBV25-01         1158\n",
       "TCRBV07-06         1069\n",
       "TCRBV05-05         1059\n",
       "TCRBV12-05          881\n",
       "TCRBV06-04          855\n",
       "TCRBV11-03          758\n",
       "TCRBV05-08          698\n",
       "TCRBV13-01          634\n",
       "TCRBV10-01          559\n",
       "TCRBV11-01          519\n",
       "TCRBV21-01          516\n",
       "TCRBV20-01          512\n",
       "TCRBV10-02          495\n",
       "TCRBV07-07          470\n",
       "TCRBV23-01          164\n",
       "TCRBV16-01          127\n",
       "TCRBV05-03           97\n",
       "TCRBV12-02           63\n",
       "TCRBV01-01           58\n",
       "TCRBV12-01           33\n",
       "TCRBV06-07           27\n",
       "TCRBV06-08           21\n",
       "TCRBV06-09           19\n",
       "TCRBV04-03           16\n",
       "TCRBV05-07           15\n",
       "TCRBV07-05           15\n",
       "TCRBV07-04           11\n",
       "TCRBVA-or09_02        1\n",
       "Name: v_gene, dtype: int64"
      ]
     },
     "execution_count": 22,
     "metadata": {},
     "output_type": "execute_result"
    }
   ],
   "source": [
    "train_0['v_gene'].value_counts()"
   ]
  },
  {
   "cell_type": "code",
   "execution_count": 23,
   "metadata": {
    "scrolled": false
   },
   "outputs": [
    {
     "data": {
      "text/plain": [
       "TCRBJ02-07    20960\n",
       "TCRBJ02-01    20065\n",
       "TCRBJ01-01    14536\n",
       "TCRBJ02-03    11773\n",
       "TCRBJ02-05    11674\n",
       "TCRBJ01-02    10635\n",
       "TCRBJ01-05    10415\n",
       "TCRBJ02-02     9137\n",
       "TCRBJ01-04     5470\n",
       "TCRBJ01-03     4305\n",
       "TCRBJ02-06     3092\n",
       "TCRBJ01-06     2947\n",
       "TCRBJ02-04     2225\n",
       "unresolved       92\n",
       "Name: j_gene, dtype: int64"
      ]
     },
     "execution_count": 23,
     "metadata": {},
     "output_type": "execute_result"
    }
   ],
   "source": [
    "train_0['j_gene'].value_counts()"
   ]
  },
  {
   "cell_type": "markdown",
   "metadata": {},
   "source": [
    "#### by CDR3 amino acid"
   ]
  },
  {
   "cell_type": "code",
   "execution_count": 24,
   "metadata": {
    "scrolled": true
   },
   "outputs": [
    {
     "data": {
      "text/plain": [
       "CASSLGYEQYF           15\n",
       "CASSYSNGGEAFF         13\n",
       "CASSPSYEQYF           12\n",
       "CASSLSYEQYF           11\n",
       "CASSLGGNQPQHF         10\n",
       "CASSYRETDTQYF         10\n",
       "CASSLYNEQFF            9\n",
       "CASSQGYEQYF            9\n",
       "CASSLAGTDTQYF          9\n",
       "CASSLGQSQPQHF          9\n",
       "CASSLAVAVYEQYF         9\n",
       "CASSSSYEQYF            8\n",
       "CASSLSTDTQYF           8\n",
       "CASSLSGSSYEQYF         8\n",
       "CASSLGGNTEAFF          8\n",
       "CASSRDSYEQYF           8\n",
       "CASSLGGSYEQYF          8\n",
       "CASSLQGDYGYTF          8\n",
       "CASSQEVTSYEQYF         8\n",
       "CASSLGQNTEAFF          7\n",
       "CASSSSTDTQYF           7\n",
       "CASSLDSYGYTF           7\n",
       "CASSLGQNYGYTF          7\n",
       "CASSPRGYNEQFF          7\n",
       "CASSLQETQYF            7\n",
       "CASSPDSNQPQHF          7\n",
       "CASSLGPNTEAFF          7\n",
       "CASSSSSGRSYNEQFF       7\n",
       "CASSETGTTYEQYF         7\n",
       "CASSSLDNQPQHF          6\n",
       "                      ..\n",
       "CASKGSTGLTDTQYF        1\n",
       "CASTLLAGGGNEQFF        1\n",
       "CASSYPDGSEQYF          1\n",
       "CASSSGTGGALGEKLFF      1\n",
       "CAITQGGTRADTQYF        1\n",
       "CASSLQTGNYGYTF         1\n",
       "CASSPRGISTDTQYF        1\n",
       "CSARGGRGNTEAFF         1\n",
       "CASSPLSVSSYEQYF        1\n",
       "CASSGDRANTEAFF         1\n",
       "CASSDPGLAGGWHTQYF      1\n",
       "CASSSLSGETGNTIYF       1\n",
       "CASSYSRDLYEQYF         1\n",
       "CASSSGTGSGNTIYF        1\n",
       "CASSFRGAGRKLFF         1\n",
       "CASSAGTSRSGANVLTF      1\n",
       "CASSPGQENTEAFF         1\n",
       "CASSFKTGELFF           1\n",
       "CASSMGSDRRAGANVLTF     1\n",
       "CATSDLIGGRETQYF        1\n",
       "CASSAKIYQPQHF          1\n",
       "CASSISQTEAFF           1\n",
       "CAWSVSGSKNIQYF         1\n",
       "CSARTGGASTEAFF         1\n",
       "CASSILAGDHFYEQYF       1\n",
       "CASSQRIQTLQETQYF       1\n",
       "CASNVLRDRDKVTF         1\n",
       "CASSLTREHNEQFF         1\n",
       "CASSPGTLNIQYF          1\n",
       "CASSHPISPDSPLHF        1\n",
       "Name: amino_acid, Length: 117418, dtype: int64"
      ]
     },
     "execution_count": 24,
     "metadata": {},
     "output_type": "execute_result"
    }
   ],
   "source": [
    "train_0['amino_acid'].value_counts()"
   ]
  }
 ],
 "metadata": {
  "kernelspec": {
   "display_name": "Python 3",
   "language": "python",
   "name": "python3"
  },
  "language_info": {
   "codemirror_mode": {
    "name": "ipython",
    "version": 3
   },
   "file_extension": ".py",
   "mimetype": "text/x-python",
   "name": "python",
   "nbconvert_exporter": "python",
   "pygments_lexer": "ipython3",
   "version": "3.7.3"
  },
  "varInspector": {
   "cols": {
    "lenName": 16,
    "lenType": 16,
    "lenVar": 40
   },
   "kernels_config": {
    "python": {
     "delete_cmd_postfix": "",
     "delete_cmd_prefix": "del ",
     "library": "var_list.py",
     "varRefreshCmd": "print(var_dic_list())"
    },
    "r": {
     "delete_cmd_postfix": ") ",
     "delete_cmd_prefix": "rm(",
     "library": "var_list.r",
     "varRefreshCmd": "cat(var_dic_list()) "
    }
   },
   "types_to_exclude": [
    "module",
    "function",
    "builtin_function_or_method",
    "instance",
    "_Feature"
   ],
   "window_display": false
  }
 },
 "nbformat": 4,
 "nbformat_minor": 2
}
